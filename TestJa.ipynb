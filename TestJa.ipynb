{
 "cells": [
  {
   "cell_type": "code",
   "execution_count": 10,
   "metadata": {},
   "outputs": [
    {
     "data": {
      "application/vnd.plotly.v1+json": {
       "config": {
        "plotlyServerURL": "https://plot.ly"
       },
       "data": [
        {
         "coloraxis": "coloraxis",
         "featureidkey": "properties.ST_NM",
         "geo": "geo",
         "geojson": "https://gist.githubusercontent.com/jbrobst/56c13bbbf9d97d187fea01ca62ea5112/raw/e388c4cae20aa53cb5090210a42ebb9b765c0a36/india_states.geojson",
         "hovertemplate": "state=%{location}<br>active cases=%{z}<extra></extra>",
         "locations": [
          "Andaman & Nicobar",
          "Andhra Pradesh",
          "Arunachal Pradesh",
          "Assam",
          "Bihar",
          "Chandigarh",
          "Chhattisgarh",
          "Dadra and Nagar Haveli and Daman and Diu",
          "Delhi",
          "Goa",
          "Gujarat",
          "Haryana",
          "Himachal Pradesh",
          "Jammu & Kashmir",
          "Jharkhand",
          "Karnataka",
          "Kerala",
          "Ladakh",
          "Madhya Pradesh",
          "Maharashtra",
          "Manipur",
          "Meghalaya",
          "Mizoram",
          "Nagaland",
          "Odisha",
          "Puducherry",
          "Punjab",
          "Rajasthan",
          "Sikkim",
          "Tamil Nadu",
          "Telangana",
          "Tripura",
          "Uttarakhand",
          "Uttar Pradesh",
          "West Bengal"
         ],
         "name": "",
         "type": "choropleth",
         "z": [
          47,
          18159,
          387,
          6818,
          7549,
          164,
          1260,
          179,
          17407,
          1272,
          11289,
          5495,
          382,
          5488,
          2069,
          30661,
          5376,
          176,
          5562,
          114947,
          635,
          309,
          112,
          525,
          4436,
          774,
          2587,
          6666,
          155,
          46717,
          13327,
          676,
          937,
          15720,
          13679
         ]
        }
       ],
       "layout": {
        "coloraxis": {
         "colorbar": {
          "title": {
           "text": "active cases"
          }
         },
         "colorscale": [
          [
           0,
           "rgb(255,245,240)"
          ],
          [
           0.125,
           "rgb(254,224,210)"
          ],
          [
           0.25,
           "rgb(252,187,161)"
          ],
          [
           0.375,
           "rgb(252,146,114)"
          ],
          [
           0.5,
           "rgb(251,106,74)"
          ],
          [
           0.625,
           "rgb(239,59,44)"
          ],
          [
           0.75,
           "rgb(203,24,29)"
          ],
          [
           0.875,
           "rgb(165,15,21)"
          ],
          [
           1,
           "rgb(103,0,13)"
          ]
         ]
        },
        "geo": {
         "center": {},
         "domain": {
          "x": [
           0,
           1
          ],
          "y": [
           0,
           1
          ]
         },
         "fitbounds": "locations",
         "visible": false
        },
        "legend": {
         "tracegroupgap": 0
        },
        "margin": {
         "t": 60
        },
        "template": {
         "data": {
          "bar": [
           {
            "error_x": {
             "color": "#2a3f5f"
            },
            "error_y": {
             "color": "#2a3f5f"
            },
            "marker": {
             "line": {
              "color": "#E5ECF6",
              "width": 0.5
             }
            },
            "type": "bar"
           }
          ],
          "barpolar": [
           {
            "marker": {
             "line": {
              "color": "#E5ECF6",
              "width": 0.5
             }
            },
            "type": "barpolar"
           }
          ],
          "carpet": [
           {
            "aaxis": {
             "endlinecolor": "#2a3f5f",
             "gridcolor": "white",
             "linecolor": "white",
             "minorgridcolor": "white",
             "startlinecolor": "#2a3f5f"
            },
            "baxis": {
             "endlinecolor": "#2a3f5f",
             "gridcolor": "white",
             "linecolor": "white",
             "minorgridcolor": "white",
             "startlinecolor": "#2a3f5f"
            },
            "type": "carpet"
           }
          ],
          "choropleth": [
           {
            "colorbar": {
             "outlinewidth": 0,
             "ticks": ""
            },
            "type": "choropleth"
           }
          ],
          "contour": [
           {
            "colorbar": {
             "outlinewidth": 0,
             "ticks": ""
            },
            "colorscale": [
             [
              0,
              "#0d0887"
             ],
             [
              0.1111111111111111,
              "#46039f"
             ],
             [
              0.2222222222222222,
              "#7201a8"
             ],
             [
              0.3333333333333333,
              "#9c179e"
             ],
             [
              0.4444444444444444,
              "#bd3786"
             ],
             [
              0.5555555555555556,
              "#d8576b"
             ],
             [
              0.6666666666666666,
              "#ed7953"
             ],
             [
              0.7777777777777778,
              "#fb9f3a"
             ],
             [
              0.8888888888888888,
              "#fdca26"
             ],
             [
              1,
              "#f0f921"
             ]
            ],
            "type": "contour"
           }
          ],
          "contourcarpet": [
           {
            "colorbar": {
             "outlinewidth": 0,
             "ticks": ""
            },
            "type": "contourcarpet"
           }
          ],
          "heatmap": [
           {
            "colorbar": {
             "outlinewidth": 0,
             "ticks": ""
            },
            "colorscale": [
             [
              0,
              "#0d0887"
             ],
             [
              0.1111111111111111,
              "#46039f"
             ],
             [
              0.2222222222222222,
              "#7201a8"
             ],
             [
              0.3333333333333333,
              "#9c179e"
             ],
             [
              0.4444444444444444,
              "#bd3786"
             ],
             [
              0.5555555555555556,
              "#d8576b"
             ],
             [
              0.6666666666666666,
              "#ed7953"
             ],
             [
              0.7777777777777778,
              "#fb9f3a"
             ],
             [
              0.8888888888888888,
              "#fdca26"
             ],
             [
              1,
              "#f0f921"
             ]
            ],
            "type": "heatmap"
           }
          ],
          "heatmapgl": [
           {
            "colorbar": {
             "outlinewidth": 0,
             "ticks": ""
            },
            "colorscale": [
             [
              0,
              "#0d0887"
             ],
             [
              0.1111111111111111,
              "#46039f"
             ],
             [
              0.2222222222222222,
              "#7201a8"
             ],
             [
              0.3333333333333333,
              "#9c179e"
             ],
             [
              0.4444444444444444,
              "#bd3786"
             ],
             [
              0.5555555555555556,
              "#d8576b"
             ],
             [
              0.6666666666666666,
              "#ed7953"
             ],
             [
              0.7777777777777778,
              "#fb9f3a"
             ],
             [
              0.8888888888888888,
              "#fdca26"
             ],
             [
              1,
              "#f0f921"
             ]
            ],
            "type": "heatmapgl"
           }
          ],
          "histogram": [
           {
            "marker": {
             "colorbar": {
              "outlinewidth": 0,
              "ticks": ""
             }
            },
            "type": "histogram"
           }
          ],
          "histogram2d": [
           {
            "colorbar": {
             "outlinewidth": 0,
             "ticks": ""
            },
            "colorscale": [
             [
              0,
              "#0d0887"
             ],
             [
              0.1111111111111111,
              "#46039f"
             ],
             [
              0.2222222222222222,
              "#7201a8"
             ],
             [
              0.3333333333333333,
              "#9c179e"
             ],
             [
              0.4444444444444444,
              "#bd3786"
             ],
             [
              0.5555555555555556,
              "#d8576b"
             ],
             [
              0.6666666666666666,
              "#ed7953"
             ],
             [
              0.7777777777777778,
              "#fb9f3a"
             ],
             [
              0.8888888888888888,
              "#fdca26"
             ],
             [
              1,
              "#f0f921"
             ]
            ],
            "type": "histogram2d"
           }
          ],
          "histogram2dcontour": [
           {
            "colorbar": {
             "outlinewidth": 0,
             "ticks": ""
            },
            "colorscale": [
             [
              0,
              "#0d0887"
             ],
             [
              0.1111111111111111,
              "#46039f"
             ],
             [
              0.2222222222222222,
              "#7201a8"
             ],
             [
              0.3333333333333333,
              "#9c179e"
             ],
             [
              0.4444444444444444,
              "#bd3786"
             ],
             [
              0.5555555555555556,
              "#d8576b"
             ],
             [
              0.6666666666666666,
              "#ed7953"
             ],
             [
              0.7777777777777778,
              "#fb9f3a"
             ],
             [
              0.8888888888888888,
              "#fdca26"
             ],
             [
              1,
              "#f0f921"
             ]
            ],
            "type": "histogram2dcontour"
           }
          ],
          "mesh3d": [
           {
            "colorbar": {
             "outlinewidth": 0,
             "ticks": ""
            },
            "type": "mesh3d"
           }
          ],
          "parcoords": [
           {
            "line": {
             "colorbar": {
              "outlinewidth": 0,
              "ticks": ""
             }
            },
            "type": "parcoords"
           }
          ],
          "pie": [
           {
            "automargin": true,
            "type": "pie"
           }
          ],
          "scatter": [
           {
            "marker": {
             "colorbar": {
              "outlinewidth": 0,
              "ticks": ""
             }
            },
            "type": "scatter"
           }
          ],
          "scatter3d": [
           {
            "line": {
             "colorbar": {
              "outlinewidth": 0,
              "ticks": ""
             }
            },
            "marker": {
             "colorbar": {
              "outlinewidth": 0,
              "ticks": ""
             }
            },
            "type": "scatter3d"
           }
          ],
          "scattercarpet": [
           {
            "marker": {
             "colorbar": {
              "outlinewidth": 0,
              "ticks": ""
             }
            },
            "type": "scattercarpet"
           }
          ],
          "scattergeo": [
           {
            "marker": {
             "colorbar": {
              "outlinewidth": 0,
              "ticks": ""
             }
            },
            "type": "scattergeo"
           }
          ],
          "scattergl": [
           {
            "marker": {
             "colorbar": {
              "outlinewidth": 0,
              "ticks": ""
             }
            },
            "type": "scattergl"
           }
          ],
          "scattermapbox": [
           {
            "marker": {
             "colorbar": {
              "outlinewidth": 0,
              "ticks": ""
             }
            },
            "type": "scattermapbox"
           }
          ],
          "scatterpolar": [
           {
            "marker": {
             "colorbar": {
              "outlinewidth": 0,
              "ticks": ""
             }
            },
            "type": "scatterpolar"
           }
          ],
          "scatterpolargl": [
           {
            "marker": {
             "colorbar": {
              "outlinewidth": 0,
              "ticks": ""
             }
            },
            "type": "scatterpolargl"
           }
          ],
          "scatterternary": [
           {
            "marker": {
             "colorbar": {
              "outlinewidth": 0,
              "ticks": ""
             }
            },
            "type": "scatterternary"
           }
          ],
          "surface": [
           {
            "colorbar": {
             "outlinewidth": 0,
             "ticks": ""
            },
            "colorscale": [
             [
              0,
              "#0d0887"
             ],
             [
              0.1111111111111111,
              "#46039f"
             ],
             [
              0.2222222222222222,
              "#7201a8"
             ],
             [
              0.3333333333333333,
              "#9c179e"
             ],
             [
              0.4444444444444444,
              "#bd3786"
             ],
             [
              0.5555555555555556,
              "#d8576b"
             ],
             [
              0.6666666666666666,
              "#ed7953"
             ],
             [
              0.7777777777777778,
              "#fb9f3a"
             ],
             [
              0.8888888888888888,
              "#fdca26"
             ],
             [
              1,
              "#f0f921"
             ]
            ],
            "type": "surface"
           }
          ],
          "table": [
           {
            "cells": {
             "fill": {
              "color": "#EBF0F8"
             },
             "line": {
              "color": "white"
             }
            },
            "header": {
             "fill": {
              "color": "#C8D4E3"
             },
             "line": {
              "color": "white"
             }
            },
            "type": "table"
           }
          ]
         },
         "layout": {
          "annotationdefaults": {
           "arrowcolor": "#2a3f5f",
           "arrowhead": 0,
           "arrowwidth": 1
          },
          "coloraxis": {
           "colorbar": {
            "outlinewidth": 0,
            "ticks": ""
           }
          },
          "colorscale": {
           "diverging": [
            [
             0,
             "#8e0152"
            ],
            [
             0.1,
             "#c51b7d"
            ],
            [
             0.2,
             "#de77ae"
            ],
            [
             0.3,
             "#f1b6da"
            ],
            [
             0.4,
             "#fde0ef"
            ],
            [
             0.5,
             "#f7f7f7"
            ],
            [
             0.6,
             "#e6f5d0"
            ],
            [
             0.7,
             "#b8e186"
            ],
            [
             0.8,
             "#7fbc41"
            ],
            [
             0.9,
             "#4d9221"
            ],
            [
             1,
             "#276419"
            ]
           ],
           "sequential": [
            [
             0,
             "#0d0887"
            ],
            [
             0.1111111111111111,
             "#46039f"
            ],
            [
             0.2222222222222222,
             "#7201a8"
            ],
            [
             0.3333333333333333,
             "#9c179e"
            ],
            [
             0.4444444444444444,
             "#bd3786"
            ],
            [
             0.5555555555555556,
             "#d8576b"
            ],
            [
             0.6666666666666666,
             "#ed7953"
            ],
            [
             0.7777777777777778,
             "#fb9f3a"
            ],
            [
             0.8888888888888888,
             "#fdca26"
            ],
            [
             1,
             "#f0f921"
            ]
           ],
           "sequentialminus": [
            [
             0,
             "#0d0887"
            ],
            [
             0.1111111111111111,
             "#46039f"
            ],
            [
             0.2222222222222222,
             "#7201a8"
            ],
            [
             0.3333333333333333,
             "#9c179e"
            ],
            [
             0.4444444444444444,
             "#bd3786"
            ],
            [
             0.5555555555555556,
             "#d8576b"
            ],
            [
             0.6666666666666666,
             "#ed7953"
            ],
            [
             0.7777777777777778,
             "#fb9f3a"
            ],
            [
             0.8888888888888888,
             "#fdca26"
            ],
            [
             1,
             "#f0f921"
            ]
           ]
          },
          "colorway": [
           "#636efa",
           "#EF553B",
           "#00cc96",
           "#ab63fa",
           "#FFA15A",
           "#19d3f3",
           "#FF6692",
           "#B6E880",
           "#FF97FF",
           "#FECB52"
          ],
          "font": {
           "color": "#2a3f5f"
          },
          "geo": {
           "bgcolor": "white",
           "lakecolor": "white",
           "landcolor": "#E5ECF6",
           "showlakes": true,
           "showland": true,
           "subunitcolor": "white"
          },
          "hoverlabel": {
           "align": "left"
          },
          "hovermode": "closest",
          "mapbox": {
           "style": "light"
          },
          "paper_bgcolor": "white",
          "plot_bgcolor": "#E5ECF6",
          "polar": {
           "angularaxis": {
            "gridcolor": "white",
            "linecolor": "white",
            "ticks": ""
           },
           "bgcolor": "#E5ECF6",
           "radialaxis": {
            "gridcolor": "white",
            "linecolor": "white",
            "ticks": ""
           }
          },
          "scene": {
           "xaxis": {
            "backgroundcolor": "#E5ECF6",
            "gridcolor": "white",
            "gridwidth": 2,
            "linecolor": "white",
            "showbackground": true,
            "ticks": "",
            "zerolinecolor": "white"
           },
           "yaxis": {
            "backgroundcolor": "#E5ECF6",
            "gridcolor": "white",
            "gridwidth": 2,
            "linecolor": "white",
            "showbackground": true,
            "ticks": "",
            "zerolinecolor": "white"
           },
           "zaxis": {
            "backgroundcolor": "#E5ECF6",
            "gridcolor": "white",
            "gridwidth": 2,
            "linecolor": "white",
            "showbackground": true,
            "ticks": "",
            "zerolinecolor": "white"
           }
          },
          "shapedefaults": {
           "line": {
            "color": "#2a3f5f"
           }
          },
          "ternary": {
           "aaxis": {
            "gridcolor": "white",
            "linecolor": "white",
            "ticks": ""
           },
           "baxis": {
            "gridcolor": "white",
            "linecolor": "white",
            "ticks": ""
           },
           "bgcolor": "#E5ECF6",
           "caxis": {
            "gridcolor": "white",
            "linecolor": "white",
            "ticks": ""
           }
          },
          "title": {
           "x": 0.05
          },
          "xaxis": {
           "automargin": true,
           "gridcolor": "white",
           "linecolor": "white",
           "ticks": "",
           "title": {
            "standoff": 15
           },
           "zerolinecolor": "white",
           "zerolinewidth": 2
          },
          "yaxis": {
           "automargin": true,
           "gridcolor": "white",
           "linecolor": "white",
           "ticks": "",
           "title": {
            "standoff": 15
           },
           "zerolinecolor": "white",
           "zerolinewidth": 2
          }
         }
        }
       }
      },
      "text/html": [
       "<div>                            <div id=\"39f4c283-aeae-48d7-910a-2d6c83ecdc8d\" class=\"plotly-graph-div\" style=\"height:525px; width:100%;\"></div>            <script type=\"text/javascript\">                require([\"plotly\"], function(Plotly) {                    window.PLOTLYENV=window.PLOTLYENV || {};                                    if (document.getElementById(\"39f4c283-aeae-48d7-910a-2d6c83ecdc8d\")) {                    Plotly.newPlot(                        \"39f4c283-aeae-48d7-910a-2d6c83ecdc8d\",                        [{\"coloraxis\": \"coloraxis\", \"featureidkey\": \"properties.ST_NM\", \"geo\": \"geo\", \"geojson\": \"https://gist.githubusercontent.com/jbrobst/56c13bbbf9d97d187fea01ca62ea5112/raw/e388c4cae20aa53cb5090210a42ebb9b765c0a36/india_states.geojson\", \"hovertemplate\": \"state=%{location}<br>active cases=%{z}<extra></extra>\", \"locations\": [\"Andaman & Nicobar\", \"Andhra Pradesh\", \"Arunachal Pradesh\", \"Assam\", \"Bihar\", \"Chandigarh\", \"Chhattisgarh\", \"Dadra and Nagar Haveli and Daman and Diu\", \"Delhi\", \"Goa\", \"Gujarat\", \"Haryana\", \"Himachal Pradesh\", \"Jammu & Kashmir\", \"Jharkhand\", \"Karnataka\", \"Kerala\", \"Ladakh\", \"Madhya Pradesh\", \"Maharashtra\", \"Manipur\", \"Meghalaya\", \"Mizoram\", \"Nagaland\", \"Odisha\", \"Puducherry\", \"Punjab\", \"Rajasthan\", \"Sikkim\", \"Tamil Nadu\", \"Telangana\", \"Tripura\", \"Uttarakhand\", \"Uttar Pradesh\", \"West Bengal\"], \"name\": \"\", \"type\": \"choropleth\", \"z\": [47, 18159, 387, 6818, 7549, 164, 1260, 179, 17407, 1272, 11289, 5495, 382, 5488, 2069, 30661, 5376, 176, 5562, 114947, 635, 309, 112, 525, 4436, 774, 2587, 6666, 155, 46717, 13327, 676, 937, 15720, 13679]}],                        {\"coloraxis\": {\"colorbar\": {\"title\": {\"text\": \"active cases\"}}, \"colorscale\": [[0.0, \"rgb(255,245,240)\"], [0.125, \"rgb(254,224,210)\"], [0.25, \"rgb(252,187,161)\"], [0.375, \"rgb(252,146,114)\"], [0.5, \"rgb(251,106,74)\"], [0.625, \"rgb(239,59,44)\"], [0.75, \"rgb(203,24,29)\"], [0.875, \"rgb(165,15,21)\"], [1.0, \"rgb(103,0,13)\"]]}, \"geo\": {\"center\": {}, \"domain\": {\"x\": [0.0, 1.0], \"y\": [0.0, 1.0]}, \"fitbounds\": \"locations\", \"visible\": false}, \"legend\": {\"tracegroupgap\": 0}, \"margin\": {\"t\": 60}, \"template\": {\"data\": {\"bar\": [{\"error_x\": {\"color\": \"#2a3f5f\"}, \"error_y\": {\"color\": \"#2a3f5f\"}, \"marker\": {\"line\": {\"color\": \"#E5ECF6\", \"width\": 0.5}}, \"type\": \"bar\"}], \"barpolar\": [{\"marker\": {\"line\": {\"color\": \"#E5ECF6\", \"width\": 0.5}}, \"type\": \"barpolar\"}], \"carpet\": [{\"aaxis\": {\"endlinecolor\": \"#2a3f5f\", \"gridcolor\": \"white\", \"linecolor\": \"white\", \"minorgridcolor\": \"white\", \"startlinecolor\": \"#2a3f5f\"}, \"baxis\": {\"endlinecolor\": \"#2a3f5f\", \"gridcolor\": \"white\", \"linecolor\": \"white\", \"minorgridcolor\": \"white\", \"startlinecolor\": \"#2a3f5f\"}, \"type\": \"carpet\"}], \"choropleth\": [{\"colorbar\": {\"outlinewidth\": 0, \"ticks\": \"\"}, \"type\": \"choropleth\"}], \"contour\": [{\"colorbar\": {\"outlinewidth\": 0, \"ticks\": \"\"}, \"colorscale\": [[0.0, \"#0d0887\"], [0.1111111111111111, \"#46039f\"], [0.2222222222222222, \"#7201a8\"], [0.3333333333333333, \"#9c179e\"], [0.4444444444444444, \"#bd3786\"], [0.5555555555555556, \"#d8576b\"], [0.6666666666666666, \"#ed7953\"], [0.7777777777777778, \"#fb9f3a\"], [0.8888888888888888, \"#fdca26\"], [1.0, \"#f0f921\"]], \"type\": \"contour\"}], \"contourcarpet\": [{\"colorbar\": {\"outlinewidth\": 0, \"ticks\": \"\"}, \"type\": \"contourcarpet\"}], \"heatmap\": [{\"colorbar\": {\"outlinewidth\": 0, \"ticks\": \"\"}, \"colorscale\": [[0.0, \"#0d0887\"], [0.1111111111111111, \"#46039f\"], [0.2222222222222222, \"#7201a8\"], [0.3333333333333333, \"#9c179e\"], [0.4444444444444444, \"#bd3786\"], [0.5555555555555556, \"#d8576b\"], [0.6666666666666666, \"#ed7953\"], [0.7777777777777778, \"#fb9f3a\"], [0.8888888888888888, \"#fdca26\"], [1.0, \"#f0f921\"]], \"type\": \"heatmap\"}], \"heatmapgl\": [{\"colorbar\": {\"outlinewidth\": 0, \"ticks\": \"\"}, \"colorscale\": [[0.0, \"#0d0887\"], [0.1111111111111111, \"#46039f\"], [0.2222222222222222, \"#7201a8\"], [0.3333333333333333, \"#9c179e\"], [0.4444444444444444, \"#bd3786\"], [0.5555555555555556, \"#d8576b\"], [0.6666666666666666, \"#ed7953\"], [0.7777777777777778, \"#fb9f3a\"], [0.8888888888888888, \"#fdca26\"], [1.0, \"#f0f921\"]], \"type\": \"heatmapgl\"}], \"histogram\": [{\"marker\": {\"colorbar\": {\"outlinewidth\": 0, \"ticks\": \"\"}}, \"type\": \"histogram\"}], \"histogram2d\": [{\"colorbar\": {\"outlinewidth\": 0, \"ticks\": \"\"}, \"colorscale\": [[0.0, \"#0d0887\"], [0.1111111111111111, \"#46039f\"], [0.2222222222222222, \"#7201a8\"], [0.3333333333333333, \"#9c179e\"], [0.4444444444444444, \"#bd3786\"], [0.5555555555555556, \"#d8576b\"], [0.6666666666666666, \"#ed7953\"], [0.7777777777777778, \"#fb9f3a\"], [0.8888888888888888, \"#fdca26\"], [1.0, \"#f0f921\"]], \"type\": \"histogram2d\"}], \"histogram2dcontour\": [{\"colorbar\": {\"outlinewidth\": 0, \"ticks\": \"\"}, \"colorscale\": [[0.0, \"#0d0887\"], [0.1111111111111111, \"#46039f\"], [0.2222222222222222, \"#7201a8\"], [0.3333333333333333, \"#9c179e\"], [0.4444444444444444, \"#bd3786\"], [0.5555555555555556, \"#d8576b\"], [0.6666666666666666, \"#ed7953\"], [0.7777777777777778, \"#fb9f3a\"], [0.8888888888888888, \"#fdca26\"], [1.0, \"#f0f921\"]], \"type\": \"histogram2dcontour\"}], \"mesh3d\": [{\"colorbar\": {\"outlinewidth\": 0, \"ticks\": \"\"}, \"type\": \"mesh3d\"}], \"parcoords\": [{\"line\": {\"colorbar\": {\"outlinewidth\": 0, \"ticks\": \"\"}}, \"type\": \"parcoords\"}], \"pie\": [{\"automargin\": true, \"type\": \"pie\"}], \"scatter\": [{\"marker\": {\"colorbar\": {\"outlinewidth\": 0, \"ticks\": \"\"}}, \"type\": \"scatter\"}], \"scatter3d\": [{\"line\": {\"colorbar\": {\"outlinewidth\": 0, \"ticks\": \"\"}}, \"marker\": {\"colorbar\": {\"outlinewidth\": 0, \"ticks\": \"\"}}, \"type\": \"scatter3d\"}], \"scattercarpet\": [{\"marker\": {\"colorbar\": {\"outlinewidth\": 0, \"ticks\": \"\"}}, \"type\": \"scattercarpet\"}], \"scattergeo\": [{\"marker\": {\"colorbar\": {\"outlinewidth\": 0, \"ticks\": \"\"}}, \"type\": \"scattergeo\"}], \"scattergl\": [{\"marker\": {\"colorbar\": {\"outlinewidth\": 0, \"ticks\": \"\"}}, \"type\": \"scattergl\"}], \"scattermapbox\": [{\"marker\": {\"colorbar\": {\"outlinewidth\": 0, \"ticks\": \"\"}}, \"type\": \"scattermapbox\"}], \"scatterpolar\": [{\"marker\": {\"colorbar\": {\"outlinewidth\": 0, \"ticks\": \"\"}}, \"type\": \"scatterpolar\"}], \"scatterpolargl\": [{\"marker\": {\"colorbar\": {\"outlinewidth\": 0, \"ticks\": \"\"}}, \"type\": \"scatterpolargl\"}], \"scatterternary\": [{\"marker\": {\"colorbar\": {\"outlinewidth\": 0, \"ticks\": \"\"}}, \"type\": \"scatterternary\"}], \"surface\": [{\"colorbar\": {\"outlinewidth\": 0, \"ticks\": \"\"}, \"colorscale\": [[0.0, \"#0d0887\"], [0.1111111111111111, \"#46039f\"], [0.2222222222222222, \"#7201a8\"], [0.3333333333333333, \"#9c179e\"], [0.4444444444444444, \"#bd3786\"], [0.5555555555555556, \"#d8576b\"], [0.6666666666666666, \"#ed7953\"], [0.7777777777777778, \"#fb9f3a\"], [0.8888888888888888, \"#fdca26\"], [1.0, \"#f0f921\"]], \"type\": \"surface\"}], \"table\": [{\"cells\": {\"fill\": {\"color\": \"#EBF0F8\"}, \"line\": {\"color\": \"white\"}}, \"header\": {\"fill\": {\"color\": \"#C8D4E3\"}, \"line\": {\"color\": \"white\"}}, \"type\": \"table\"}]}, \"layout\": {\"annotationdefaults\": {\"arrowcolor\": \"#2a3f5f\", \"arrowhead\": 0, \"arrowwidth\": 1}, \"coloraxis\": {\"colorbar\": {\"outlinewidth\": 0, \"ticks\": \"\"}}, \"colorscale\": {\"diverging\": [[0, \"#8e0152\"], [0.1, \"#c51b7d\"], [0.2, \"#de77ae\"], [0.3, \"#f1b6da\"], [0.4, \"#fde0ef\"], [0.5, \"#f7f7f7\"], [0.6, \"#e6f5d0\"], [0.7, \"#b8e186\"], [0.8, \"#7fbc41\"], [0.9, \"#4d9221\"], [1, \"#276419\"]], \"sequential\": [[0.0, \"#0d0887\"], [0.1111111111111111, \"#46039f\"], [0.2222222222222222, \"#7201a8\"], [0.3333333333333333, \"#9c179e\"], [0.4444444444444444, \"#bd3786\"], [0.5555555555555556, \"#d8576b\"], [0.6666666666666666, \"#ed7953\"], [0.7777777777777778, \"#fb9f3a\"], [0.8888888888888888, \"#fdca26\"], [1.0, \"#f0f921\"]], \"sequentialminus\": [[0.0, \"#0d0887\"], [0.1111111111111111, \"#46039f\"], [0.2222222222222222, \"#7201a8\"], [0.3333333333333333, \"#9c179e\"], [0.4444444444444444, \"#bd3786\"], [0.5555555555555556, \"#d8576b\"], [0.6666666666666666, \"#ed7953\"], [0.7777777777777778, \"#fb9f3a\"], [0.8888888888888888, \"#fdca26\"], [1.0, \"#f0f921\"]]}, \"colorway\": [\"#636efa\", \"#EF553B\", \"#00cc96\", \"#ab63fa\", \"#FFA15A\", \"#19d3f3\", \"#FF6692\", \"#B6E880\", \"#FF97FF\", \"#FECB52\"], \"font\": {\"color\": \"#2a3f5f\"}, \"geo\": {\"bgcolor\": \"white\", \"lakecolor\": \"white\", \"landcolor\": \"#E5ECF6\", \"showlakes\": true, \"showland\": true, \"subunitcolor\": \"white\"}, \"hoverlabel\": {\"align\": \"left\"}, \"hovermode\": \"closest\", \"mapbox\": {\"style\": \"light\"}, \"paper_bgcolor\": \"white\", \"plot_bgcolor\": \"#E5ECF6\", \"polar\": {\"angularaxis\": {\"gridcolor\": \"white\", \"linecolor\": \"white\", \"ticks\": \"\"}, \"bgcolor\": \"#E5ECF6\", \"radialaxis\": {\"gridcolor\": \"white\", \"linecolor\": \"white\", \"ticks\": \"\"}}, \"scene\": {\"xaxis\": {\"backgroundcolor\": \"#E5ECF6\", \"gridcolor\": \"white\", \"gridwidth\": 2, \"linecolor\": \"white\", \"showbackground\": true, \"ticks\": \"\", \"zerolinecolor\": \"white\"}, \"yaxis\": {\"backgroundcolor\": \"#E5ECF6\", \"gridcolor\": \"white\", \"gridwidth\": 2, \"linecolor\": \"white\", \"showbackground\": true, \"ticks\": \"\", \"zerolinecolor\": \"white\"}, \"zaxis\": {\"backgroundcolor\": \"#E5ECF6\", \"gridcolor\": \"white\", \"gridwidth\": 2, \"linecolor\": \"white\", \"showbackground\": true, \"ticks\": \"\", \"zerolinecolor\": \"white\"}}, \"shapedefaults\": {\"line\": {\"color\": \"#2a3f5f\"}}, \"ternary\": {\"aaxis\": {\"gridcolor\": \"white\", \"linecolor\": \"white\", \"ticks\": \"\"}, \"baxis\": {\"gridcolor\": \"white\", \"linecolor\": \"white\", \"ticks\": \"\"}, \"bgcolor\": \"#E5ECF6\", \"caxis\": {\"gridcolor\": \"white\", \"linecolor\": \"white\", \"ticks\": \"\"}}, \"title\": {\"x\": 0.05}, \"xaxis\": {\"automargin\": true, \"gridcolor\": \"white\", \"linecolor\": \"white\", \"ticks\": \"\", \"title\": {\"standoff\": 15}, \"zerolinecolor\": \"white\", \"zerolinewidth\": 2}, \"yaxis\": {\"automargin\": true, \"gridcolor\": \"white\", \"linecolor\": \"white\", \"ticks\": \"\", \"title\": {\"standoff\": 15}, \"zerolinecolor\": \"white\", \"zerolinewidth\": 2}}}},                        {\"responsive\": true}                    ).then(function(){\n",
       "                            \n",
       "var gd = document.getElementById('39f4c283-aeae-48d7-910a-2d6c83ecdc8d');\n",
       "var x = new MutationObserver(function (mutations, observer) {{\n",
       "        var display = window.getComputedStyle(gd).display;\n",
       "        if (!display || display === 'none') {{\n",
       "            console.log([gd, 'removed!']);\n",
       "            Plotly.purge(gd);\n",
       "            observer.disconnect();\n",
       "        }}\n",
       "}});\n",
       "\n",
       "// Listen for the removal of the full notebook cells\n",
       "var notebookContainer = gd.closest('#notebook-container');\n",
       "if (notebookContainer) {{\n",
       "    x.observe(notebookContainer, {childList: true});\n",
       "}}\n",
       "\n",
       "// Listen for the clearing of the current output cell\n",
       "var outputEl = gd.closest('.output');\n",
       "if (outputEl) {{\n",
       "    x.observe(outputEl, {childList: true});\n",
       "}}\n",
       "\n",
       "                        })                };                });            </script>        </div>"
      ]
     },
     "metadata": {},
     "output_type": "display_data"
    }
   ],
   "source": [
    "import pandas as pd\n",
    "import plotly.express as px\n",
    "\n",
    "df = pd.read_csv(\"https://gist.githubusercontent.com/jbrobst/56c13bbbf9d97d187fea01ca62ea5112/raw/e388c4cae20aa53cb5090210a42ebb9b765c0a36/active_cases_2020-07-17_0800.csv\")\n",
    "\n",
    "fig = px.choropleth(\n",
    "    df,\n",
    "    geojson=\"https://gist.githubusercontent.com/jbrobst/56c13bbbf9d97d187fea01ca62ea5112/raw/e388c4cae20aa53cb5090210a42ebb9b765c0a36/india_states.geojson\",\n",
    "    featureidkey='properties.ST_NM',\n",
    "    locations='state',\n",
    "    color='active cases',\n",
    "    color_continuous_scale='Reds'\n",
    ")\n",
    "\n",
    "fig.update_geos(fitbounds=\"locations\", visible=False)\n",
    "\n",
    "fig.show()"
   ]
  },
  {
   "cell_type": "code",
   "execution_count": null,
   "metadata": {},
   "outputs": [],
   "source": [
    "import pandas as pd\n",
    "import plotly.express as px\n",
    "\n",
    "df = pd.read_csv(\"https://gist.githubusercontent.com/jbrobst/56c13bbbf9d97d187fea01ca62ea5112/raw/e388c4cae20aa53cb5090210a42ebb9b765c0a36/active_cases_2020-07-17_0800.csv\")\n",
    "\n",
    "fig = px.choropleth(\n",
    "    df,\n",
    "    geojson=\"https://gist.githubusercontent.com/jbrobst/56c13bbbf9d97d187fea01ca62ea5112/raw/e388c4cae20aa53cb5090210a42ebb9b765c0a36/india_states.geojson\",\n",
    "    featureidkey='properties.ST_NM',\n",
    "    locations='state',\n",
    "    color='active cases',\n",
    "    color_continuous_scale='Reds'\n",
    ")\n",
    "\n",
    "fig.update_geos(fitbounds=\"locations\", visible=False)\n",
    "\n",
    "fig.show()"
   ]
  },
  {
   "cell_type": "code",
   "execution_count": 15,
   "metadata": {},
   "outputs": [
    {
     "data": {
      "text/html": [
       "<div>\n",
       "<style scoped>\n",
       "    .dataframe tbody tr th:only-of-type {\n",
       "        vertical-align: middle;\n",
       "    }\n",
       "\n",
       "    .dataframe tbody tr th {\n",
       "        vertical-align: top;\n",
       "    }\n",
       "\n",
       "    .dataframe thead th {\n",
       "        text-align: right;\n",
       "    }\n",
       "</style>\n",
       "<table border=\"1\" class=\"dataframe\">\n",
       "  <thead>\n",
       "    <tr style=\"text-align: right;\">\n",
       "      <th></th>\n",
       "      <th>Province</th>\n",
       "      <th>CODE</th>\n",
       "      <th>Year</th>\n",
       "      <th>Population</th>\n",
       "    </tr>\n",
       "  </thead>\n",
       "  <tbody>\n",
       "    <tr>\n",
       "      <th>0</th>\n",
       "      <td>Bangkok Metropolis</td>\n",
       "      <td>TH-10</td>\n",
       "      <td>2553</td>\n",
       "      <td>5701394.0</td>\n",
       "    </tr>\n",
       "    <tr>\n",
       "      <th>1</th>\n",
       "      <td>Bangkok Metropolis</td>\n",
       "      <td>TH-10</td>\n",
       "      <td>2554</td>\n",
       "      <td>5674843.0</td>\n",
       "    </tr>\n",
       "    <tr>\n",
       "      <th>2</th>\n",
       "      <td>Bangkok Metropolis</td>\n",
       "      <td>TH-10</td>\n",
       "      <td>2555</td>\n",
       "      <td>5673560.0</td>\n",
       "    </tr>\n",
       "    <tr>\n",
       "      <th>3</th>\n",
       "      <td>Bangkok Metropolis</td>\n",
       "      <td>TH-10</td>\n",
       "      <td>2556</td>\n",
       "      <td>5686252.0</td>\n",
       "    </tr>\n",
       "    <tr>\n",
       "      <th>4</th>\n",
       "      <td>Bangkok Metropolis</td>\n",
       "      <td>TH-10</td>\n",
       "      <td>2557</td>\n",
       "      <td>5692284.0</td>\n",
       "    </tr>\n",
       "  </tbody>\n",
       "</table>\n",
       "</div>"
      ],
      "text/plain": [
       "             Province   CODE  Year  Population\n",
       "0  Bangkok Metropolis  TH-10  2553   5701394.0\n",
       "1  Bangkok Metropolis  TH-10  2554   5674843.0\n",
       "2  Bangkok Metropolis  TH-10  2555   5673560.0\n",
       "3  Bangkok Metropolis  TH-10  2556   5686252.0\n",
       "4  Bangkok Metropolis  TH-10  2557   5692284.0"
      ]
     },
     "execution_count": 15,
     "metadata": {},
     "output_type": "execute_result"
    }
   ],
   "source": [
    "import pandas as pd\n",
    "import plotly.express as px\n",
    "\n",
    "thaiPop = pd.read_excel('Thai_population_collected.xlsx')\n",
    "thaiPop.head()"
   ]
  },
  {
   "cell_type": "code",
   "execution_count": 3,
   "metadata": {
    "scrolled": true
   },
   "outputs": [
    {
     "name": "stdout",
     "output_type": "stream",
     "text": [
      "<class 'pandas.core.frame.DataFrame'>\n",
      "RangeIndex: 770 entries, 0 to 769\n",
      "Data columns (total 4 columns):\n",
      " #   Column      Non-Null Count  Dtype  \n",
      "---  ------      --------------  -----  \n",
      " 0   Province    770 non-null    object \n",
      " 1   CODE        770 non-null    object \n",
      " 2   Year        770 non-null    int64  \n",
      " 3   Population  769 non-null    float64\n",
      "dtypes: float64(1), int64(1), object(2)\n",
      "memory usage: 24.2+ KB\n"
     ]
    }
   ],
   "source": [
    "thaiPop.info()"
   ]
  },
  {
   "cell_type": "markdown",
   "metadata": {},
   "source": [
    "import plotly.express as px\n",
    "import plotly.graph_objects as go\n",
    "\n",
    "fig = px.choropleth(thaiPop, locations=\"CODE\",\n",
    "                    color=\"Population\", # lifeExp is a column of gapminder\n",
    "                    hover_name=\"Province\", # column to add to hover information\n",
    "                    animation_frame=\"Year\", # column on which to animate\n",
    "                    color_continuous_scale=px.colors.cyclical.IceFire #or .sequential.Plasma\n",
    "                   )\n",
    "                    \n",
    "fig.update_layout(\n",
    "    # add a title text for the plot\n",
    "    title_text = 'Thai Population 2553 - 2562',\n",
    "    geo_scope = 'asia'\n",
    "    )\n",
    "\n",
    "\n",
    "fig.show()"
   ]
  },
  {
   "cell_type": "code",
   "execution_count": 16,
   "metadata": {},
   "outputs": [
    {
     "data": {
      "application/vnd.plotly.v1+json": {
       "config": {
        "plotlyServerURL": "https://plot.ly"
       },
       "data": [
        {
         "coloraxis": "coloraxis",
         "featureidkey": "properties.NAME_1",
         "geo": "geo",
         "geojson": "https://raw.githubusercontent.com/cvibhagool/thailand-map/master/thailand-provinces.geojson",
         "hovertemplate": "<b>%{hovertext}</b><br><br>Year=2553<br>Province=%{location}<br>Population=%{z}<extra></extra>",
         "hovertext": [
          "Bangkok Metropolis",
          "Samut Prakan",
          "Pathum Thani",
          "Phra Nakhon Si Ayutthaya",
          "Ang Thong",
          "Lop Buri",
          "Sing Buri",
          "Chai Nat",
          "Saraburi",
          "Chon Buri",
          "Rayong",
          "Chanthaburi",
          "Trat",
          "Chachoengsao",
          "Prachin Buri",
          "Nakhon Nayok",
          "Sa Kaeo",
          "Ratchaburi",
          "Kanchanaburi",
          "Suphan Buri",
          "Nakhon Pathom",
          "Samut Sakhon",
          "Samut Songkhram",
          "Phetchaburi",
          "Prachuap Khiri Khan",
          "Chiang Mai",
          "Lamphun",
          "Lampang",
          "Uttaradit",
          "Phrae",
          "Nan",
          "Phayao",
          "Chiang Rai",
          "Mae Hong Son",
          "Nakhon Sawan",
          "Uthai Thani",
          "Kamphaeng Phet",
          "Tak",
          "Sukhothai",
          "Phitsanulok",
          "Phichit",
          "Phetchabun",
          "Nakhon Ratchasima",
          "Buri Ram",
          "Surin",
          "Si Sa Ket",
          "Ubon Ratchathani",
          "Yasothon",
          "Chaiyaphum",
          "Amnat Charoen",
          "Bueng Kan",
          "Nong Bua Lam Phu",
          "Khon Kaen",
          "Udon Thani",
          "Loei",
          "Nong Khai",
          "Maha Sarakham",
          "Roi Et",
          "Kalasin",
          "Sakon Nakhon",
          "Nakhon Phanom",
          "Mukdahan",
          "Nakhon Si Thammarat",
          "Krabi",
          "Phangnga",
          "Phuket",
          "Surat Thani",
          "Ranong",
          "Chumphon",
          "Songkhla",
          "Satun",
          "Trang",
          "Phatthalung",
          "Pattani",
          "Yala",
          "Narathiwat",
          "Nonthaburi"
         ],
         "locations": [
          "Bangkok Metropolis",
          "Samut Prakan",
          "Pathum Thani",
          "Phra Nakhon Si Ayutthaya",
          "Ang Thong",
          "Lop Buri",
          "Sing Buri",
          "Chai Nat",
          "Saraburi",
          "Chon Buri",
          "Rayong",
          "Chanthaburi",
          "Trat",
          "Chachoengsao",
          "Prachin Buri",
          "Nakhon Nayok",
          "Sa Kaeo",
          "Ratchaburi",
          "Kanchanaburi",
          "Suphan Buri",
          "Nakhon Pathom",
          "Samut Sakhon",
          "Samut Songkhram",
          "Phetchaburi",
          "Prachuap Khiri Khan",
          "Chiang Mai",
          "Lamphun",
          "Lampang",
          "Uttaradit",
          "Phrae",
          "Nan",
          "Phayao",
          "Chiang Rai",
          "Mae Hong Son",
          "Nakhon Sawan",
          "Uthai Thani",
          "Kamphaeng Phet",
          "Tak",
          "Sukhothai",
          "Phitsanulok",
          "Phichit",
          "Phetchabun",
          "Nakhon Ratchasima",
          "Buri Ram",
          "Surin",
          "Si Sa Ket",
          "Ubon Ratchathani",
          "Yasothon",
          "Chaiyaphum",
          "Amnat Charoen",
          "Bueng Kan",
          "Nong Bua Lam Phu",
          "Khon Kaen",
          "Udon Thani",
          "Loei",
          "Nong Khai",
          "Maha Sarakham",
          "Roi Et",
          "Kalasin",
          "Sakon Nakhon",
          "Nakhon Phanom",
          "Mukdahan",
          "Nakhon Si Thammarat",
          "Krabi",
          "Phangnga",
          "Phuket",
          "Surat Thani",
          "Ranong",
          "Chumphon",
          "Songkhla",
          "Satun",
          "Trang",
          "Phatthalung",
          "Pattani",
          "Yala",
          "Narathiwat",
          "Nonthaburi"
         ],
         "name": "",
         "type": "choropleth",
         "z": [
          5701394,
          1185180,
          985643,
          782096,
          284970,
          755854,
          214661,
          334934,
          617384,
          1316293,
          626402,
          514616,
          220921,
          673933,
          466572,
          252734,
          544100,
          839075,
          839776,
          845850,
          860246,
          491887,
          194057,
          464033,
          509134,
          1640479,
          404560,
          761949,
          462618,
          460756,
          476363,
          486304,
          1198218,
          242742,
          1073495,
          327959,
          727093,
          525684,
          601778,
          849692,
          552690,
          996031,
          2582089,
          1553765,
          1381761,
          1452471,
          1813088,
          539257,
          1127423,
          372137,
          null,
          502868,
          1767601,
          1544786,
          624066,
          912937,
          940911,
          1309708,
          982578,
          1122905,
          703392,
          339575,
          1522561,
          432704,
          253112,
          345067,
          1000383,
          183079,
          489964,
          1357023,
          297163,
          622659,
          509534,
          655259,
          487380,
          737162,
          1101743
         ]
        }
       ],
       "frames": [
        {
         "data": [
          {
           "coloraxis": "coloraxis",
           "featureidkey": "properties.NAME_1",
           "geo": "geo",
           "geojson": "https://raw.githubusercontent.com/cvibhagool/thailand-map/master/thailand-provinces.geojson",
           "hovertemplate": "<b>%{hovertext}</b><br><br>Year=2553<br>Province=%{location}<br>Population=%{z}<extra></extra>",
           "hovertext": [
            "Bangkok Metropolis",
            "Samut Prakan",
            "Pathum Thani",
            "Phra Nakhon Si Ayutthaya",
            "Ang Thong",
            "Lop Buri",
            "Sing Buri",
            "Chai Nat",
            "Saraburi",
            "Chon Buri",
            "Rayong",
            "Chanthaburi",
            "Trat",
            "Chachoengsao",
            "Prachin Buri",
            "Nakhon Nayok",
            "Sa Kaeo",
            "Ratchaburi",
            "Kanchanaburi",
            "Suphan Buri",
            "Nakhon Pathom",
            "Samut Sakhon",
            "Samut Songkhram",
            "Phetchaburi",
            "Prachuap Khiri Khan",
            "Chiang Mai",
            "Lamphun",
            "Lampang",
            "Uttaradit",
            "Phrae",
            "Nan",
            "Phayao",
            "Chiang Rai",
            "Mae Hong Son",
            "Nakhon Sawan",
            "Uthai Thani",
            "Kamphaeng Phet",
            "Tak",
            "Sukhothai",
            "Phitsanulok",
            "Phichit",
            "Phetchabun",
            "Nakhon Ratchasima",
            "Buri Ram",
            "Surin",
            "Si Sa Ket",
            "Ubon Ratchathani",
            "Yasothon",
            "Chaiyaphum",
            "Amnat Charoen",
            "Bueng Kan",
            "Nong Bua Lam Phu",
            "Khon Kaen",
            "Udon Thani",
            "Loei",
            "Nong Khai",
            "Maha Sarakham",
            "Roi Et",
            "Kalasin",
            "Sakon Nakhon",
            "Nakhon Phanom",
            "Mukdahan",
            "Nakhon Si Thammarat",
            "Krabi",
            "Phangnga",
            "Phuket",
            "Surat Thani",
            "Ranong",
            "Chumphon",
            "Songkhla",
            "Satun",
            "Trang",
            "Phatthalung",
            "Pattani",
            "Yala",
            "Narathiwat",
            "Nonthaburi"
           ],
           "locations": [
            "Bangkok Metropolis",
            "Samut Prakan",
            "Pathum Thani",
            "Phra Nakhon Si Ayutthaya",
            "Ang Thong",
            "Lop Buri",
            "Sing Buri",
            "Chai Nat",
            "Saraburi",
            "Chon Buri",
            "Rayong",
            "Chanthaburi",
            "Trat",
            "Chachoengsao",
            "Prachin Buri",
            "Nakhon Nayok",
            "Sa Kaeo",
            "Ratchaburi",
            "Kanchanaburi",
            "Suphan Buri",
            "Nakhon Pathom",
            "Samut Sakhon",
            "Samut Songkhram",
            "Phetchaburi",
            "Prachuap Khiri Khan",
            "Chiang Mai",
            "Lamphun",
            "Lampang",
            "Uttaradit",
            "Phrae",
            "Nan",
            "Phayao",
            "Chiang Rai",
            "Mae Hong Son",
            "Nakhon Sawan",
            "Uthai Thani",
            "Kamphaeng Phet",
            "Tak",
            "Sukhothai",
            "Phitsanulok",
            "Phichit",
            "Phetchabun",
            "Nakhon Ratchasima",
            "Buri Ram",
            "Surin",
            "Si Sa Ket",
            "Ubon Ratchathani",
            "Yasothon",
            "Chaiyaphum",
            "Amnat Charoen",
            "Bueng Kan",
            "Nong Bua Lam Phu",
            "Khon Kaen",
            "Udon Thani",
            "Loei",
            "Nong Khai",
            "Maha Sarakham",
            "Roi Et",
            "Kalasin",
            "Sakon Nakhon",
            "Nakhon Phanom",
            "Mukdahan",
            "Nakhon Si Thammarat",
            "Krabi",
            "Phangnga",
            "Phuket",
            "Surat Thani",
            "Ranong",
            "Chumphon",
            "Songkhla",
            "Satun",
            "Trang",
            "Phatthalung",
            "Pattani",
            "Yala",
            "Narathiwat",
            "Nonthaburi"
           ],
           "name": "",
           "type": "choropleth",
           "z": [
            5701394,
            1185180,
            985643,
            782096,
            284970,
            755854,
            214661,
            334934,
            617384,
            1316293,
            626402,
            514616,
            220921,
            673933,
            466572,
            252734,
            544100,
            839075,
            839776,
            845850,
            860246,
            491887,
            194057,
            464033,
            509134,
            1640479,
            404560,
            761949,
            462618,
            460756,
            476363,
            486304,
            1198218,
            242742,
            1073495,
            327959,
            727093,
            525684,
            601778,
            849692,
            552690,
            996031,
            2582089,
            1553765,
            1381761,
            1452471,
            1813088,
            539257,
            1127423,
            372137,
            null,
            502868,
            1767601,
            1544786,
            624066,
            912937,
            940911,
            1309708,
            982578,
            1122905,
            703392,
            339575,
            1522561,
            432704,
            253112,
            345067,
            1000383,
            183079,
            489964,
            1357023,
            297163,
            622659,
            509534,
            655259,
            487380,
            737162,
            1101743
           ]
          }
         ],
         "name": "2553"
        },
        {
         "data": [
          {
           "coloraxis": "coloraxis",
           "featureidkey": "properties.NAME_1",
           "geo": "geo",
           "geojson": "https://raw.githubusercontent.com/cvibhagool/thailand-map/master/thailand-provinces.geojson",
           "hovertemplate": "<b>%{hovertext}</b><br><br>Year=2554<br>Province=%{location}<br>Population=%{z}<extra></extra>",
           "hovertext": [
            "Bangkok Metropolis",
            "Samut Prakan",
            "Pathum Thani",
            "Phra Nakhon Si Ayutthaya",
            "Ang Thong",
            "Lop Buri",
            "Sing Buri",
            "Chai Nat",
            "Saraburi",
            "Chon Buri",
            "Rayong",
            "Chanthaburi",
            "Trat",
            "Chachoengsao",
            "Prachin Buri",
            "Nakhon Nayok",
            "Sa Kaeo",
            "Ratchaburi",
            "Kanchanaburi",
            "Suphan Buri",
            "Nakhon Pathom",
            "Samut Sakhon",
            "Samut Songkhram",
            "Phetchaburi",
            "Prachuap Khiri Khan",
            "Chiang Mai",
            "Lamphun",
            "Lampang",
            "Uttaradit",
            "Phrae",
            "Nan",
            "Phayao",
            "Chiang Rai",
            "Mae Hong Son",
            "Nakhon Sawan",
            "Uthai Thani",
            "Kamphaeng Phet",
            "Tak",
            "Sukhothai",
            "Phitsanulok",
            "Phichit",
            "Phetchabun",
            "Nakhon Ratchasima",
            "Buri Ram",
            "Surin",
            "Si Sa Ket",
            "Ubon Ratchathani",
            "Yasothon",
            "Chaiyaphum",
            "Amnat Charoen",
            "Bueng Kan",
            "Nong Bua Lam Phu",
            "Khon Kaen",
            "Udon Thani",
            "Loei",
            "Nong Khai",
            "Maha Sarakham",
            "Roi Et",
            "Kalasin",
            "Sakon Nakhon",
            "Nakhon Phanom",
            "Mukdahan",
            "Nakhon Si Thammarat",
            "Krabi",
            "Phangnga",
            "Phuket",
            "Surat Thani",
            "Ranong",
            "Chumphon",
            "Songkhla",
            "Satun",
            "Trang",
            "Phatthalung",
            "Pattani",
            "Yala",
            "Narathiwat",
            "Nonthaburi"
           ],
           "locations": [
            "Bangkok Metropolis",
            "Samut Prakan",
            "Pathum Thani",
            "Phra Nakhon Si Ayutthaya",
            "Ang Thong",
            "Lop Buri",
            "Sing Buri",
            "Chai Nat",
            "Saraburi",
            "Chon Buri",
            "Rayong",
            "Chanthaburi",
            "Trat",
            "Chachoengsao",
            "Prachin Buri",
            "Nakhon Nayok",
            "Sa Kaeo",
            "Ratchaburi",
            "Kanchanaburi",
            "Suphan Buri",
            "Nakhon Pathom",
            "Samut Sakhon",
            "Samut Songkhram",
            "Phetchaburi",
            "Prachuap Khiri Khan",
            "Chiang Mai",
            "Lamphun",
            "Lampang",
            "Uttaradit",
            "Phrae",
            "Nan",
            "Phayao",
            "Chiang Rai",
            "Mae Hong Son",
            "Nakhon Sawan",
            "Uthai Thani",
            "Kamphaeng Phet",
            "Tak",
            "Sukhothai",
            "Phitsanulok",
            "Phichit",
            "Phetchabun",
            "Nakhon Ratchasima",
            "Buri Ram",
            "Surin",
            "Si Sa Ket",
            "Ubon Ratchathani",
            "Yasothon",
            "Chaiyaphum",
            "Amnat Charoen",
            "Bueng Kan",
            "Nong Bua Lam Phu",
            "Khon Kaen",
            "Udon Thani",
            "Loei",
            "Nong Khai",
            "Maha Sarakham",
            "Roi Et",
            "Kalasin",
            "Sakon Nakhon",
            "Nakhon Phanom",
            "Mukdahan",
            "Nakhon Si Thammarat",
            "Krabi",
            "Phangnga",
            "Phuket",
            "Surat Thani",
            "Ranong",
            "Chumphon",
            "Songkhla",
            "Satun",
            "Trang",
            "Phatthalung",
            "Pattani",
            "Yala",
            "Narathiwat",
            "Nonthaburi"
           ],
           "name": "",
           "type": "choropleth",
           "z": [
            5674843,
            1203223,
            1010898,
            787653,
            284061,
            756127,
            213587,
            333256,
            620454,
            1338656,
            637736,
            516855,
            222013,
            679370,
            469652,
            253831,
            545596,
            842684,
            838914,
            845053,
            866064,
            499098,
            194086,
            466079,
            512568,
            1646144,
            403952,
            757534,
            461040,
            458750,
            476612,
            486472,
            1198656,
            244048,
            1071686,
            328034,
            726009,
            531018,
            601504,
            851357,
            549688,
            990807,
            2585325,
            1559085,
            1380399,
            1452203,
            1816057,
            538853,
            1127423,
            372241,
            407634,
            502551,
            1766066,
            1548107,
            624920,
            509870,
            939736,
            1305058,
            981655,
            1123351,
            704768,
            340581,
            1526071,
            438039,
            254931,
            353847,
            1012064,
            183849,
            492182,
            1367010,
            301467,
            626708,
            511063,
            663485,
            493767,
            747372,
            1122627
           ]
          }
         ],
         "name": "2554"
        },
        {
         "data": [
          {
           "coloraxis": "coloraxis",
           "featureidkey": "properties.NAME_1",
           "geo": "geo",
           "geojson": "https://raw.githubusercontent.com/cvibhagool/thailand-map/master/thailand-provinces.geojson",
           "hovertemplate": "<b>%{hovertext}</b><br><br>Year=2555<br>Province=%{location}<br>Population=%{z}<extra></extra>",
           "hovertext": [
            "Bangkok Metropolis",
            "Samut Prakan",
            "Pathum Thani",
            "Phra Nakhon Si Ayutthaya",
            "Ang Thong",
            "Lop Buri",
            "Sing Buri",
            "Chai Nat",
            "Saraburi",
            "Chon Buri",
            "Rayong",
            "Chanthaburi",
            "Trat",
            "Chachoengsao",
            "Prachin Buri",
            "Nakhon Nayok",
            "Sa Kaeo",
            "Ratchaburi",
            "Kanchanaburi",
            "Suphan Buri",
            "Nakhon Pathom",
            "Samut Sakhon",
            "Samut Songkhram",
            "Phetchaburi",
            "Prachuap Khiri Khan",
            "Chiang Mai",
            "Lamphun",
            "Lampang",
            "Uttaradit",
            "Phrae",
            "Nan",
            "Phayao",
            "Chiang Rai",
            "Mae Hong Son",
            "Nakhon Sawan",
            "Uthai Thani",
            "Kamphaeng Phet",
            "Tak",
            "Sukhothai",
            "Phitsanulok",
            "Phichit",
            "Phetchabun",
            "Nakhon Ratchasima",
            "Buri Ram",
            "Surin",
            "Si Sa Ket",
            "Ubon Ratchathani",
            "Yasothon",
            "Chaiyaphum",
            "Amnat Charoen",
            "Bueng Kan",
            "Nong Bua Lam Phu",
            "Khon Kaen",
            "Udon Thani",
            "Loei",
            "Nong Khai",
            "Maha Sarakham",
            "Roi Et",
            "Kalasin",
            "Sakon Nakhon",
            "Nakhon Phanom",
            "Mukdahan",
            "Nakhon Si Thammarat",
            "Krabi",
            "Phangnga",
            "Phuket",
            "Surat Thani",
            "Ranong",
            "Chumphon",
            "Songkhla",
            "Satun",
            "Trang",
            "Phatthalung",
            "Pattani",
            "Yala",
            "Narathiwat",
            "Nonthaburi"
           ],
           "locations": [
            "Bangkok Metropolis",
            "Samut Prakan",
            "Pathum Thani",
            "Phra Nakhon Si Ayutthaya",
            "Ang Thong",
            "Lop Buri",
            "Sing Buri",
            "Chai Nat",
            "Saraburi",
            "Chon Buri",
            "Rayong",
            "Chanthaburi",
            "Trat",
            "Chachoengsao",
            "Prachin Buri",
            "Nakhon Nayok",
            "Sa Kaeo",
            "Ratchaburi",
            "Kanchanaburi",
            "Suphan Buri",
            "Nakhon Pathom",
            "Samut Sakhon",
            "Samut Songkhram",
            "Phetchaburi",
            "Prachuap Khiri Khan",
            "Chiang Mai",
            "Lamphun",
            "Lampang",
            "Uttaradit",
            "Phrae",
            "Nan",
            "Phayao",
            "Chiang Rai",
            "Mae Hong Son",
            "Nakhon Sawan",
            "Uthai Thani",
            "Kamphaeng Phet",
            "Tak",
            "Sukhothai",
            "Phitsanulok",
            "Phichit",
            "Phetchabun",
            "Nakhon Ratchasima",
            "Buri Ram",
            "Surin",
            "Si Sa Ket",
            "Ubon Ratchathani",
            "Yasothon",
            "Chaiyaphum",
            "Amnat Charoen",
            "Bueng Kan",
            "Nong Bua Lam Phu",
            "Khon Kaen",
            "Udon Thani",
            "Loei",
            "Nong Khai",
            "Maha Sarakham",
            "Roi Et",
            "Kalasin",
            "Sakon Nakhon",
            "Nakhon Phanom",
            "Mukdahan",
            "Nakhon Si Thammarat",
            "Krabi",
            "Phangnga",
            "Phuket",
            "Surat Thani",
            "Ranong",
            "Chumphon",
            "Songkhla",
            "Satun",
            "Trang",
            "Phatthalung",
            "Pattani",
            "Yala",
            "Narathiwat",
            "Nonthaburi"
           ],
           "name": "",
           "type": "choropleth",
           "z": [
            5673560,
            1223302,
            1033837,
            793509,
            283882,
            758059,
            213216,
            333172,
            625689,
            1364002,
            649275,
            521812,
            222855,
            685721,
            473770,
            255174,
            548342,
            846631,
            838269,
            847308,
            874616,
            508812,
            194042,
            468874,
            517050,
            1655642,
            404673,
            756811,
            461294,
            457607,
            477673,
            488120,
            1200423,
            244356,
            1073347,
            328950,
            727555,
            526045,
            602601,
            854372,
            549395,
            993702,
            2601167,
            1566740,
            1386277,
            1458370,
            1826920,
            540267,
            1133034,
            373494,
            412613,
            505071,
            1774816,
            1557298,
            629787,
            512439,
            945149,
            1308570,
            985084,
            1129174,
            708350,
            342868,
            1534887,
            444967,
            257493,
            360905,
            1023288,
            182648,
            495310,
            1378574,
            305879,
            631920,
            514492,
            671615,
            500814,
            757397,
            1141673
           ]
          }
         ],
         "name": "2555"
        },
        {
         "data": [
          {
           "coloraxis": "coloraxis",
           "featureidkey": "properties.NAME_1",
           "geo": "geo",
           "geojson": "https://raw.githubusercontent.com/cvibhagool/thailand-map/master/thailand-provinces.geojson",
           "hovertemplate": "<b>%{hovertext}</b><br><br>Year=2556<br>Province=%{location}<br>Population=%{z}<extra></extra>",
           "hovertext": [
            "Bangkok Metropolis",
            "Samut Prakan",
            "Pathum Thani",
            "Phra Nakhon Si Ayutthaya",
            "Ang Thong",
            "Lop Buri",
            "Sing Buri",
            "Chai Nat",
            "Saraburi",
            "Chon Buri",
            "Rayong",
            "Chanthaburi",
            "Trat",
            "Chachoengsao",
            "Prachin Buri",
            "Nakhon Nayok",
            "Sa Kaeo",
            "Ratchaburi",
            "Kanchanaburi",
            "Suphan Buri",
            "Nakhon Pathom",
            "Samut Sakhon",
            "Samut Songkhram",
            "Phetchaburi",
            "Prachuap Khiri Khan",
            "Chiang Mai",
            "Lamphun",
            "Lampang",
            "Uttaradit",
            "Phrae",
            "Nan",
            "Phayao",
            "Chiang Rai",
            "Mae Hong Son",
            "Nakhon Sawan",
            "Uthai Thani",
            "Kamphaeng Phet",
            "Tak",
            "Sukhothai",
            "Phitsanulok",
            "Phichit",
            "Phetchabun",
            "Nakhon Ratchasima",
            "Buri Ram",
            "Surin",
            "Si Sa Ket",
            "Ubon Ratchathani",
            "Yasothon",
            "Chaiyaphum",
            "Amnat Charoen",
            "Bueng Kan",
            "Nong Bua Lam Phu",
            "Khon Kaen",
            "Udon Thani",
            "Loei",
            "Nong Khai",
            "Maha Sarakham",
            "Roi Et",
            "Kalasin",
            "Sakon Nakhon",
            "Nakhon Phanom",
            "Mukdahan",
            "Nakhon Si Thammarat",
            "Krabi",
            "Phangnga",
            "Phuket",
            "Surat Thani",
            "Ranong",
            "Chumphon",
            "Songkhla",
            "Satun",
            "Trang",
            "Phatthalung",
            "Pattani",
            "Yala",
            "Narathiwat",
            "Nonthaburi"
           ],
           "locations": [
            "Bangkok Metropolis",
            "Samut Prakan",
            "Pathum Thani",
            "Phra Nakhon Si Ayutthaya",
            "Ang Thong",
            "Lop Buri",
            "Sing Buri",
            "Chai Nat",
            "Saraburi",
            "Chon Buri",
            "Rayong",
            "Chanthaburi",
            "Trat",
            "Chachoengsao",
            "Prachin Buri",
            "Nakhon Nayok",
            "Sa Kaeo",
            "Ratchaburi",
            "Kanchanaburi",
            "Suphan Buri",
            "Nakhon Pathom",
            "Samut Sakhon",
            "Samut Songkhram",
            "Phetchaburi",
            "Prachuap Khiri Khan",
            "Chiang Mai",
            "Lamphun",
            "Lampang",
            "Uttaradit",
            "Phrae",
            "Nan",
            "Phayao",
            "Chiang Rai",
            "Mae Hong Son",
            "Nakhon Sawan",
            "Uthai Thani",
            "Kamphaeng Phet",
            "Tak",
            "Sukhothai",
            "Phitsanulok",
            "Phichit",
            "Phetchabun",
            "Nakhon Ratchasima",
            "Buri Ram",
            "Surin",
            "Si Sa Ket",
            "Ubon Ratchathani",
            "Yasothon",
            "Chaiyaphum",
            "Amnat Charoen",
            "Bueng Kan",
            "Nong Bua Lam Phu",
            "Khon Kaen",
            "Udon Thani",
            "Loei",
            "Nong Khai",
            "Maha Sarakham",
            "Roi Et",
            "Kalasin",
            "Sakon Nakhon",
            "Nakhon Phanom",
            "Mukdahan",
            "Nakhon Si Thammarat",
            "Krabi",
            "Phangnga",
            "Phuket",
            "Surat Thani",
            "Ranong",
            "Chumphon",
            "Songkhla",
            "Satun",
            "Trang",
            "Phatthalung",
            "Pattani",
            "Yala",
            "Narathiwat",
            "Nonthaburi"
           ],
           "name": "",
           "type": "choropleth",
           "z": [
            5686252,
            1241610,
            1053158,
            797970,
            283732,
            757970,
            212690,
            332769,
            629216,
            1390354,
            661220,
            524260,
            224010,
            690226,
            476167,
            256085,
            550937,
            850162,
            842882,
            848066,
            882184,
            519457,
            194116,
            471087,
            520271,
            1666888,
            405268,
            754862,
            460995,
            456074,
            477912,
            486744,
            1204660,
            246549,
            1073142,
            329536,
            728631,
            532353,
            602713,
            856376,
            548855,
            994397,
            2610164,
            1573438,
            1388194,
            1462028,
            1836523,
            540383,
            1135723,
            374698,
            416236,
            507137,
            1781655,
            1563964,
            632205,
            514943,
            955644,
            1308958,
            984030,
            1134322,
            710860,
            344302,
            1541843,
            450890,
            259420,
            369522,
            1031812,
            174776,
            498294,
            1389890,
            309793,
            636043,
            518021,
            678838,
            506138,
            766145,
            1156271
           ]
          }
         ],
         "name": "2556"
        },
        {
         "data": [
          {
           "coloraxis": "coloraxis",
           "featureidkey": "properties.NAME_1",
           "geo": "geo",
           "geojson": "https://raw.githubusercontent.com/cvibhagool/thailand-map/master/thailand-provinces.geojson",
           "hovertemplate": "<b>%{hovertext}</b><br><br>Year=2557<br>Province=%{location}<br>Population=%{z}<extra></extra>",
           "hovertext": [
            "Bangkok Metropolis",
            "Samut Prakan",
            "Pathum Thani",
            "Phra Nakhon Si Ayutthaya",
            "Ang Thong",
            "Lop Buri",
            "Sing Buri",
            "Chai Nat",
            "Saraburi",
            "Chon Buri",
            "Rayong",
            "Chanthaburi",
            "Trat",
            "Chachoengsao",
            "Prachin Buri",
            "Nakhon Nayok",
            "Sa Kaeo",
            "Ratchaburi",
            "Kanchanaburi",
            "Suphan Buri",
            "Nakhon Pathom",
            "Samut Sakhon",
            "Samut Songkhram",
            "Phetchaburi",
            "Prachuap Khiri Khan",
            "Chiang Mai",
            "Lamphun",
            "Lampang",
            "Uttaradit",
            "Phrae",
            "Nan",
            "Phayao",
            "Chiang Rai",
            "Mae Hong Son",
            "Nakhon Sawan",
            "Uthai Thani",
            "Kamphaeng Phet",
            "Tak",
            "Sukhothai",
            "Phitsanulok",
            "Phichit",
            "Phetchabun",
            "Nakhon Ratchasima",
            "Buri Ram",
            "Surin",
            "Si Sa Ket",
            "Ubon Ratchathani",
            "Yasothon",
            "Chaiyaphum",
            "Amnat Charoen",
            "Bueng Kan",
            "Nong Bua Lam Phu",
            "Khon Kaen",
            "Udon Thani",
            "Loei",
            "Nong Khai",
            "Maha Sarakham",
            "Roi Et",
            "Kalasin",
            "Sakon Nakhon",
            "Nakhon Phanom",
            "Mukdahan",
            "Nakhon Si Thammarat",
            "Krabi",
            "Phangnga",
            "Phuket",
            "Surat Thani",
            "Ranong",
            "Chumphon",
            "Songkhla",
            "Satun",
            "Trang",
            "Phatthalung",
            "Pattani",
            "Yala",
            "Narathiwat",
            "Nonthaburi"
           ],
           "locations": [
            "Bangkok Metropolis",
            "Samut Prakan",
            "Pathum Thani",
            "Phra Nakhon Si Ayutthaya",
            "Ang Thong",
            "Lop Buri",
            "Sing Buri",
            "Chai Nat",
            "Saraburi",
            "Chon Buri",
            "Rayong",
            "Chanthaburi",
            "Trat",
            "Chachoengsao",
            "Prachin Buri",
            "Nakhon Nayok",
            "Sa Kaeo",
            "Ratchaburi",
            "Kanchanaburi",
            "Suphan Buri",
            "Nakhon Pathom",
            "Samut Sakhon",
            "Samut Songkhram",
            "Phetchaburi",
            "Prachuap Khiri Khan",
            "Chiang Mai",
            "Lamphun",
            "Lampang",
            "Uttaradit",
            "Phrae",
            "Nan",
            "Phayao",
            "Chiang Rai",
            "Mae Hong Son",
            "Nakhon Sawan",
            "Uthai Thani",
            "Kamphaeng Phet",
            "Tak",
            "Sukhothai",
            "Phitsanulok",
            "Phichit",
            "Phetchabun",
            "Nakhon Ratchasima",
            "Buri Ram",
            "Surin",
            "Si Sa Ket",
            "Ubon Ratchathani",
            "Yasothon",
            "Chaiyaphum",
            "Amnat Charoen",
            "Bueng Kan",
            "Nong Bua Lam Phu",
            "Khon Kaen",
            "Udon Thani",
            "Loei",
            "Nong Khai",
            "Maha Sarakham",
            "Roi Et",
            "Kalasin",
            "Sakon Nakhon",
            "Nakhon Phanom",
            "Mukdahan",
            "Nakhon Si Thammarat",
            "Krabi",
            "Phangnga",
            "Phuket",
            "Surat Thani",
            "Ranong",
            "Chumphon",
            "Songkhla",
            "Satun",
            "Trang",
            "Phatthalung",
            "Pattani",
            "Yala",
            "Narathiwat",
            "Nonthaburi"
           ],
           "name": "",
           "type": "choropleth",
           "z": [
            5692284,
            1261530,
            1074058,
            803599,
            283568,
            758406,
            212158,
            332283,
            633460,
            1421425,
            674393,
            527350,
            224730,
            695478,
            479314,
            257300,
            552187,
            853217,
            848198,
            849053,
            891071,
            531887,
            194189,
            474192,
            525107,
            1678284,
            405468,
            753013,
            460400,
            454083,
            478264,
            484454,
            1207699,
            248178,
            1072756,
            330179,
            729522,
            539553,
            602460,
            858988,
            547543,
            995807,
            2620517,
            1579248,
            1391636,
            1465213,
            1844669,
            540211,
            1137049,
            375380,
            418566,
            508864,
            1790049,
            1570300,
            634513,
            517260,
            960588,
            1308318,
            984907,
            1138609,
            713341,
            346016,
            1548028,
            456811,
            261370,
            378364,
            1040230,
            177089,
            500575,
            1401303,
            312673,
            638746,
            520419,
            686186,
            511911,
            774799,
            1173870
           ]
          }
         ],
         "name": "2557"
        },
        {
         "data": [
          {
           "coloraxis": "coloraxis",
           "featureidkey": "properties.NAME_1",
           "geo": "geo",
           "geojson": "https://raw.githubusercontent.com/cvibhagool/thailand-map/master/thailand-provinces.geojson",
           "hovertemplate": "<b>%{hovertext}</b><br><br>Year=2558<br>Province=%{location}<br>Population=%{z}<extra></extra>",
           "hovertext": [
            "Bangkok Metropolis",
            "Samut Prakan",
            "Pathum Thani",
            "Phra Nakhon Si Ayutthaya",
            "Ang Thong",
            "Lop Buri",
            "Sing Buri",
            "Chai Nat",
            "Saraburi",
            "Chon Buri",
            "Rayong",
            "Chanthaburi",
            "Trat",
            "Chachoengsao",
            "Prachin Buri",
            "Nakhon Nayok",
            "Sa Kaeo",
            "Ratchaburi",
            "Kanchanaburi",
            "Suphan Buri",
            "Nakhon Pathom",
            "Samut Sakhon",
            "Samut Songkhram",
            "Phetchaburi",
            "Prachuap Khiri Khan",
            "Chiang Mai",
            "Lamphun",
            "Lampang",
            "Uttaradit",
            "Phrae",
            "Nan",
            "Phayao",
            "Chiang Rai",
            "Mae Hong Son",
            "Nakhon Sawan",
            "Uthai Thani",
            "Kamphaeng Phet",
            "Tak",
            "Sukhothai",
            "Phitsanulok",
            "Phichit",
            "Phetchabun",
            "Nakhon Ratchasima",
            "Buri Ram",
            "Surin",
            "Si Sa Ket",
            "Ubon Ratchathani",
            "Yasothon",
            "Chaiyaphum",
            "Amnat Charoen",
            "Bueng Kan",
            "Nong Bua Lam Phu",
            "Khon Kaen",
            "Udon Thani",
            "Loei",
            "Nong Khai",
            "Maha Sarakham",
            "Roi Et",
            "Kalasin",
            "Sakon Nakhon",
            "Nakhon Phanom",
            "Mukdahan",
            "Nakhon Si Thammarat",
            "Krabi",
            "Phangnga",
            "Phuket",
            "Surat Thani",
            "Ranong",
            "Chumphon",
            "Songkhla",
            "Satun",
            "Trang",
            "Phatthalung",
            "Pattani",
            "Yala",
            "Narathiwat",
            "Nonthaburi"
           ],
           "locations": [
            "Bangkok Metropolis",
            "Samut Prakan",
            "Pathum Thani",
            "Phra Nakhon Si Ayutthaya",
            "Ang Thong",
            "Lop Buri",
            "Sing Buri",
            "Chai Nat",
            "Saraburi",
            "Chon Buri",
            "Rayong",
            "Chanthaburi",
            "Trat",
            "Chachoengsao",
            "Prachin Buri",
            "Nakhon Nayok",
            "Sa Kaeo",
            "Ratchaburi",
            "Kanchanaburi",
            "Suphan Buri",
            "Nakhon Pathom",
            "Samut Sakhon",
            "Samut Songkhram",
            "Phetchaburi",
            "Prachuap Khiri Khan",
            "Chiang Mai",
            "Lamphun",
            "Lampang",
            "Uttaradit",
            "Phrae",
            "Nan",
            "Phayao",
            "Chiang Rai",
            "Mae Hong Son",
            "Nakhon Sawan",
            "Uthai Thani",
            "Kamphaeng Phet",
            "Tak",
            "Sukhothai",
            "Phitsanulok",
            "Phichit",
            "Phetchabun",
            "Nakhon Ratchasima",
            "Buri Ram",
            "Surin",
            "Si Sa Ket",
            "Ubon Ratchathani",
            "Yasothon",
            "Chaiyaphum",
            "Amnat Charoen",
            "Bueng Kan",
            "Nong Bua Lam Phu",
            "Khon Kaen",
            "Udon Thani",
            "Loei",
            "Nong Khai",
            "Maha Sarakham",
            "Roi Et",
            "Kalasin",
            "Sakon Nakhon",
            "Nakhon Phanom",
            "Mukdahan",
            "Nakhon Si Thammarat",
            "Krabi",
            "Phangnga",
            "Phuket",
            "Surat Thani",
            "Ranong",
            "Chumphon",
            "Songkhla",
            "Satun",
            "Trang",
            "Phatthalung",
            "Pattani",
            "Yala",
            "Narathiwat",
            "Nonthaburi"
           ],
           "name": "",
           "type": "choropleth",
           "z": [
            5696409,
            1279310,
            1094249,
            808360,
            283173,
            758655,
            211426,
            331655,
            637673,
            1455039,
            688999,
            531037,
            229435,
            700902,
            482195,
            258577,
            556922,
            867883,
            882146,
            849699,
            899342,
            545454,
            194376,
            478589,
            534719,
            1728242,
            406385,
            752356,
            459768,
            452346,
            479518,
            482645,
            1277950,
            273764,
            1071942,
            330906,
            730158,
            618382,
            601712,
            863404,
            545957,
            996986,
            2628818,
            1584661,
            1395024,
            1468798,
            1857429,
            540182,
            1138252,
            376382,
            420647,
            510074,
            1798014,
            1575152,
            638819,
            519580,
            964596,
            1308166,
            985203,
            1142737,
            715399,
            348101,
            1552530,
            462101,
            264074,
            386605,
            1046772,
            187536,
            505830,
            1410577,
            315923,
            640793,
            522723,
            694023,
            518139,
            783082,
            1193711
           ]
          }
         ],
         "name": "2558"
        },
        {
         "data": [
          {
           "coloraxis": "coloraxis",
           "featureidkey": "properties.NAME_1",
           "geo": "geo",
           "geojson": "https://raw.githubusercontent.com/cvibhagool/thailand-map/master/thailand-provinces.geojson",
           "hovertemplate": "<b>%{hovertext}</b><br><br>Year=2559<br>Province=%{location}<br>Population=%{z}<extra></extra>",
           "hovertext": [
            "Bangkok Metropolis",
            "Samut Prakan",
            "Pathum Thani",
            "Phra Nakhon Si Ayutthaya",
            "Ang Thong",
            "Lop Buri",
            "Sing Buri",
            "Chai Nat",
            "Saraburi",
            "Chon Buri",
            "Rayong",
            "Chanthaburi",
            "Trat",
            "Chachoengsao",
            "Prachin Buri",
            "Nakhon Nayok",
            "Sa Kaeo",
            "Ratchaburi",
            "Kanchanaburi",
            "Suphan Buri",
            "Nakhon Pathom",
            "Samut Sakhon",
            "Samut Songkhram",
            "Phetchaburi",
            "Prachuap Khiri Khan",
            "Chiang Mai",
            "Lamphun",
            "Lampang",
            "Uttaradit",
            "Phrae",
            "Nan",
            "Phayao",
            "Chiang Rai",
            "Mae Hong Son",
            "Nakhon Sawan",
            "Uthai Thani",
            "Kamphaeng Phet",
            "Tak",
            "Sukhothai",
            "Phitsanulok",
            "Phichit",
            "Phetchabun",
            "Nakhon Ratchasima",
            "Buri Ram",
            "Surin",
            "Si Sa Ket",
            "Ubon Ratchathani",
            "Yasothon",
            "Chaiyaphum",
            "Amnat Charoen",
            "Bueng Kan",
            "Nong Bua Lam Phu",
            "Khon Kaen",
            "Udon Thani",
            "Loei",
            "Nong Khai",
            "Maha Sarakham",
            "Roi Et",
            "Kalasin",
            "Sakon Nakhon",
            "Nakhon Phanom",
            "Mukdahan",
            "Nakhon Si Thammarat",
            "Krabi",
            "Phangnga",
            "Phuket",
            "Surat Thani",
            "Ranong",
            "Chumphon",
            "Songkhla",
            "Satun",
            "Trang",
            "Phatthalung",
            "Pattani",
            "Yala",
            "Narathiwat",
            "Nonthaburi"
           ],
           "locations": [
            "Bangkok Metropolis",
            "Samut Prakan",
            "Pathum Thani",
            "Phra Nakhon Si Ayutthaya",
            "Ang Thong",
            "Lop Buri",
            "Sing Buri",
            "Chai Nat",
            "Saraburi",
            "Chon Buri",
            "Rayong",
            "Chanthaburi",
            "Trat",
            "Chachoengsao",
            "Prachin Buri",
            "Nakhon Nayok",
            "Sa Kaeo",
            "Ratchaburi",
            "Kanchanaburi",
            "Suphan Buri",
            "Nakhon Pathom",
            "Samut Sakhon",
            "Samut Songkhram",
            "Phetchaburi",
            "Prachuap Khiri Khan",
            "Chiang Mai",
            "Lamphun",
            "Lampang",
            "Uttaradit",
            "Phrae",
            "Nan",
            "Phayao",
            "Chiang Rai",
            "Mae Hong Son",
            "Nakhon Sawan",
            "Uthai Thani",
            "Kamphaeng Phet",
            "Tak",
            "Sukhothai",
            "Phitsanulok",
            "Phichit",
            "Phetchabun",
            "Nakhon Ratchasima",
            "Buri Ram",
            "Surin",
            "Si Sa Ket",
            "Ubon Ratchathani",
            "Yasothon",
            "Chaiyaphum",
            "Amnat Charoen",
            "Bueng Kan",
            "Nong Bua Lam Phu",
            "Khon Kaen",
            "Udon Thani",
            "Loei",
            "Nong Khai",
            "Maha Sarakham",
            "Roi Et",
            "Kalasin",
            "Sakon Nakhon",
            "Nakhon Phanom",
            "Mukdahan",
            "Nakhon Si Thammarat",
            "Krabi",
            "Phangnga",
            "Phuket",
            "Surat Thani",
            "Ranong",
            "Chumphon",
            "Songkhla",
            "Satun",
            "Trang",
            "Phatthalung",
            "Pattani",
            "Yala",
            "Narathiwat",
            "Nonthaburi"
           ],
           "name": "",
           "type": "choropleth",
           "z": [
            5686646,
            1293553,
            1111376,
            810320,
            282404,
            757321,
            210588,
            330431,
            640065,
            1483049,
            700223,
            532466,
            229437,
            704399,
            484829,
            258358,
            559017,
            869823,
            885112,
            848567,
            905008,
            556719,
            194069,
            480652,
            539534,
            1735762,
            405999,
            748850,
            458197,
            449810,
            479916,
            479188,
            1282544,
            275884,
            1066455,
            330299,
            729542,
            631965,
            600231,
            865759,
            543482,
            995223,
            2631435,
            1587897,
            1395567,
            1470341,
            1862965,
            539815,
            1138199,
            377120,
            421625,
            510734,
            1801753,
            1578783,
            639801,
            520363,
            963484,
            1307982,
            985232,
            1145949,
            716873,
            349474,
            1554432,
            465931,
            265579,
            394169,
            1050913,
            189154,
            507604,
            1417440,
            317612,
            641684,
            523723,
            700961,
            522279,
            789681,
            1211924
           ]
          }
         ],
         "name": "2559"
        },
        {
         "data": [
          {
           "coloraxis": "coloraxis",
           "featureidkey": "properties.NAME_1",
           "geo": "geo",
           "geojson": "https://raw.githubusercontent.com/cvibhagool/thailand-map/master/thailand-provinces.geojson",
           "hovertemplate": "<b>%{hovertext}</b><br><br>Year=2560<br>Province=%{location}<br>Population=%{z}<extra></extra>",
           "hovertext": [
            "Bangkok Metropolis",
            "Samut Prakan",
            "Pathum Thani",
            "Phra Nakhon Si Ayutthaya",
            "Ang Thong",
            "Lop Buri",
            "Sing Buri",
            "Chai Nat",
            "Saraburi",
            "Chon Buri",
            "Rayong",
            "Chanthaburi",
            "Trat",
            "Chachoengsao",
            "Prachin Buri",
            "Nakhon Nayok",
            "Sa Kaeo",
            "Ratchaburi",
            "Kanchanaburi",
            "Suphan Buri",
            "Nakhon Pathom",
            "Samut Sakhon",
            "Samut Songkhram",
            "Phetchaburi",
            "Prachuap Khiri Khan",
            "Chiang Mai",
            "Lamphun",
            "Lampang",
            "Uttaradit",
            "Phrae",
            "Nan",
            "Phayao",
            "Chiang Rai",
            "Mae Hong Son",
            "Nakhon Sawan",
            "Uthai Thani",
            "Kamphaeng Phet",
            "Tak",
            "Sukhothai",
            "Phitsanulok",
            "Phichit",
            "Phetchabun",
            "Nakhon Ratchasima",
            "Buri Ram",
            "Surin",
            "Si Sa Ket",
            "Ubon Ratchathani",
            "Yasothon",
            "Chaiyaphum",
            "Amnat Charoen",
            "Bueng Kan",
            "Nong Bua Lam Phu",
            "Khon Kaen",
            "Udon Thani",
            "Loei",
            "Nong Khai",
            "Maha Sarakham",
            "Roi Et",
            "Kalasin",
            "Sakon Nakhon",
            "Nakhon Phanom",
            "Mukdahan",
            "Nakhon Si Thammarat",
            "Krabi",
            "Phangnga",
            "Phuket",
            "Surat Thani",
            "Ranong",
            "Chumphon",
            "Songkhla",
            "Satun",
            "Trang",
            "Phatthalung",
            "Pattani",
            "Yala",
            "Narathiwat",
            "Nonthaburi"
           ],
           "locations": [
            "Bangkok Metropolis",
            "Samut Prakan",
            "Pathum Thani",
            "Phra Nakhon Si Ayutthaya",
            "Ang Thong",
            "Lop Buri",
            "Sing Buri",
            "Chai Nat",
            "Saraburi",
            "Chon Buri",
            "Rayong",
            "Chanthaburi",
            "Trat",
            "Chachoengsao",
            "Prachin Buri",
            "Nakhon Nayok",
            "Sa Kaeo",
            "Ratchaburi",
            "Kanchanaburi",
            "Suphan Buri",
            "Nakhon Pathom",
            "Samut Sakhon",
            "Samut Songkhram",
            "Phetchaburi",
            "Prachuap Khiri Khan",
            "Chiang Mai",
            "Lamphun",
            "Lampang",
            "Uttaradit",
            "Phrae",
            "Nan",
            "Phayao",
            "Chiang Rai",
            "Mae Hong Son",
            "Nakhon Sawan",
            "Uthai Thani",
            "Kamphaeng Phet",
            "Tak",
            "Sukhothai",
            "Phitsanulok",
            "Phichit",
            "Phetchabun",
            "Nakhon Ratchasima",
            "Buri Ram",
            "Surin",
            "Si Sa Ket",
            "Ubon Ratchathani",
            "Yasothon",
            "Chaiyaphum",
            "Amnat Charoen",
            "Bueng Kan",
            "Nong Bua Lam Phu",
            "Khon Kaen",
            "Udon Thani",
            "Loei",
            "Nong Khai",
            "Maha Sarakham",
            "Roi Et",
            "Kalasin",
            "Sakon Nakhon",
            "Nakhon Phanom",
            "Mukdahan",
            "Nakhon Si Thammarat",
            "Krabi",
            "Phangnga",
            "Phuket",
            "Surat Thani",
            "Ranong",
            "Chumphon",
            "Songkhla",
            "Satun",
            "Trang",
            "Phatthalung",
            "Pattani",
            "Yala",
            "Narathiwat",
            "Nonthaburi"
           ],
           "name": "",
           "type": "choropleth",
           "z": [
            5682415,
            1310766,
            1129115,
            813852,
            281187,
            757273,
            210088,
            329722,
            642040,
            1509125,
            711236,
            534459,
            229649,
            709889,
            487544,
            259342,
            561938,
            871714,
            887979,
            852003,
            911492,
            568465,
            193902,
            482375,
            543979,
            1746840,
            405918,
            746547,
            457092,
            447564,
            479838,
            477100,
            1287615,
            279088,
            1065334,
            329942,
            729133,
            644267,
            599319,
            865368,
            541868,
            995331,
            2639226,
            1591905,
            1397180,
            1472031,
            1869633,
            539542,
            1139356,
            378107,
            423032,
            511641,
            1805910,
            1583092,
            641666,
            521886,
            963072,
            1307911,
            986005,
            1149472,
            718028,
            350782,
            1557482,
            469769,
            267491,
            402017,
            1057581,
            190399,
            509650,
            1424230,
            319700,
            643072,
            524857,
            709796,
            527295,
            796239,
            1229735
           ]
          }
         ],
         "name": "2560"
        },
        {
         "data": [
          {
           "coloraxis": "coloraxis",
           "featureidkey": "properties.NAME_1",
           "geo": "geo",
           "geojson": "https://raw.githubusercontent.com/cvibhagool/thailand-map/master/thailand-provinces.geojson",
           "hovertemplate": "<b>%{hovertext}</b><br><br>Year=2561<br>Province=%{location}<br>Population=%{z}<extra></extra>",
           "hovertext": [
            "Bangkok Metropolis",
            "Samut Prakan",
            "Pathum Thani",
            "Phra Nakhon Si Ayutthaya",
            "Ang Thong",
            "Lop Buri",
            "Sing Buri",
            "Chai Nat",
            "Saraburi",
            "Chon Buri",
            "Rayong",
            "Chanthaburi",
            "Trat",
            "Chachoengsao",
            "Prachin Buri",
            "Nakhon Nayok",
            "Sa Kaeo",
            "Ratchaburi",
            "Kanchanaburi",
            "Suphan Buri",
            "Nakhon Pathom",
            "Samut Sakhon",
            "Samut Songkhram",
            "Phetchaburi",
            "Prachuap Khiri Khan",
            "Chiang Mai",
            "Lamphun",
            "Lampang",
            "Uttaradit",
            "Phrae",
            "Nan",
            "Phayao",
            "Chiang Rai",
            "Mae Hong Son",
            "Nakhon Sawan",
            "Uthai Thani",
            "Kamphaeng Phet",
            "Tak",
            "Sukhothai",
            "Phitsanulok",
            "Phichit",
            "Phetchabun",
            "Nakhon Ratchasima",
            "Buri Ram",
            "Surin",
            "Si Sa Ket",
            "Ubon Ratchathani",
            "Yasothon",
            "Chaiyaphum",
            "Amnat Charoen",
            "Bueng Kan",
            "Nong Bua Lam Phu",
            "Khon Kaen",
            "Udon Thani",
            "Loei",
            "Nong Khai",
            "Maha Sarakham",
            "Roi Et",
            "Kalasin",
            "Sakon Nakhon",
            "Nakhon Phanom",
            "Mukdahan",
            "Nakhon Si Thammarat",
            "Krabi",
            "Phangnga",
            "Phuket",
            "Surat Thani",
            "Ranong",
            "Chumphon",
            "Songkhla",
            "Satun",
            "Trang",
            "Phatthalung",
            "Pattani",
            "Yala",
            "Narathiwat",
            "Nonthaburi"
           ],
           "locations": [
            "Bangkok Metropolis",
            "Samut Prakan",
            "Pathum Thani",
            "Phra Nakhon Si Ayutthaya",
            "Ang Thong",
            "Lop Buri",
            "Sing Buri",
            "Chai Nat",
            "Saraburi",
            "Chon Buri",
            "Rayong",
            "Chanthaburi",
            "Trat",
            "Chachoengsao",
            "Prachin Buri",
            "Nakhon Nayok",
            "Sa Kaeo",
            "Ratchaburi",
            "Kanchanaburi",
            "Suphan Buri",
            "Nakhon Pathom",
            "Samut Sakhon",
            "Samut Songkhram",
            "Phetchaburi",
            "Prachuap Khiri Khan",
            "Chiang Mai",
            "Lamphun",
            "Lampang",
            "Uttaradit",
            "Phrae",
            "Nan",
            "Phayao",
            "Chiang Rai",
            "Mae Hong Son",
            "Nakhon Sawan",
            "Uthai Thani",
            "Kamphaeng Phet",
            "Tak",
            "Sukhothai",
            "Phitsanulok",
            "Phichit",
            "Phetchabun",
            "Nakhon Ratchasima",
            "Buri Ram",
            "Surin",
            "Si Sa Ket",
            "Ubon Ratchathani",
            "Yasothon",
            "Chaiyaphum",
            "Amnat Charoen",
            "Bueng Kan",
            "Nong Bua Lam Phu",
            "Khon Kaen",
            "Udon Thani",
            "Loei",
            "Nong Khai",
            "Maha Sarakham",
            "Roi Et",
            "Kalasin",
            "Sakon Nakhon",
            "Nakhon Phanom",
            "Mukdahan",
            "Nakhon Si Thammarat",
            "Krabi",
            "Phangnga",
            "Phuket",
            "Surat Thani",
            "Ranong",
            "Chumphon",
            "Songkhla",
            "Satun",
            "Trang",
            "Phatthalung",
            "Pattani",
            "Yala",
            "Narathiwat",
            "Nonthaburi"
           ],
           "name": "",
           "type": "choropleth",
           "z": [
            5676648,
            1326608,
            1146092,
            817441,
            280840,
            758733,
            209377,
            328263,
            645024,
            1535445,
            723316,
            536496,
            229914,
            715009,
            491640,
            260093,
            564092,
            873518,
            893151,
            848720,
            917053,
            577964,
            193791,
            484294,
            548815,
            1763742,
            405955,
            742883,
            455403,
            445090,
            478989,
            475215,
            1292130,
            282566,
            1063964,
            329433,
            727807,
            654676,
            597257,
            866891,
            539374,
            994540,
            2646401,
            1594850,
            1397857,
            1473011,
            1874548,
            538729,
            1138777,
            378621,
            423940,
            512117,
            1805895,
            1586666,
            642773,
            522103,
            963047,
            1307208,
            985346,
            1152282,
            718786,
            352282,
            1560433,
            473738,
            268240,
            410211,
            1063501,
            191868,
            510963,
            1432628,
            321574,
            643116,
            525044,
            718077,
            532326,
            802474,
            1246295
           ]
          }
         ],
         "name": "2561"
        },
        {
         "data": [
          {
           "coloraxis": "coloraxis",
           "featureidkey": "properties.NAME_1",
           "geo": "geo",
           "geojson": "https://raw.githubusercontent.com/cvibhagool/thailand-map/master/thailand-provinces.geojson",
           "hovertemplate": "<b>%{hovertext}</b><br><br>Year=2562<br>Province=%{location}<br>Population=%{z}<extra></extra>",
           "hovertext": [
            "Bangkok Metropolis",
            "Samut Prakan",
            "Pathum Thani",
            "Phra Nakhon Si Ayutthaya",
            "Ang Thong",
            "Lop Buri",
            "Sing Buri",
            "Chai Nat",
            "Saraburi",
            "Chon Buri",
            "Rayong",
            "Chanthaburi",
            "Trat",
            "Chachoengsao",
            "Prachin Buri",
            "Nakhon Nayok",
            "Sa Kaeo",
            "Ratchaburi",
            "Kanchanaburi",
            "Suphan Buri",
            "Nakhon Pathom",
            "Samut Sakhon",
            "Samut Songkhram",
            "Phetchaburi",
            "Prachuap Khiri Khan",
            "Chiang Mai",
            "Lamphun",
            "Lampang",
            "Uttaradit",
            "Phrae",
            "Nan",
            "Phayao",
            "Chiang Rai",
            "Mae Hong Son",
            "Nakhon Sawan",
            "Uthai Thani",
            "Kamphaeng Phet",
            "Tak",
            "Sukhothai",
            "Phitsanulok",
            "Phichit",
            "Phetchabun",
            "Nakhon Ratchasima",
            "Buri Ram",
            "Surin",
            "Si Sa Ket",
            "Ubon Ratchathani",
            "Yasothon",
            "Chaiyaphum",
            "Amnat Charoen",
            "Bueng Kan",
            "Nong Bua Lam Phu",
            "Khon Kaen",
            "Udon Thani",
            "Loei",
            "Nong Khai",
            "Maha Sarakham",
            "Roi Et",
            "Kalasin",
            "Sakon Nakhon",
            "Nakhon Phanom",
            "Mukdahan",
            "Nakhon Si Thammarat",
            "Krabi",
            "Phangnga",
            "Phuket",
            "Surat Thani",
            "Ranong",
            "Chumphon",
            "Songkhla",
            "Satun",
            "Trang",
            "Phatthalung",
            "Pattani",
            "Yala",
            "Narathiwat",
            "Nonthaburi"
           ],
           "locations": [
            "Bangkok Metropolis",
            "Samut Prakan",
            "Pathum Thani",
            "Phra Nakhon Si Ayutthaya",
            "Ang Thong",
            "Lop Buri",
            "Sing Buri",
            "Chai Nat",
            "Saraburi",
            "Chon Buri",
            "Rayong",
            "Chanthaburi",
            "Trat",
            "Chachoengsao",
            "Prachin Buri",
            "Nakhon Nayok",
            "Sa Kaeo",
            "Ratchaburi",
            "Kanchanaburi",
            "Suphan Buri",
            "Nakhon Pathom",
            "Samut Sakhon",
            "Samut Songkhram",
            "Phetchaburi",
            "Prachuap Khiri Khan",
            "Chiang Mai",
            "Lamphun",
            "Lampang",
            "Uttaradit",
            "Phrae",
            "Nan",
            "Phayao",
            "Chiang Rai",
            "Mae Hong Son",
            "Nakhon Sawan",
            "Uthai Thani",
            "Kamphaeng Phet",
            "Tak",
            "Sukhothai",
            "Phitsanulok",
            "Phichit",
            "Phetchabun",
            "Nakhon Ratchasima",
            "Buri Ram",
            "Surin",
            "Si Sa Ket",
            "Ubon Ratchathani",
            "Yasothon",
            "Chaiyaphum",
            "Amnat Charoen",
            "Bueng Kan",
            "Nong Bua Lam Phu",
            "Khon Kaen",
            "Udon Thani",
            "Loei",
            "Nong Khai",
            "Maha Sarakham",
            "Roi Et",
            "Kalasin",
            "Sakon Nakhon",
            "Nakhon Phanom",
            "Mukdahan",
            "Nakhon Si Thammarat",
            "Krabi",
            "Phangnga",
            "Phuket",
            "Surat Thani",
            "Ranong",
            "Chumphon",
            "Songkhla",
            "Satun",
            "Trang",
            "Phatthalung",
            "Pattani",
            "Yala",
            "Narathiwat",
            "Nonthaburi"
           ],
           "name": "",
           "type": "choropleth",
           "z": [
            5666264,
            1344875,
            1163604,
            820188,
            279654,
            755556,
            208446,
            326611,
            645911,
            1558301,
            734753,
            537698,
            229958,
            720113,
            494680,
            260751,
            566303,
            873101,
            895525,
            846334,
            920030,
            584703,
            193305,
            485191,
            554116,
            1779254,
            405075,
            738316,
            453103,
            441726,
            478227,
            472356,
            1298304,
            284138,
            1059887,
            328618,
            725867,
            665620,
            595072,
            865247,
            536311,
            992451,
            2648927,
            1595747,
            1396831,
            1472859,
            1878146,
            537299,
            1137357,
            378438,
            424091,
            512780,
            1802872,
            1586646,
            642950,
            522311,
            962665,
            1305211,
            983418,
            1153390,
            719136,
            353174,
            1561927,
            476739,
            268788,
            416582,
            1068010,
            193370,
            511304,
            1435968,
            323586,
            643164,
            524865,
            725104,
            536330,
            808020,
            1265387
           ]
          }
         ],
         "name": "2562"
        }
       ],
       "layout": {
        "coloraxis": {
         "colorbar": {
          "title": {
           "text": "Population"
          }
         },
         "colorscale": [
          [
           0,
           "#000000"
          ],
          [
           0.0625,
           "#001f4d"
          ],
          [
           0.125,
           "#003786"
          ],
          [
           0.1875,
           "#0e58a8"
          ],
          [
           0.25,
           "#217eb8"
          ],
          [
           0.3125,
           "#30a4ca"
          ],
          [
           0.375,
           "#54c8df"
          ],
          [
           0.4375,
           "#9be4ef"
          ],
          [
           0.5,
           "#e1e9d1"
          ],
          [
           0.5625,
           "#f3d573"
          ],
          [
           0.625,
           "#e7b000"
          ],
          [
           0.6875,
           "#da8200"
          ],
          [
           0.75,
           "#c65400"
          ],
          [
           0.8125,
           "#ac2301"
          ],
          [
           0.875,
           "#820000"
          ],
          [
           0.9375,
           "#4c0000"
          ],
          [
           1,
           "#000000"
          ]
         ]
        },
        "geo": {
         "center": {},
         "domain": {
          "x": [
           0,
           1
          ],
          "y": [
           0,
           1
          ]
         },
         "fitbounds": "locations",
         "visible": false
        },
        "legend": {
         "tracegroupgap": 0
        },
        "margin": {
         "t": 60
        },
        "sliders": [
         {
          "active": 0,
          "currentvalue": {
           "prefix": "Year="
          },
          "len": 0.9,
          "pad": {
           "b": 10,
           "t": 60
          },
          "steps": [
           {
            "args": [
             [
              "2553"
             ],
             {
              "frame": {
               "duration": 0,
               "redraw": true
              },
              "fromcurrent": true,
              "mode": "immediate",
              "transition": {
               "duration": 0,
               "easing": "linear"
              }
             }
            ],
            "label": "2553",
            "method": "animate"
           },
           {
            "args": [
             [
              "2554"
             ],
             {
              "frame": {
               "duration": 0,
               "redraw": true
              },
              "fromcurrent": true,
              "mode": "immediate",
              "transition": {
               "duration": 0,
               "easing": "linear"
              }
             }
            ],
            "label": "2554",
            "method": "animate"
           },
           {
            "args": [
             [
              "2555"
             ],
             {
              "frame": {
               "duration": 0,
               "redraw": true
              },
              "fromcurrent": true,
              "mode": "immediate",
              "transition": {
               "duration": 0,
               "easing": "linear"
              }
             }
            ],
            "label": "2555",
            "method": "animate"
           },
           {
            "args": [
             [
              "2556"
             ],
             {
              "frame": {
               "duration": 0,
               "redraw": true
              },
              "fromcurrent": true,
              "mode": "immediate",
              "transition": {
               "duration": 0,
               "easing": "linear"
              }
             }
            ],
            "label": "2556",
            "method": "animate"
           },
           {
            "args": [
             [
              "2557"
             ],
             {
              "frame": {
               "duration": 0,
               "redraw": true
              },
              "fromcurrent": true,
              "mode": "immediate",
              "transition": {
               "duration": 0,
               "easing": "linear"
              }
             }
            ],
            "label": "2557",
            "method": "animate"
           },
           {
            "args": [
             [
              "2558"
             ],
             {
              "frame": {
               "duration": 0,
               "redraw": true
              },
              "fromcurrent": true,
              "mode": "immediate",
              "transition": {
               "duration": 0,
               "easing": "linear"
              }
             }
            ],
            "label": "2558",
            "method": "animate"
           },
           {
            "args": [
             [
              "2559"
             ],
             {
              "frame": {
               "duration": 0,
               "redraw": true
              },
              "fromcurrent": true,
              "mode": "immediate",
              "transition": {
               "duration": 0,
               "easing": "linear"
              }
             }
            ],
            "label": "2559",
            "method": "animate"
           },
           {
            "args": [
             [
              "2560"
             ],
             {
              "frame": {
               "duration": 0,
               "redraw": true
              },
              "fromcurrent": true,
              "mode": "immediate",
              "transition": {
               "duration": 0,
               "easing": "linear"
              }
             }
            ],
            "label": "2560",
            "method": "animate"
           },
           {
            "args": [
             [
              "2561"
             ],
             {
              "frame": {
               "duration": 0,
               "redraw": true
              },
              "fromcurrent": true,
              "mode": "immediate",
              "transition": {
               "duration": 0,
               "easing": "linear"
              }
             }
            ],
            "label": "2561",
            "method": "animate"
           },
           {
            "args": [
             [
              "2562"
             ],
             {
              "frame": {
               "duration": 0,
               "redraw": true
              },
              "fromcurrent": true,
              "mode": "immediate",
              "transition": {
               "duration": 0,
               "easing": "linear"
              }
             }
            ],
            "label": "2562",
            "method": "animate"
           }
          ],
          "x": 0.1,
          "xanchor": "left",
          "y": 0,
          "yanchor": "top"
         }
        ],
        "template": {
         "data": {
          "bar": [
           {
            "error_x": {
             "color": "#2a3f5f"
            },
            "error_y": {
             "color": "#2a3f5f"
            },
            "marker": {
             "line": {
              "color": "#E5ECF6",
              "width": 0.5
             }
            },
            "type": "bar"
           }
          ],
          "barpolar": [
           {
            "marker": {
             "line": {
              "color": "#E5ECF6",
              "width": 0.5
             }
            },
            "type": "barpolar"
           }
          ],
          "carpet": [
           {
            "aaxis": {
             "endlinecolor": "#2a3f5f",
             "gridcolor": "white",
             "linecolor": "white",
             "minorgridcolor": "white",
             "startlinecolor": "#2a3f5f"
            },
            "baxis": {
             "endlinecolor": "#2a3f5f",
             "gridcolor": "white",
             "linecolor": "white",
             "minorgridcolor": "white",
             "startlinecolor": "#2a3f5f"
            },
            "type": "carpet"
           }
          ],
          "choropleth": [
           {
            "colorbar": {
             "outlinewidth": 0,
             "ticks": ""
            },
            "type": "choropleth"
           }
          ],
          "contour": [
           {
            "colorbar": {
             "outlinewidth": 0,
             "ticks": ""
            },
            "colorscale": [
             [
              0,
              "#0d0887"
             ],
             [
              0.1111111111111111,
              "#46039f"
             ],
             [
              0.2222222222222222,
              "#7201a8"
             ],
             [
              0.3333333333333333,
              "#9c179e"
             ],
             [
              0.4444444444444444,
              "#bd3786"
             ],
             [
              0.5555555555555556,
              "#d8576b"
             ],
             [
              0.6666666666666666,
              "#ed7953"
             ],
             [
              0.7777777777777778,
              "#fb9f3a"
             ],
             [
              0.8888888888888888,
              "#fdca26"
             ],
             [
              1,
              "#f0f921"
             ]
            ],
            "type": "contour"
           }
          ],
          "contourcarpet": [
           {
            "colorbar": {
             "outlinewidth": 0,
             "ticks": ""
            },
            "type": "contourcarpet"
           }
          ],
          "heatmap": [
           {
            "colorbar": {
             "outlinewidth": 0,
             "ticks": ""
            },
            "colorscale": [
             [
              0,
              "#0d0887"
             ],
             [
              0.1111111111111111,
              "#46039f"
             ],
             [
              0.2222222222222222,
              "#7201a8"
             ],
             [
              0.3333333333333333,
              "#9c179e"
             ],
             [
              0.4444444444444444,
              "#bd3786"
             ],
             [
              0.5555555555555556,
              "#d8576b"
             ],
             [
              0.6666666666666666,
              "#ed7953"
             ],
             [
              0.7777777777777778,
              "#fb9f3a"
             ],
             [
              0.8888888888888888,
              "#fdca26"
             ],
             [
              1,
              "#f0f921"
             ]
            ],
            "type": "heatmap"
           }
          ],
          "heatmapgl": [
           {
            "colorbar": {
             "outlinewidth": 0,
             "ticks": ""
            },
            "colorscale": [
             [
              0,
              "#0d0887"
             ],
             [
              0.1111111111111111,
              "#46039f"
             ],
             [
              0.2222222222222222,
              "#7201a8"
             ],
             [
              0.3333333333333333,
              "#9c179e"
             ],
             [
              0.4444444444444444,
              "#bd3786"
             ],
             [
              0.5555555555555556,
              "#d8576b"
             ],
             [
              0.6666666666666666,
              "#ed7953"
             ],
             [
              0.7777777777777778,
              "#fb9f3a"
             ],
             [
              0.8888888888888888,
              "#fdca26"
             ],
             [
              1,
              "#f0f921"
             ]
            ],
            "type": "heatmapgl"
           }
          ],
          "histogram": [
           {
            "marker": {
             "colorbar": {
              "outlinewidth": 0,
              "ticks": ""
             }
            },
            "type": "histogram"
           }
          ],
          "histogram2d": [
           {
            "colorbar": {
             "outlinewidth": 0,
             "ticks": ""
            },
            "colorscale": [
             [
              0,
              "#0d0887"
             ],
             [
              0.1111111111111111,
              "#46039f"
             ],
             [
              0.2222222222222222,
              "#7201a8"
             ],
             [
              0.3333333333333333,
              "#9c179e"
             ],
             [
              0.4444444444444444,
              "#bd3786"
             ],
             [
              0.5555555555555556,
              "#d8576b"
             ],
             [
              0.6666666666666666,
              "#ed7953"
             ],
             [
              0.7777777777777778,
              "#fb9f3a"
             ],
             [
              0.8888888888888888,
              "#fdca26"
             ],
             [
              1,
              "#f0f921"
             ]
            ],
            "type": "histogram2d"
           }
          ],
          "histogram2dcontour": [
           {
            "colorbar": {
             "outlinewidth": 0,
             "ticks": ""
            },
            "colorscale": [
             [
              0,
              "#0d0887"
             ],
             [
              0.1111111111111111,
              "#46039f"
             ],
             [
              0.2222222222222222,
              "#7201a8"
             ],
             [
              0.3333333333333333,
              "#9c179e"
             ],
             [
              0.4444444444444444,
              "#bd3786"
             ],
             [
              0.5555555555555556,
              "#d8576b"
             ],
             [
              0.6666666666666666,
              "#ed7953"
             ],
             [
              0.7777777777777778,
              "#fb9f3a"
             ],
             [
              0.8888888888888888,
              "#fdca26"
             ],
             [
              1,
              "#f0f921"
             ]
            ],
            "type": "histogram2dcontour"
           }
          ],
          "mesh3d": [
           {
            "colorbar": {
             "outlinewidth": 0,
             "ticks": ""
            },
            "type": "mesh3d"
           }
          ],
          "parcoords": [
           {
            "line": {
             "colorbar": {
              "outlinewidth": 0,
              "ticks": ""
             }
            },
            "type": "parcoords"
           }
          ],
          "pie": [
           {
            "automargin": true,
            "type": "pie"
           }
          ],
          "scatter": [
           {
            "marker": {
             "colorbar": {
              "outlinewidth": 0,
              "ticks": ""
             }
            },
            "type": "scatter"
           }
          ],
          "scatter3d": [
           {
            "line": {
             "colorbar": {
              "outlinewidth": 0,
              "ticks": ""
             }
            },
            "marker": {
             "colorbar": {
              "outlinewidth": 0,
              "ticks": ""
             }
            },
            "type": "scatter3d"
           }
          ],
          "scattercarpet": [
           {
            "marker": {
             "colorbar": {
              "outlinewidth": 0,
              "ticks": ""
             }
            },
            "type": "scattercarpet"
           }
          ],
          "scattergeo": [
           {
            "marker": {
             "colorbar": {
              "outlinewidth": 0,
              "ticks": ""
             }
            },
            "type": "scattergeo"
           }
          ],
          "scattergl": [
           {
            "marker": {
             "colorbar": {
              "outlinewidth": 0,
              "ticks": ""
             }
            },
            "type": "scattergl"
           }
          ],
          "scattermapbox": [
           {
            "marker": {
             "colorbar": {
              "outlinewidth": 0,
              "ticks": ""
             }
            },
            "type": "scattermapbox"
           }
          ],
          "scatterpolar": [
           {
            "marker": {
             "colorbar": {
              "outlinewidth": 0,
              "ticks": ""
             }
            },
            "type": "scatterpolar"
           }
          ],
          "scatterpolargl": [
           {
            "marker": {
             "colorbar": {
              "outlinewidth": 0,
              "ticks": ""
             }
            },
            "type": "scatterpolargl"
           }
          ],
          "scatterternary": [
           {
            "marker": {
             "colorbar": {
              "outlinewidth": 0,
              "ticks": ""
             }
            },
            "type": "scatterternary"
           }
          ],
          "surface": [
           {
            "colorbar": {
             "outlinewidth": 0,
             "ticks": ""
            },
            "colorscale": [
             [
              0,
              "#0d0887"
             ],
             [
              0.1111111111111111,
              "#46039f"
             ],
             [
              0.2222222222222222,
              "#7201a8"
             ],
             [
              0.3333333333333333,
              "#9c179e"
             ],
             [
              0.4444444444444444,
              "#bd3786"
             ],
             [
              0.5555555555555556,
              "#d8576b"
             ],
             [
              0.6666666666666666,
              "#ed7953"
             ],
             [
              0.7777777777777778,
              "#fb9f3a"
             ],
             [
              0.8888888888888888,
              "#fdca26"
             ],
             [
              1,
              "#f0f921"
             ]
            ],
            "type": "surface"
           }
          ],
          "table": [
           {
            "cells": {
             "fill": {
              "color": "#EBF0F8"
             },
             "line": {
              "color": "white"
             }
            },
            "header": {
             "fill": {
              "color": "#C8D4E3"
             },
             "line": {
              "color": "white"
             }
            },
            "type": "table"
           }
          ]
         },
         "layout": {
          "annotationdefaults": {
           "arrowcolor": "#2a3f5f",
           "arrowhead": 0,
           "arrowwidth": 1
          },
          "coloraxis": {
           "colorbar": {
            "outlinewidth": 0,
            "ticks": ""
           }
          },
          "colorscale": {
           "diverging": [
            [
             0,
             "#8e0152"
            ],
            [
             0.1,
             "#c51b7d"
            ],
            [
             0.2,
             "#de77ae"
            ],
            [
             0.3,
             "#f1b6da"
            ],
            [
             0.4,
             "#fde0ef"
            ],
            [
             0.5,
             "#f7f7f7"
            ],
            [
             0.6,
             "#e6f5d0"
            ],
            [
             0.7,
             "#b8e186"
            ],
            [
             0.8,
             "#7fbc41"
            ],
            [
             0.9,
             "#4d9221"
            ],
            [
             1,
             "#276419"
            ]
           ],
           "sequential": [
            [
             0,
             "#0d0887"
            ],
            [
             0.1111111111111111,
             "#46039f"
            ],
            [
             0.2222222222222222,
             "#7201a8"
            ],
            [
             0.3333333333333333,
             "#9c179e"
            ],
            [
             0.4444444444444444,
             "#bd3786"
            ],
            [
             0.5555555555555556,
             "#d8576b"
            ],
            [
             0.6666666666666666,
             "#ed7953"
            ],
            [
             0.7777777777777778,
             "#fb9f3a"
            ],
            [
             0.8888888888888888,
             "#fdca26"
            ],
            [
             1,
             "#f0f921"
            ]
           ],
           "sequentialminus": [
            [
             0,
             "#0d0887"
            ],
            [
             0.1111111111111111,
             "#46039f"
            ],
            [
             0.2222222222222222,
             "#7201a8"
            ],
            [
             0.3333333333333333,
             "#9c179e"
            ],
            [
             0.4444444444444444,
             "#bd3786"
            ],
            [
             0.5555555555555556,
             "#d8576b"
            ],
            [
             0.6666666666666666,
             "#ed7953"
            ],
            [
             0.7777777777777778,
             "#fb9f3a"
            ],
            [
             0.8888888888888888,
             "#fdca26"
            ],
            [
             1,
             "#f0f921"
            ]
           ]
          },
          "colorway": [
           "#636efa",
           "#EF553B",
           "#00cc96",
           "#ab63fa",
           "#FFA15A",
           "#19d3f3",
           "#FF6692",
           "#B6E880",
           "#FF97FF",
           "#FECB52"
          ],
          "font": {
           "color": "#2a3f5f"
          },
          "geo": {
           "bgcolor": "white",
           "lakecolor": "white",
           "landcolor": "#E5ECF6",
           "showlakes": true,
           "showland": true,
           "subunitcolor": "white"
          },
          "hoverlabel": {
           "align": "left"
          },
          "hovermode": "closest",
          "mapbox": {
           "style": "light"
          },
          "paper_bgcolor": "white",
          "plot_bgcolor": "#E5ECF6",
          "polar": {
           "angularaxis": {
            "gridcolor": "white",
            "linecolor": "white",
            "ticks": ""
           },
           "bgcolor": "#E5ECF6",
           "radialaxis": {
            "gridcolor": "white",
            "linecolor": "white",
            "ticks": ""
           }
          },
          "scene": {
           "xaxis": {
            "backgroundcolor": "#E5ECF6",
            "gridcolor": "white",
            "gridwidth": 2,
            "linecolor": "white",
            "showbackground": true,
            "ticks": "",
            "zerolinecolor": "white"
           },
           "yaxis": {
            "backgroundcolor": "#E5ECF6",
            "gridcolor": "white",
            "gridwidth": 2,
            "linecolor": "white",
            "showbackground": true,
            "ticks": "",
            "zerolinecolor": "white"
           },
           "zaxis": {
            "backgroundcolor": "#E5ECF6",
            "gridcolor": "white",
            "gridwidth": 2,
            "linecolor": "white",
            "showbackground": true,
            "ticks": "",
            "zerolinecolor": "white"
           }
          },
          "shapedefaults": {
           "line": {
            "color": "#2a3f5f"
           }
          },
          "ternary": {
           "aaxis": {
            "gridcolor": "white",
            "linecolor": "white",
            "ticks": ""
           },
           "baxis": {
            "gridcolor": "white",
            "linecolor": "white",
            "ticks": ""
           },
           "bgcolor": "#E5ECF6",
           "caxis": {
            "gridcolor": "white",
            "linecolor": "white",
            "ticks": ""
           }
          },
          "title": {
           "x": 0.05
          },
          "xaxis": {
           "automargin": true,
           "gridcolor": "white",
           "linecolor": "white",
           "ticks": "",
           "title": {
            "standoff": 15
           },
           "zerolinecolor": "white",
           "zerolinewidth": 2
          },
          "yaxis": {
           "automargin": true,
           "gridcolor": "white",
           "linecolor": "white",
           "ticks": "",
           "title": {
            "standoff": 15
           },
           "zerolinecolor": "white",
           "zerolinewidth": 2
          }
         }
        },
        "updatemenus": [
         {
          "buttons": [
           {
            "args": [
             null,
             {
              "frame": {
               "duration": 500,
               "redraw": true
              },
              "fromcurrent": true,
              "mode": "immediate",
              "transition": {
               "duration": 500,
               "easing": "linear"
              }
             }
            ],
            "label": "&#9654;",
            "method": "animate"
           },
           {
            "args": [
             [
              null
             ],
             {
              "frame": {
               "duration": 0,
               "redraw": true
              },
              "fromcurrent": true,
              "mode": "immediate",
              "transition": {
               "duration": 0,
               "easing": "linear"
              }
             }
            ],
            "label": "&#9724;",
            "method": "animate"
           }
          ],
          "direction": "left",
          "pad": {
           "r": 10,
           "t": 70
          },
          "showactive": false,
          "type": "buttons",
          "x": 0.1,
          "xanchor": "right",
          "y": 0,
          "yanchor": "top"
         }
        ]
       }
      },
      "text/html": [
       "<div>                            <div id=\"84ba056f-d247-4acd-b9c0-4d7c722b2778\" class=\"plotly-graph-div\" style=\"height:525px; width:100%;\"></div>            <script type=\"text/javascript\">                require([\"plotly\"], function(Plotly) {                    window.PLOTLYENV=window.PLOTLYENV || {};                                    if (document.getElementById(\"84ba056f-d247-4acd-b9c0-4d7c722b2778\")) {                    Plotly.newPlot(                        \"84ba056f-d247-4acd-b9c0-4d7c722b2778\",                        [{\"coloraxis\": \"coloraxis\", \"featureidkey\": \"properties.NAME_1\", \"geo\": \"geo\", \"geojson\": \"https://raw.githubusercontent.com/cvibhagool/thailand-map/master/thailand-provinces.geojson\", \"hovertemplate\": \"<b>%{hovertext}</b><br><br>Year=2553<br>Province=%{location}<br>Population=%{z}<extra></extra>\", \"hovertext\": [\"Bangkok Metropolis\", \"Samut Prakan\", \"Pathum Thani\", \"Phra Nakhon Si Ayutthaya\", \"Ang Thong\", \"Lop Buri\", \"Sing Buri\", \"Chai Nat\", \"Saraburi\", \"Chon Buri\", \"Rayong\", \"Chanthaburi\", \"Trat\", \"Chachoengsao\", \"Prachin Buri\", \"Nakhon Nayok\", \"Sa Kaeo\", \"Ratchaburi\", \"Kanchanaburi\", \"Suphan Buri\", \"Nakhon Pathom\", \"Samut Sakhon\", \"Samut Songkhram\", \"Phetchaburi\", \"Prachuap Khiri Khan\", \"Chiang Mai\", \"Lamphun\", \"Lampang\", \"Uttaradit\", \"Phrae\", \"Nan\", \"Phayao\", \"Chiang Rai\", \"Mae Hong Son\", \"Nakhon Sawan\", \"Uthai Thani\", \"Kamphaeng Phet\", \"Tak\", \"Sukhothai\", \"Phitsanulok\", \"Phichit\", \"Phetchabun\", \"Nakhon Ratchasima\", \"Buri Ram\", \"Surin\", \"Si Sa Ket\", \"Ubon Ratchathani\", \"Yasothon\", \"Chaiyaphum\", \"Amnat Charoen\", \"Bueng Kan\", \"Nong Bua Lam Phu\", \"Khon Kaen\", \"Udon Thani\", \"Loei\", \"Nong Khai\", \"Maha Sarakham\", \"Roi Et\", \"Kalasin\", \"Sakon Nakhon\", \"Nakhon Phanom\", \"Mukdahan\", \"Nakhon Si Thammarat\", \"Krabi\", \"Phangnga\", \"Phuket\", \"Surat Thani\", \"Ranong\", \"Chumphon\", \"Songkhla\", \"Satun\", \"Trang\", \"Phatthalung\", \"Pattani\", \"Yala\", \"Narathiwat\", \"Nonthaburi\"], \"locations\": [\"Bangkok Metropolis\", \"Samut Prakan\", \"Pathum Thani\", \"Phra Nakhon Si Ayutthaya\", \"Ang Thong\", \"Lop Buri\", \"Sing Buri\", \"Chai Nat\", \"Saraburi\", \"Chon Buri\", \"Rayong\", \"Chanthaburi\", \"Trat\", \"Chachoengsao\", \"Prachin Buri\", \"Nakhon Nayok\", \"Sa Kaeo\", \"Ratchaburi\", \"Kanchanaburi\", \"Suphan Buri\", \"Nakhon Pathom\", \"Samut Sakhon\", \"Samut Songkhram\", \"Phetchaburi\", \"Prachuap Khiri Khan\", \"Chiang Mai\", \"Lamphun\", \"Lampang\", \"Uttaradit\", \"Phrae\", \"Nan\", \"Phayao\", \"Chiang Rai\", \"Mae Hong Son\", \"Nakhon Sawan\", \"Uthai Thani\", \"Kamphaeng Phet\", \"Tak\", \"Sukhothai\", \"Phitsanulok\", \"Phichit\", \"Phetchabun\", \"Nakhon Ratchasima\", \"Buri Ram\", \"Surin\", \"Si Sa Ket\", \"Ubon Ratchathani\", \"Yasothon\", \"Chaiyaphum\", \"Amnat Charoen\", \"Bueng Kan\", \"Nong Bua Lam Phu\", \"Khon Kaen\", \"Udon Thani\", \"Loei\", \"Nong Khai\", \"Maha Sarakham\", \"Roi Et\", \"Kalasin\", \"Sakon Nakhon\", \"Nakhon Phanom\", \"Mukdahan\", \"Nakhon Si Thammarat\", \"Krabi\", \"Phangnga\", \"Phuket\", \"Surat Thani\", \"Ranong\", \"Chumphon\", \"Songkhla\", \"Satun\", \"Trang\", \"Phatthalung\", \"Pattani\", \"Yala\", \"Narathiwat\", \"Nonthaburi\"], \"name\": \"\", \"type\": \"choropleth\", \"z\": [5701394.0, 1185180.0, 985643.0, 782096.0, 284970.0, 755854.0, 214661.0, 334934.0, 617384.0, 1316293.0, 626402.0, 514616.0, 220921.0, 673933.0, 466572.0, 252734.0, 544100.0, 839075.0, 839776.0, 845850.0, 860246.0, 491887.0, 194057.0, 464033.0, 509134.0, 1640479.0, 404560.0, 761949.0, 462618.0, 460756.0, 476363.0, 486304.0, 1198218.0, 242742.0, 1073495.0, 327959.0, 727093.0, 525684.0, 601778.0, 849692.0, 552690.0, 996031.0, 2582089.0, 1553765.0, 1381761.0, 1452471.0, 1813088.0, 539257.0, 1127423.0, 372137.0, null, 502868.0, 1767601.0, 1544786.0, 624066.0, 912937.0, 940911.0, 1309708.0, 982578.0, 1122905.0, 703392.0, 339575.0, 1522561.0, 432704.0, 253112.0, 345067.0, 1000383.0, 183079.0, 489964.0, 1357023.0, 297163.0, 622659.0, 509534.0, 655259.0, 487380.0, 737162.0, 1101743.0]}],                        {\"coloraxis\": {\"colorbar\": {\"title\": {\"text\": \"Population\"}}, \"colorscale\": [[0.0, \"#000000\"], [0.0625, \"#001f4d\"], [0.125, \"#003786\"], [0.1875, \"#0e58a8\"], [0.25, \"#217eb8\"], [0.3125, \"#30a4ca\"], [0.375, \"#54c8df\"], [0.4375, \"#9be4ef\"], [0.5, \"#e1e9d1\"], [0.5625, \"#f3d573\"], [0.625, \"#e7b000\"], [0.6875, \"#da8200\"], [0.75, \"#c65400\"], [0.8125, \"#ac2301\"], [0.875, \"#820000\"], [0.9375, \"#4c0000\"], [1.0, \"#000000\"]]}, \"geo\": {\"center\": {}, \"domain\": {\"x\": [0.0, 1.0], \"y\": [0.0, 1.0]}, \"fitbounds\": \"locations\", \"visible\": false}, \"legend\": {\"tracegroupgap\": 0}, \"margin\": {\"t\": 60}, \"sliders\": [{\"active\": 0, \"currentvalue\": {\"prefix\": \"Year=\"}, \"len\": 0.9, \"pad\": {\"b\": 10, \"t\": 60}, \"steps\": [{\"args\": [[\"2553\"], {\"frame\": {\"duration\": 0, \"redraw\": true}, \"fromcurrent\": true, \"mode\": \"immediate\", \"transition\": {\"duration\": 0, \"easing\": \"linear\"}}], \"label\": \"2553\", \"method\": \"animate\"}, {\"args\": [[\"2554\"], {\"frame\": {\"duration\": 0, \"redraw\": true}, \"fromcurrent\": true, \"mode\": \"immediate\", \"transition\": {\"duration\": 0, \"easing\": \"linear\"}}], \"label\": \"2554\", \"method\": \"animate\"}, {\"args\": [[\"2555\"], {\"frame\": {\"duration\": 0, \"redraw\": true}, \"fromcurrent\": true, \"mode\": \"immediate\", \"transition\": {\"duration\": 0, \"easing\": \"linear\"}}], \"label\": \"2555\", \"method\": \"animate\"}, {\"args\": [[\"2556\"], {\"frame\": {\"duration\": 0, \"redraw\": true}, \"fromcurrent\": true, \"mode\": \"immediate\", \"transition\": {\"duration\": 0, \"easing\": \"linear\"}}], \"label\": \"2556\", \"method\": \"animate\"}, {\"args\": [[\"2557\"], {\"frame\": {\"duration\": 0, \"redraw\": true}, \"fromcurrent\": true, \"mode\": \"immediate\", \"transition\": {\"duration\": 0, \"easing\": \"linear\"}}], \"label\": \"2557\", \"method\": \"animate\"}, {\"args\": [[\"2558\"], {\"frame\": {\"duration\": 0, \"redraw\": true}, \"fromcurrent\": true, \"mode\": \"immediate\", \"transition\": {\"duration\": 0, \"easing\": \"linear\"}}], \"label\": \"2558\", \"method\": \"animate\"}, {\"args\": [[\"2559\"], {\"frame\": {\"duration\": 0, \"redraw\": true}, \"fromcurrent\": true, \"mode\": \"immediate\", \"transition\": {\"duration\": 0, \"easing\": \"linear\"}}], \"label\": \"2559\", \"method\": \"animate\"}, {\"args\": [[\"2560\"], {\"frame\": {\"duration\": 0, \"redraw\": true}, \"fromcurrent\": true, \"mode\": \"immediate\", \"transition\": {\"duration\": 0, \"easing\": \"linear\"}}], \"label\": \"2560\", \"method\": \"animate\"}, {\"args\": [[\"2561\"], {\"frame\": {\"duration\": 0, \"redraw\": true}, \"fromcurrent\": true, \"mode\": \"immediate\", \"transition\": {\"duration\": 0, \"easing\": \"linear\"}}], \"label\": \"2561\", \"method\": \"animate\"}, {\"args\": [[\"2562\"], {\"frame\": {\"duration\": 0, \"redraw\": true}, \"fromcurrent\": true, \"mode\": \"immediate\", \"transition\": {\"duration\": 0, \"easing\": \"linear\"}}], \"label\": \"2562\", \"method\": \"animate\"}], \"x\": 0.1, \"xanchor\": \"left\", \"y\": 0, \"yanchor\": \"top\"}], \"template\": {\"data\": {\"bar\": [{\"error_x\": {\"color\": \"#2a3f5f\"}, \"error_y\": {\"color\": \"#2a3f5f\"}, \"marker\": {\"line\": {\"color\": \"#E5ECF6\", \"width\": 0.5}}, \"type\": \"bar\"}], \"barpolar\": [{\"marker\": {\"line\": {\"color\": \"#E5ECF6\", \"width\": 0.5}}, \"type\": \"barpolar\"}], \"carpet\": [{\"aaxis\": {\"endlinecolor\": \"#2a3f5f\", \"gridcolor\": \"white\", \"linecolor\": \"white\", \"minorgridcolor\": \"white\", \"startlinecolor\": \"#2a3f5f\"}, \"baxis\": {\"endlinecolor\": \"#2a3f5f\", \"gridcolor\": \"white\", \"linecolor\": \"white\", \"minorgridcolor\": \"white\", \"startlinecolor\": \"#2a3f5f\"}, \"type\": \"carpet\"}], \"choropleth\": [{\"colorbar\": {\"outlinewidth\": 0, \"ticks\": \"\"}, \"type\": \"choropleth\"}], \"contour\": [{\"colorbar\": {\"outlinewidth\": 0, \"ticks\": \"\"}, \"colorscale\": [[0.0, \"#0d0887\"], [0.1111111111111111, \"#46039f\"], [0.2222222222222222, \"#7201a8\"], [0.3333333333333333, \"#9c179e\"], [0.4444444444444444, \"#bd3786\"], [0.5555555555555556, \"#d8576b\"], [0.6666666666666666, \"#ed7953\"], [0.7777777777777778, \"#fb9f3a\"], [0.8888888888888888, \"#fdca26\"], [1.0, \"#f0f921\"]], \"type\": \"contour\"}], \"contourcarpet\": [{\"colorbar\": {\"outlinewidth\": 0, \"ticks\": \"\"}, \"type\": \"contourcarpet\"}], \"heatmap\": [{\"colorbar\": {\"outlinewidth\": 0, \"ticks\": \"\"}, \"colorscale\": [[0.0, \"#0d0887\"], [0.1111111111111111, \"#46039f\"], [0.2222222222222222, \"#7201a8\"], [0.3333333333333333, \"#9c179e\"], [0.4444444444444444, \"#bd3786\"], [0.5555555555555556, \"#d8576b\"], [0.6666666666666666, \"#ed7953\"], [0.7777777777777778, \"#fb9f3a\"], [0.8888888888888888, \"#fdca26\"], [1.0, \"#f0f921\"]], \"type\": \"heatmap\"}], \"heatmapgl\": [{\"colorbar\": {\"outlinewidth\": 0, \"ticks\": \"\"}, \"colorscale\": [[0.0, \"#0d0887\"], [0.1111111111111111, \"#46039f\"], [0.2222222222222222, \"#7201a8\"], [0.3333333333333333, \"#9c179e\"], [0.4444444444444444, \"#bd3786\"], [0.5555555555555556, \"#d8576b\"], [0.6666666666666666, \"#ed7953\"], [0.7777777777777778, \"#fb9f3a\"], [0.8888888888888888, \"#fdca26\"], [1.0, \"#f0f921\"]], \"type\": \"heatmapgl\"}], \"histogram\": [{\"marker\": {\"colorbar\": {\"outlinewidth\": 0, \"ticks\": \"\"}}, \"type\": \"histogram\"}], \"histogram2d\": [{\"colorbar\": {\"outlinewidth\": 0, \"ticks\": \"\"}, \"colorscale\": [[0.0, \"#0d0887\"], [0.1111111111111111, \"#46039f\"], [0.2222222222222222, \"#7201a8\"], [0.3333333333333333, \"#9c179e\"], [0.4444444444444444, \"#bd3786\"], [0.5555555555555556, \"#d8576b\"], [0.6666666666666666, \"#ed7953\"], [0.7777777777777778, \"#fb9f3a\"], [0.8888888888888888, \"#fdca26\"], [1.0, \"#f0f921\"]], \"type\": \"histogram2d\"}], \"histogram2dcontour\": [{\"colorbar\": {\"outlinewidth\": 0, \"ticks\": \"\"}, \"colorscale\": [[0.0, \"#0d0887\"], [0.1111111111111111, \"#46039f\"], [0.2222222222222222, \"#7201a8\"], [0.3333333333333333, \"#9c179e\"], [0.4444444444444444, \"#bd3786\"], [0.5555555555555556, \"#d8576b\"], [0.6666666666666666, \"#ed7953\"], [0.7777777777777778, \"#fb9f3a\"], [0.8888888888888888, \"#fdca26\"], [1.0, \"#f0f921\"]], \"type\": \"histogram2dcontour\"}], \"mesh3d\": [{\"colorbar\": {\"outlinewidth\": 0, \"ticks\": \"\"}, \"type\": \"mesh3d\"}], \"parcoords\": [{\"line\": {\"colorbar\": {\"outlinewidth\": 0, \"ticks\": \"\"}}, \"type\": \"parcoords\"}], \"pie\": [{\"automargin\": true, \"type\": \"pie\"}], \"scatter\": [{\"marker\": {\"colorbar\": {\"outlinewidth\": 0, \"ticks\": \"\"}}, \"type\": \"scatter\"}], \"scatter3d\": [{\"line\": {\"colorbar\": {\"outlinewidth\": 0, \"ticks\": \"\"}}, \"marker\": {\"colorbar\": {\"outlinewidth\": 0, \"ticks\": \"\"}}, \"type\": \"scatter3d\"}], \"scattercarpet\": [{\"marker\": {\"colorbar\": {\"outlinewidth\": 0, \"ticks\": \"\"}}, \"type\": \"scattercarpet\"}], \"scattergeo\": [{\"marker\": {\"colorbar\": {\"outlinewidth\": 0, \"ticks\": \"\"}}, \"type\": \"scattergeo\"}], \"scattergl\": [{\"marker\": {\"colorbar\": {\"outlinewidth\": 0, \"ticks\": \"\"}}, \"type\": \"scattergl\"}], \"scattermapbox\": [{\"marker\": {\"colorbar\": {\"outlinewidth\": 0, \"ticks\": \"\"}}, \"type\": \"scattermapbox\"}], \"scatterpolar\": [{\"marker\": {\"colorbar\": {\"outlinewidth\": 0, \"ticks\": \"\"}}, \"type\": \"scatterpolar\"}], \"scatterpolargl\": [{\"marker\": {\"colorbar\": {\"outlinewidth\": 0, \"ticks\": \"\"}}, \"type\": \"scatterpolargl\"}], \"scatterternary\": [{\"marker\": {\"colorbar\": {\"outlinewidth\": 0, \"ticks\": \"\"}}, \"type\": \"scatterternary\"}], \"surface\": [{\"colorbar\": {\"outlinewidth\": 0, \"ticks\": \"\"}, \"colorscale\": [[0.0, \"#0d0887\"], [0.1111111111111111, \"#46039f\"], [0.2222222222222222, \"#7201a8\"], [0.3333333333333333, \"#9c179e\"], [0.4444444444444444, \"#bd3786\"], [0.5555555555555556, \"#d8576b\"], [0.6666666666666666, \"#ed7953\"], [0.7777777777777778, \"#fb9f3a\"], [0.8888888888888888, \"#fdca26\"], [1.0, \"#f0f921\"]], \"type\": \"surface\"}], \"table\": [{\"cells\": {\"fill\": {\"color\": \"#EBF0F8\"}, \"line\": {\"color\": \"white\"}}, \"header\": {\"fill\": {\"color\": \"#C8D4E3\"}, \"line\": {\"color\": \"white\"}}, \"type\": \"table\"}]}, \"layout\": {\"annotationdefaults\": {\"arrowcolor\": \"#2a3f5f\", \"arrowhead\": 0, \"arrowwidth\": 1}, \"coloraxis\": {\"colorbar\": {\"outlinewidth\": 0, \"ticks\": \"\"}}, \"colorscale\": {\"diverging\": [[0, \"#8e0152\"], [0.1, \"#c51b7d\"], [0.2, \"#de77ae\"], [0.3, \"#f1b6da\"], [0.4, \"#fde0ef\"], [0.5, \"#f7f7f7\"], [0.6, \"#e6f5d0\"], [0.7, \"#b8e186\"], [0.8, \"#7fbc41\"], [0.9, \"#4d9221\"], [1, \"#276419\"]], \"sequential\": [[0.0, \"#0d0887\"], [0.1111111111111111, \"#46039f\"], [0.2222222222222222, \"#7201a8\"], [0.3333333333333333, \"#9c179e\"], [0.4444444444444444, \"#bd3786\"], [0.5555555555555556, \"#d8576b\"], [0.6666666666666666, \"#ed7953\"], [0.7777777777777778, \"#fb9f3a\"], [0.8888888888888888, \"#fdca26\"], [1.0, \"#f0f921\"]], \"sequentialminus\": [[0.0, \"#0d0887\"], [0.1111111111111111, \"#46039f\"], [0.2222222222222222, \"#7201a8\"], [0.3333333333333333, \"#9c179e\"], [0.4444444444444444, \"#bd3786\"], [0.5555555555555556, \"#d8576b\"], [0.6666666666666666, \"#ed7953\"], [0.7777777777777778, \"#fb9f3a\"], [0.8888888888888888, \"#fdca26\"], [1.0, \"#f0f921\"]]}, \"colorway\": [\"#636efa\", \"#EF553B\", \"#00cc96\", \"#ab63fa\", \"#FFA15A\", \"#19d3f3\", \"#FF6692\", \"#B6E880\", \"#FF97FF\", \"#FECB52\"], \"font\": {\"color\": \"#2a3f5f\"}, \"geo\": {\"bgcolor\": \"white\", \"lakecolor\": \"white\", \"landcolor\": \"#E5ECF6\", \"showlakes\": true, \"showland\": true, \"subunitcolor\": \"white\"}, \"hoverlabel\": {\"align\": \"left\"}, \"hovermode\": \"closest\", \"mapbox\": {\"style\": \"light\"}, \"paper_bgcolor\": \"white\", \"plot_bgcolor\": \"#E5ECF6\", \"polar\": {\"angularaxis\": {\"gridcolor\": \"white\", \"linecolor\": \"white\", \"ticks\": \"\"}, \"bgcolor\": \"#E5ECF6\", \"radialaxis\": {\"gridcolor\": \"white\", \"linecolor\": \"white\", \"ticks\": \"\"}}, \"scene\": {\"xaxis\": {\"backgroundcolor\": \"#E5ECF6\", \"gridcolor\": \"white\", \"gridwidth\": 2, \"linecolor\": \"white\", \"showbackground\": true, \"ticks\": \"\", \"zerolinecolor\": \"white\"}, \"yaxis\": {\"backgroundcolor\": \"#E5ECF6\", \"gridcolor\": \"white\", \"gridwidth\": 2, \"linecolor\": \"white\", \"showbackground\": true, \"ticks\": \"\", \"zerolinecolor\": \"white\"}, \"zaxis\": {\"backgroundcolor\": \"#E5ECF6\", \"gridcolor\": \"white\", \"gridwidth\": 2, \"linecolor\": \"white\", \"showbackground\": true, \"ticks\": \"\", \"zerolinecolor\": \"white\"}}, \"shapedefaults\": {\"line\": {\"color\": \"#2a3f5f\"}}, \"ternary\": {\"aaxis\": {\"gridcolor\": \"white\", \"linecolor\": \"white\", \"ticks\": \"\"}, \"baxis\": {\"gridcolor\": \"white\", \"linecolor\": \"white\", \"ticks\": \"\"}, \"bgcolor\": \"#E5ECF6\", \"caxis\": {\"gridcolor\": \"white\", \"linecolor\": \"white\", \"ticks\": \"\"}}, \"title\": {\"x\": 0.05}, \"xaxis\": {\"automargin\": true, \"gridcolor\": \"white\", \"linecolor\": \"white\", \"ticks\": \"\", \"title\": {\"standoff\": 15}, \"zerolinecolor\": \"white\", \"zerolinewidth\": 2}, \"yaxis\": {\"automargin\": true, \"gridcolor\": \"white\", \"linecolor\": \"white\", \"ticks\": \"\", \"title\": {\"standoff\": 15}, \"zerolinecolor\": \"white\", \"zerolinewidth\": 2}}}, \"updatemenus\": [{\"buttons\": [{\"args\": [null, {\"frame\": {\"duration\": 500, \"redraw\": true}, \"fromcurrent\": true, \"mode\": \"immediate\", \"transition\": {\"duration\": 500, \"easing\": \"linear\"}}], \"label\": \"&#9654;\", \"method\": \"animate\"}, {\"args\": [[null], {\"frame\": {\"duration\": 0, \"redraw\": true}, \"fromcurrent\": true, \"mode\": \"immediate\", \"transition\": {\"duration\": 0, \"easing\": \"linear\"}}], \"label\": \"&#9724;\", \"method\": \"animate\"}], \"direction\": \"left\", \"pad\": {\"r\": 10, \"t\": 70}, \"showactive\": false, \"type\": \"buttons\", \"x\": 0.1, \"xanchor\": \"right\", \"y\": 0, \"yanchor\": \"top\"}]},                        {\"responsive\": true}                    ).then(function(){\n",
       "                            Plotly.addFrames('84ba056f-d247-4acd-b9c0-4d7c722b2778', [{\"data\": [{\"coloraxis\": \"coloraxis\", \"featureidkey\": \"properties.NAME_1\", \"geo\": \"geo\", \"geojson\": \"https://raw.githubusercontent.com/cvibhagool/thailand-map/master/thailand-provinces.geojson\", \"hovertemplate\": \"<b>%{hovertext}</b><br><br>Year=2553<br>Province=%{location}<br>Population=%{z}<extra></extra>\", \"hovertext\": [\"Bangkok Metropolis\", \"Samut Prakan\", \"Pathum Thani\", \"Phra Nakhon Si Ayutthaya\", \"Ang Thong\", \"Lop Buri\", \"Sing Buri\", \"Chai Nat\", \"Saraburi\", \"Chon Buri\", \"Rayong\", \"Chanthaburi\", \"Trat\", \"Chachoengsao\", \"Prachin Buri\", \"Nakhon Nayok\", \"Sa Kaeo\", \"Ratchaburi\", \"Kanchanaburi\", \"Suphan Buri\", \"Nakhon Pathom\", \"Samut Sakhon\", \"Samut Songkhram\", \"Phetchaburi\", \"Prachuap Khiri Khan\", \"Chiang Mai\", \"Lamphun\", \"Lampang\", \"Uttaradit\", \"Phrae\", \"Nan\", \"Phayao\", \"Chiang Rai\", \"Mae Hong Son\", \"Nakhon Sawan\", \"Uthai Thani\", \"Kamphaeng Phet\", \"Tak\", \"Sukhothai\", \"Phitsanulok\", \"Phichit\", \"Phetchabun\", \"Nakhon Ratchasima\", \"Buri Ram\", \"Surin\", \"Si Sa Ket\", \"Ubon Ratchathani\", \"Yasothon\", \"Chaiyaphum\", \"Amnat Charoen\", \"Bueng Kan\", \"Nong Bua Lam Phu\", \"Khon Kaen\", \"Udon Thani\", \"Loei\", \"Nong Khai\", \"Maha Sarakham\", \"Roi Et\", \"Kalasin\", \"Sakon Nakhon\", \"Nakhon Phanom\", \"Mukdahan\", \"Nakhon Si Thammarat\", \"Krabi\", \"Phangnga\", \"Phuket\", \"Surat Thani\", \"Ranong\", \"Chumphon\", \"Songkhla\", \"Satun\", \"Trang\", \"Phatthalung\", \"Pattani\", \"Yala\", \"Narathiwat\", \"Nonthaburi\"], \"locations\": [\"Bangkok Metropolis\", \"Samut Prakan\", \"Pathum Thani\", \"Phra Nakhon Si Ayutthaya\", \"Ang Thong\", \"Lop Buri\", \"Sing Buri\", \"Chai Nat\", \"Saraburi\", \"Chon Buri\", \"Rayong\", \"Chanthaburi\", \"Trat\", \"Chachoengsao\", \"Prachin Buri\", \"Nakhon Nayok\", \"Sa Kaeo\", \"Ratchaburi\", \"Kanchanaburi\", \"Suphan Buri\", \"Nakhon Pathom\", \"Samut Sakhon\", \"Samut Songkhram\", \"Phetchaburi\", \"Prachuap Khiri Khan\", \"Chiang Mai\", \"Lamphun\", \"Lampang\", \"Uttaradit\", \"Phrae\", \"Nan\", \"Phayao\", \"Chiang Rai\", \"Mae Hong Son\", \"Nakhon Sawan\", \"Uthai Thani\", \"Kamphaeng Phet\", \"Tak\", \"Sukhothai\", \"Phitsanulok\", \"Phichit\", \"Phetchabun\", \"Nakhon Ratchasima\", \"Buri Ram\", \"Surin\", \"Si Sa Ket\", \"Ubon Ratchathani\", \"Yasothon\", \"Chaiyaphum\", \"Amnat Charoen\", \"Bueng Kan\", \"Nong Bua Lam Phu\", \"Khon Kaen\", \"Udon Thani\", \"Loei\", \"Nong Khai\", \"Maha Sarakham\", \"Roi Et\", \"Kalasin\", \"Sakon Nakhon\", \"Nakhon Phanom\", \"Mukdahan\", \"Nakhon Si Thammarat\", \"Krabi\", \"Phangnga\", \"Phuket\", \"Surat Thani\", \"Ranong\", \"Chumphon\", \"Songkhla\", \"Satun\", \"Trang\", \"Phatthalung\", \"Pattani\", \"Yala\", \"Narathiwat\", \"Nonthaburi\"], \"name\": \"\", \"z\": [5701394.0, 1185180.0, 985643.0, 782096.0, 284970.0, 755854.0, 214661.0, 334934.0, 617384.0, 1316293.0, 626402.0, 514616.0, 220921.0, 673933.0, 466572.0, 252734.0, 544100.0, 839075.0, 839776.0, 845850.0, 860246.0, 491887.0, 194057.0, 464033.0, 509134.0, 1640479.0, 404560.0, 761949.0, 462618.0, 460756.0, 476363.0, 486304.0, 1198218.0, 242742.0, 1073495.0, 327959.0, 727093.0, 525684.0, 601778.0, 849692.0, 552690.0, 996031.0, 2582089.0, 1553765.0, 1381761.0, 1452471.0, 1813088.0, 539257.0, 1127423.0, 372137.0, null, 502868.0, 1767601.0, 1544786.0, 624066.0, 912937.0, 940911.0, 1309708.0, 982578.0, 1122905.0, 703392.0, 339575.0, 1522561.0, 432704.0, 253112.0, 345067.0, 1000383.0, 183079.0, 489964.0, 1357023.0, 297163.0, 622659.0, 509534.0, 655259.0, 487380.0, 737162.0, 1101743.0], \"type\": \"choropleth\"}], \"name\": \"2553\"}, {\"data\": [{\"coloraxis\": \"coloraxis\", \"featureidkey\": \"properties.NAME_1\", \"geo\": \"geo\", \"geojson\": \"https://raw.githubusercontent.com/cvibhagool/thailand-map/master/thailand-provinces.geojson\", \"hovertemplate\": \"<b>%{hovertext}</b><br><br>Year=2554<br>Province=%{location}<br>Population=%{z}<extra></extra>\", \"hovertext\": [\"Bangkok Metropolis\", \"Samut Prakan\", \"Pathum Thani\", \"Phra Nakhon Si Ayutthaya\", \"Ang Thong\", \"Lop Buri\", \"Sing Buri\", \"Chai Nat\", \"Saraburi\", \"Chon Buri\", \"Rayong\", \"Chanthaburi\", \"Trat\", \"Chachoengsao\", \"Prachin Buri\", \"Nakhon Nayok\", \"Sa Kaeo\", \"Ratchaburi\", \"Kanchanaburi\", \"Suphan Buri\", \"Nakhon Pathom\", \"Samut Sakhon\", \"Samut Songkhram\", \"Phetchaburi\", \"Prachuap Khiri Khan\", \"Chiang Mai\", \"Lamphun\", \"Lampang\", \"Uttaradit\", \"Phrae\", \"Nan\", \"Phayao\", \"Chiang Rai\", \"Mae Hong Son\", \"Nakhon Sawan\", \"Uthai Thani\", \"Kamphaeng Phet\", \"Tak\", \"Sukhothai\", \"Phitsanulok\", \"Phichit\", \"Phetchabun\", \"Nakhon Ratchasima\", \"Buri Ram\", \"Surin\", \"Si Sa Ket\", \"Ubon Ratchathani\", \"Yasothon\", \"Chaiyaphum\", \"Amnat Charoen\", \"Bueng Kan\", \"Nong Bua Lam Phu\", \"Khon Kaen\", \"Udon Thani\", \"Loei\", \"Nong Khai\", \"Maha Sarakham\", \"Roi Et\", \"Kalasin\", \"Sakon Nakhon\", \"Nakhon Phanom\", \"Mukdahan\", \"Nakhon Si Thammarat\", \"Krabi\", \"Phangnga\", \"Phuket\", \"Surat Thani\", \"Ranong\", \"Chumphon\", \"Songkhla\", \"Satun\", \"Trang\", \"Phatthalung\", \"Pattani\", \"Yala\", \"Narathiwat\", \"Nonthaburi\"], \"locations\": [\"Bangkok Metropolis\", \"Samut Prakan\", \"Pathum Thani\", \"Phra Nakhon Si Ayutthaya\", \"Ang Thong\", \"Lop Buri\", \"Sing Buri\", \"Chai Nat\", \"Saraburi\", \"Chon Buri\", \"Rayong\", \"Chanthaburi\", \"Trat\", \"Chachoengsao\", \"Prachin Buri\", \"Nakhon Nayok\", \"Sa Kaeo\", \"Ratchaburi\", \"Kanchanaburi\", \"Suphan Buri\", \"Nakhon Pathom\", \"Samut Sakhon\", \"Samut Songkhram\", \"Phetchaburi\", \"Prachuap Khiri Khan\", \"Chiang Mai\", \"Lamphun\", \"Lampang\", \"Uttaradit\", \"Phrae\", \"Nan\", \"Phayao\", \"Chiang Rai\", \"Mae Hong Son\", \"Nakhon Sawan\", \"Uthai Thani\", \"Kamphaeng Phet\", \"Tak\", \"Sukhothai\", \"Phitsanulok\", \"Phichit\", \"Phetchabun\", \"Nakhon Ratchasima\", \"Buri Ram\", \"Surin\", \"Si Sa Ket\", \"Ubon Ratchathani\", \"Yasothon\", \"Chaiyaphum\", \"Amnat Charoen\", \"Bueng Kan\", \"Nong Bua Lam Phu\", \"Khon Kaen\", \"Udon Thani\", \"Loei\", \"Nong Khai\", \"Maha Sarakham\", \"Roi Et\", \"Kalasin\", \"Sakon Nakhon\", \"Nakhon Phanom\", \"Mukdahan\", \"Nakhon Si Thammarat\", \"Krabi\", \"Phangnga\", \"Phuket\", \"Surat Thani\", \"Ranong\", \"Chumphon\", \"Songkhla\", \"Satun\", \"Trang\", \"Phatthalung\", \"Pattani\", \"Yala\", \"Narathiwat\", \"Nonthaburi\"], \"name\": \"\", \"z\": [5674843.0, 1203223.0, 1010898.0, 787653.0, 284061.0, 756127.0, 213587.0, 333256.0, 620454.0, 1338656.0, 637736.0, 516855.0, 222013.0, 679370.0, 469652.0, 253831.0, 545596.0, 842684.0, 838914.0, 845053.0, 866064.0, 499098.0, 194086.0, 466079.0, 512568.0, 1646144.0, 403952.0, 757534.0, 461040.0, 458750.0, 476612.0, 486472.0, 1198656.0, 244048.0, 1071686.0, 328034.0, 726009.0, 531018.0, 601504.0, 851357.0, 549688.0, 990807.0, 2585325.0, 1559085.0, 1380399.0, 1452203.0, 1816057.0, 538853.0, 1127423.0, 372241.0, 407634.0, 502551.0, 1766066.0, 1548107.0, 624920.0, 509870.0, 939736.0, 1305058.0, 981655.0, 1123351.0, 704768.0, 340581.0, 1526071.0, 438039.0, 254931.0, 353847.0, 1012064.0, 183849.0, 492182.0, 1367010.0, 301467.0, 626708.0, 511063.0, 663485.0, 493767.0, 747372.0, 1122627.0], \"type\": \"choropleth\"}], \"name\": \"2554\"}, {\"data\": [{\"coloraxis\": \"coloraxis\", \"featureidkey\": \"properties.NAME_1\", \"geo\": \"geo\", \"geojson\": \"https://raw.githubusercontent.com/cvibhagool/thailand-map/master/thailand-provinces.geojson\", \"hovertemplate\": \"<b>%{hovertext}</b><br><br>Year=2555<br>Province=%{location}<br>Population=%{z}<extra></extra>\", \"hovertext\": [\"Bangkok Metropolis\", \"Samut Prakan\", \"Pathum Thani\", \"Phra Nakhon Si Ayutthaya\", \"Ang Thong\", \"Lop Buri\", \"Sing Buri\", \"Chai Nat\", \"Saraburi\", \"Chon Buri\", \"Rayong\", \"Chanthaburi\", \"Trat\", \"Chachoengsao\", \"Prachin Buri\", \"Nakhon Nayok\", \"Sa Kaeo\", \"Ratchaburi\", \"Kanchanaburi\", \"Suphan Buri\", \"Nakhon Pathom\", \"Samut Sakhon\", \"Samut Songkhram\", \"Phetchaburi\", \"Prachuap Khiri Khan\", \"Chiang Mai\", \"Lamphun\", \"Lampang\", \"Uttaradit\", \"Phrae\", \"Nan\", \"Phayao\", \"Chiang Rai\", \"Mae Hong Son\", \"Nakhon Sawan\", \"Uthai Thani\", \"Kamphaeng Phet\", \"Tak\", \"Sukhothai\", \"Phitsanulok\", \"Phichit\", \"Phetchabun\", \"Nakhon Ratchasima\", \"Buri Ram\", \"Surin\", \"Si Sa Ket\", \"Ubon Ratchathani\", \"Yasothon\", \"Chaiyaphum\", \"Amnat Charoen\", \"Bueng Kan\", \"Nong Bua Lam Phu\", \"Khon Kaen\", \"Udon Thani\", \"Loei\", \"Nong Khai\", \"Maha Sarakham\", \"Roi Et\", \"Kalasin\", \"Sakon Nakhon\", \"Nakhon Phanom\", \"Mukdahan\", \"Nakhon Si Thammarat\", \"Krabi\", \"Phangnga\", \"Phuket\", \"Surat Thani\", \"Ranong\", \"Chumphon\", \"Songkhla\", \"Satun\", \"Trang\", \"Phatthalung\", \"Pattani\", \"Yala\", \"Narathiwat\", \"Nonthaburi\"], \"locations\": [\"Bangkok Metropolis\", \"Samut Prakan\", \"Pathum Thani\", \"Phra Nakhon Si Ayutthaya\", \"Ang Thong\", \"Lop Buri\", \"Sing Buri\", \"Chai Nat\", \"Saraburi\", \"Chon Buri\", \"Rayong\", \"Chanthaburi\", \"Trat\", \"Chachoengsao\", \"Prachin Buri\", \"Nakhon Nayok\", \"Sa Kaeo\", \"Ratchaburi\", \"Kanchanaburi\", \"Suphan Buri\", \"Nakhon Pathom\", \"Samut Sakhon\", \"Samut Songkhram\", \"Phetchaburi\", \"Prachuap Khiri Khan\", \"Chiang Mai\", \"Lamphun\", \"Lampang\", \"Uttaradit\", \"Phrae\", \"Nan\", \"Phayao\", \"Chiang Rai\", \"Mae Hong Son\", \"Nakhon Sawan\", \"Uthai Thani\", \"Kamphaeng Phet\", \"Tak\", \"Sukhothai\", \"Phitsanulok\", \"Phichit\", \"Phetchabun\", \"Nakhon Ratchasima\", \"Buri Ram\", \"Surin\", \"Si Sa Ket\", \"Ubon Ratchathani\", \"Yasothon\", \"Chaiyaphum\", \"Amnat Charoen\", \"Bueng Kan\", \"Nong Bua Lam Phu\", \"Khon Kaen\", \"Udon Thani\", \"Loei\", \"Nong Khai\", \"Maha Sarakham\", \"Roi Et\", \"Kalasin\", \"Sakon Nakhon\", \"Nakhon Phanom\", \"Mukdahan\", \"Nakhon Si Thammarat\", \"Krabi\", \"Phangnga\", \"Phuket\", \"Surat Thani\", \"Ranong\", \"Chumphon\", \"Songkhla\", \"Satun\", \"Trang\", \"Phatthalung\", \"Pattani\", \"Yala\", \"Narathiwat\", \"Nonthaburi\"], \"name\": \"\", \"z\": [5673560.0, 1223302.0, 1033837.0, 793509.0, 283882.0, 758059.0, 213216.0, 333172.0, 625689.0, 1364002.0, 649275.0, 521812.0, 222855.0, 685721.0, 473770.0, 255174.0, 548342.0, 846631.0, 838269.0, 847308.0, 874616.0, 508812.0, 194042.0, 468874.0, 517050.0, 1655642.0, 404673.0, 756811.0, 461294.0, 457607.0, 477673.0, 488120.0, 1200423.0, 244356.0, 1073347.0, 328950.0, 727555.0, 526045.0, 602601.0, 854372.0, 549395.0, 993702.0, 2601167.0, 1566740.0, 1386277.0, 1458370.0, 1826920.0, 540267.0, 1133034.0, 373494.0, 412613.0, 505071.0, 1774816.0, 1557298.0, 629787.0, 512439.0, 945149.0, 1308570.0, 985084.0, 1129174.0, 708350.0, 342868.0, 1534887.0, 444967.0, 257493.0, 360905.0, 1023288.0, 182648.0, 495310.0, 1378574.0, 305879.0, 631920.0, 514492.0, 671615.0, 500814.0, 757397.0, 1141673.0], \"type\": \"choropleth\"}], \"name\": \"2555\"}, {\"data\": [{\"coloraxis\": \"coloraxis\", \"featureidkey\": \"properties.NAME_1\", \"geo\": \"geo\", \"geojson\": \"https://raw.githubusercontent.com/cvibhagool/thailand-map/master/thailand-provinces.geojson\", \"hovertemplate\": \"<b>%{hovertext}</b><br><br>Year=2556<br>Province=%{location}<br>Population=%{z}<extra></extra>\", \"hovertext\": [\"Bangkok Metropolis\", \"Samut Prakan\", \"Pathum Thani\", \"Phra Nakhon Si Ayutthaya\", \"Ang Thong\", \"Lop Buri\", \"Sing Buri\", \"Chai Nat\", \"Saraburi\", \"Chon Buri\", \"Rayong\", \"Chanthaburi\", \"Trat\", \"Chachoengsao\", \"Prachin Buri\", \"Nakhon Nayok\", \"Sa Kaeo\", \"Ratchaburi\", \"Kanchanaburi\", \"Suphan Buri\", \"Nakhon Pathom\", \"Samut Sakhon\", \"Samut Songkhram\", \"Phetchaburi\", \"Prachuap Khiri Khan\", \"Chiang Mai\", \"Lamphun\", \"Lampang\", \"Uttaradit\", \"Phrae\", \"Nan\", \"Phayao\", \"Chiang Rai\", \"Mae Hong Son\", \"Nakhon Sawan\", \"Uthai Thani\", \"Kamphaeng Phet\", \"Tak\", \"Sukhothai\", \"Phitsanulok\", \"Phichit\", \"Phetchabun\", \"Nakhon Ratchasima\", \"Buri Ram\", \"Surin\", \"Si Sa Ket\", \"Ubon Ratchathani\", \"Yasothon\", \"Chaiyaphum\", \"Amnat Charoen\", \"Bueng Kan\", \"Nong Bua Lam Phu\", \"Khon Kaen\", \"Udon Thani\", \"Loei\", \"Nong Khai\", \"Maha Sarakham\", \"Roi Et\", \"Kalasin\", \"Sakon Nakhon\", \"Nakhon Phanom\", \"Mukdahan\", \"Nakhon Si Thammarat\", \"Krabi\", \"Phangnga\", \"Phuket\", \"Surat Thani\", \"Ranong\", \"Chumphon\", \"Songkhla\", \"Satun\", \"Trang\", \"Phatthalung\", \"Pattani\", \"Yala\", \"Narathiwat\", \"Nonthaburi\"], \"locations\": [\"Bangkok Metropolis\", \"Samut Prakan\", \"Pathum Thani\", \"Phra Nakhon Si Ayutthaya\", \"Ang Thong\", \"Lop Buri\", \"Sing Buri\", \"Chai Nat\", \"Saraburi\", \"Chon Buri\", \"Rayong\", \"Chanthaburi\", \"Trat\", \"Chachoengsao\", \"Prachin Buri\", \"Nakhon Nayok\", \"Sa Kaeo\", \"Ratchaburi\", \"Kanchanaburi\", \"Suphan Buri\", \"Nakhon Pathom\", \"Samut Sakhon\", \"Samut Songkhram\", \"Phetchaburi\", \"Prachuap Khiri Khan\", \"Chiang Mai\", \"Lamphun\", \"Lampang\", \"Uttaradit\", \"Phrae\", \"Nan\", \"Phayao\", \"Chiang Rai\", \"Mae Hong Son\", \"Nakhon Sawan\", \"Uthai Thani\", \"Kamphaeng Phet\", \"Tak\", \"Sukhothai\", \"Phitsanulok\", \"Phichit\", \"Phetchabun\", \"Nakhon Ratchasima\", \"Buri Ram\", \"Surin\", \"Si Sa Ket\", \"Ubon Ratchathani\", \"Yasothon\", \"Chaiyaphum\", \"Amnat Charoen\", \"Bueng Kan\", \"Nong Bua Lam Phu\", \"Khon Kaen\", \"Udon Thani\", \"Loei\", \"Nong Khai\", \"Maha Sarakham\", \"Roi Et\", \"Kalasin\", \"Sakon Nakhon\", \"Nakhon Phanom\", \"Mukdahan\", \"Nakhon Si Thammarat\", \"Krabi\", \"Phangnga\", \"Phuket\", \"Surat Thani\", \"Ranong\", \"Chumphon\", \"Songkhla\", \"Satun\", \"Trang\", \"Phatthalung\", \"Pattani\", \"Yala\", \"Narathiwat\", \"Nonthaburi\"], \"name\": \"\", \"z\": [5686252.0, 1241610.0, 1053158.0, 797970.0, 283732.0, 757970.0, 212690.0, 332769.0, 629216.0, 1390354.0, 661220.0, 524260.0, 224010.0, 690226.0, 476167.0, 256085.0, 550937.0, 850162.0, 842882.0, 848066.0, 882184.0, 519457.0, 194116.0, 471087.0, 520271.0, 1666888.0, 405268.0, 754862.0, 460995.0, 456074.0, 477912.0, 486744.0, 1204660.0, 246549.0, 1073142.0, 329536.0, 728631.0, 532353.0, 602713.0, 856376.0, 548855.0, 994397.0, 2610164.0, 1573438.0, 1388194.0, 1462028.0, 1836523.0, 540383.0, 1135723.0, 374698.0, 416236.0, 507137.0, 1781655.0, 1563964.0, 632205.0, 514943.0, 955644.0, 1308958.0, 984030.0, 1134322.0, 710860.0, 344302.0, 1541843.0, 450890.0, 259420.0, 369522.0, 1031812.0, 174776.0, 498294.0, 1389890.0, 309793.0, 636043.0, 518021.0, 678838.0, 506138.0, 766145.0, 1156271.0], \"type\": \"choropleth\"}], \"name\": \"2556\"}, {\"data\": [{\"coloraxis\": \"coloraxis\", \"featureidkey\": \"properties.NAME_1\", \"geo\": \"geo\", \"geojson\": \"https://raw.githubusercontent.com/cvibhagool/thailand-map/master/thailand-provinces.geojson\", \"hovertemplate\": \"<b>%{hovertext}</b><br><br>Year=2557<br>Province=%{location}<br>Population=%{z}<extra></extra>\", \"hovertext\": [\"Bangkok Metropolis\", \"Samut Prakan\", \"Pathum Thani\", \"Phra Nakhon Si Ayutthaya\", \"Ang Thong\", \"Lop Buri\", \"Sing Buri\", \"Chai Nat\", \"Saraburi\", \"Chon Buri\", \"Rayong\", \"Chanthaburi\", \"Trat\", \"Chachoengsao\", \"Prachin Buri\", \"Nakhon Nayok\", \"Sa Kaeo\", \"Ratchaburi\", \"Kanchanaburi\", \"Suphan Buri\", \"Nakhon Pathom\", \"Samut Sakhon\", \"Samut Songkhram\", \"Phetchaburi\", \"Prachuap Khiri Khan\", \"Chiang Mai\", \"Lamphun\", \"Lampang\", \"Uttaradit\", \"Phrae\", \"Nan\", \"Phayao\", \"Chiang Rai\", \"Mae Hong Son\", \"Nakhon Sawan\", \"Uthai Thani\", \"Kamphaeng Phet\", \"Tak\", \"Sukhothai\", \"Phitsanulok\", \"Phichit\", \"Phetchabun\", \"Nakhon Ratchasima\", \"Buri Ram\", \"Surin\", \"Si Sa Ket\", \"Ubon Ratchathani\", \"Yasothon\", \"Chaiyaphum\", \"Amnat Charoen\", \"Bueng Kan\", \"Nong Bua Lam Phu\", \"Khon Kaen\", \"Udon Thani\", \"Loei\", \"Nong Khai\", \"Maha Sarakham\", \"Roi Et\", \"Kalasin\", \"Sakon Nakhon\", \"Nakhon Phanom\", \"Mukdahan\", \"Nakhon Si Thammarat\", \"Krabi\", \"Phangnga\", \"Phuket\", \"Surat Thani\", \"Ranong\", \"Chumphon\", \"Songkhla\", \"Satun\", \"Trang\", \"Phatthalung\", \"Pattani\", \"Yala\", \"Narathiwat\", \"Nonthaburi\"], \"locations\": [\"Bangkok Metropolis\", \"Samut Prakan\", \"Pathum Thani\", \"Phra Nakhon Si Ayutthaya\", \"Ang Thong\", \"Lop Buri\", \"Sing Buri\", \"Chai Nat\", \"Saraburi\", \"Chon Buri\", \"Rayong\", \"Chanthaburi\", \"Trat\", \"Chachoengsao\", \"Prachin Buri\", \"Nakhon Nayok\", \"Sa Kaeo\", \"Ratchaburi\", \"Kanchanaburi\", \"Suphan Buri\", \"Nakhon Pathom\", \"Samut Sakhon\", \"Samut Songkhram\", \"Phetchaburi\", \"Prachuap Khiri Khan\", \"Chiang Mai\", \"Lamphun\", \"Lampang\", \"Uttaradit\", \"Phrae\", \"Nan\", \"Phayao\", \"Chiang Rai\", \"Mae Hong Son\", \"Nakhon Sawan\", \"Uthai Thani\", \"Kamphaeng Phet\", \"Tak\", \"Sukhothai\", \"Phitsanulok\", \"Phichit\", \"Phetchabun\", \"Nakhon Ratchasima\", \"Buri Ram\", \"Surin\", \"Si Sa Ket\", \"Ubon Ratchathani\", \"Yasothon\", \"Chaiyaphum\", \"Amnat Charoen\", \"Bueng Kan\", \"Nong Bua Lam Phu\", \"Khon Kaen\", \"Udon Thani\", \"Loei\", \"Nong Khai\", \"Maha Sarakham\", \"Roi Et\", \"Kalasin\", \"Sakon Nakhon\", \"Nakhon Phanom\", \"Mukdahan\", \"Nakhon Si Thammarat\", \"Krabi\", \"Phangnga\", \"Phuket\", \"Surat Thani\", \"Ranong\", \"Chumphon\", \"Songkhla\", \"Satun\", \"Trang\", \"Phatthalung\", \"Pattani\", \"Yala\", \"Narathiwat\", \"Nonthaburi\"], \"name\": \"\", \"z\": [5692284.0, 1261530.0, 1074058.0, 803599.0, 283568.0, 758406.0, 212158.0, 332283.0, 633460.0, 1421425.0, 674393.0, 527350.0, 224730.0, 695478.0, 479314.0, 257300.0, 552187.0, 853217.0, 848198.0, 849053.0, 891071.0, 531887.0, 194189.0, 474192.0, 525107.0, 1678284.0, 405468.0, 753013.0, 460400.0, 454083.0, 478264.0, 484454.0, 1207699.0, 248178.0, 1072756.0, 330179.0, 729522.0, 539553.0, 602460.0, 858988.0, 547543.0, 995807.0, 2620517.0, 1579248.0, 1391636.0, 1465213.0, 1844669.0, 540211.0, 1137049.0, 375380.0, 418566.0, 508864.0, 1790049.0, 1570300.0, 634513.0, 517260.0, 960588.0, 1308318.0, 984907.0, 1138609.0, 713341.0, 346016.0, 1548028.0, 456811.0, 261370.0, 378364.0, 1040230.0, 177089.0, 500575.0, 1401303.0, 312673.0, 638746.0, 520419.0, 686186.0, 511911.0, 774799.0, 1173870.0], \"type\": \"choropleth\"}], \"name\": \"2557\"}, {\"data\": [{\"coloraxis\": \"coloraxis\", \"featureidkey\": \"properties.NAME_1\", \"geo\": \"geo\", \"geojson\": \"https://raw.githubusercontent.com/cvibhagool/thailand-map/master/thailand-provinces.geojson\", \"hovertemplate\": \"<b>%{hovertext}</b><br><br>Year=2558<br>Province=%{location}<br>Population=%{z}<extra></extra>\", \"hovertext\": [\"Bangkok Metropolis\", \"Samut Prakan\", \"Pathum Thani\", \"Phra Nakhon Si Ayutthaya\", \"Ang Thong\", \"Lop Buri\", \"Sing Buri\", \"Chai Nat\", \"Saraburi\", \"Chon Buri\", \"Rayong\", \"Chanthaburi\", \"Trat\", \"Chachoengsao\", \"Prachin Buri\", \"Nakhon Nayok\", \"Sa Kaeo\", \"Ratchaburi\", \"Kanchanaburi\", \"Suphan Buri\", \"Nakhon Pathom\", \"Samut Sakhon\", \"Samut Songkhram\", \"Phetchaburi\", \"Prachuap Khiri Khan\", \"Chiang Mai\", \"Lamphun\", \"Lampang\", \"Uttaradit\", \"Phrae\", \"Nan\", \"Phayao\", \"Chiang Rai\", \"Mae Hong Son\", \"Nakhon Sawan\", \"Uthai Thani\", \"Kamphaeng Phet\", \"Tak\", \"Sukhothai\", \"Phitsanulok\", \"Phichit\", \"Phetchabun\", \"Nakhon Ratchasima\", \"Buri Ram\", \"Surin\", \"Si Sa Ket\", \"Ubon Ratchathani\", \"Yasothon\", \"Chaiyaphum\", \"Amnat Charoen\", \"Bueng Kan\", \"Nong Bua Lam Phu\", \"Khon Kaen\", \"Udon Thani\", \"Loei\", \"Nong Khai\", \"Maha Sarakham\", \"Roi Et\", \"Kalasin\", \"Sakon Nakhon\", \"Nakhon Phanom\", \"Mukdahan\", \"Nakhon Si Thammarat\", \"Krabi\", \"Phangnga\", \"Phuket\", \"Surat Thani\", \"Ranong\", \"Chumphon\", \"Songkhla\", \"Satun\", \"Trang\", \"Phatthalung\", \"Pattani\", \"Yala\", \"Narathiwat\", \"Nonthaburi\"], \"locations\": [\"Bangkok Metropolis\", \"Samut Prakan\", \"Pathum Thani\", \"Phra Nakhon Si Ayutthaya\", \"Ang Thong\", \"Lop Buri\", \"Sing Buri\", \"Chai Nat\", \"Saraburi\", \"Chon Buri\", \"Rayong\", \"Chanthaburi\", \"Trat\", \"Chachoengsao\", \"Prachin Buri\", \"Nakhon Nayok\", \"Sa Kaeo\", \"Ratchaburi\", \"Kanchanaburi\", \"Suphan Buri\", \"Nakhon Pathom\", \"Samut Sakhon\", \"Samut Songkhram\", \"Phetchaburi\", \"Prachuap Khiri Khan\", \"Chiang Mai\", \"Lamphun\", \"Lampang\", \"Uttaradit\", \"Phrae\", \"Nan\", \"Phayao\", \"Chiang Rai\", \"Mae Hong Son\", \"Nakhon Sawan\", \"Uthai Thani\", \"Kamphaeng Phet\", \"Tak\", \"Sukhothai\", \"Phitsanulok\", \"Phichit\", \"Phetchabun\", \"Nakhon Ratchasima\", \"Buri Ram\", \"Surin\", \"Si Sa Ket\", \"Ubon Ratchathani\", \"Yasothon\", \"Chaiyaphum\", \"Amnat Charoen\", \"Bueng Kan\", \"Nong Bua Lam Phu\", \"Khon Kaen\", \"Udon Thani\", \"Loei\", \"Nong Khai\", \"Maha Sarakham\", \"Roi Et\", \"Kalasin\", \"Sakon Nakhon\", \"Nakhon Phanom\", \"Mukdahan\", \"Nakhon Si Thammarat\", \"Krabi\", \"Phangnga\", \"Phuket\", \"Surat Thani\", \"Ranong\", \"Chumphon\", \"Songkhla\", \"Satun\", \"Trang\", \"Phatthalung\", \"Pattani\", \"Yala\", \"Narathiwat\", \"Nonthaburi\"], \"name\": \"\", \"z\": [5696409.0, 1279310.0, 1094249.0, 808360.0, 283173.0, 758655.0, 211426.0, 331655.0, 637673.0, 1455039.0, 688999.0, 531037.0, 229435.0, 700902.0, 482195.0, 258577.0, 556922.0, 867883.0, 882146.0, 849699.0, 899342.0, 545454.0, 194376.0, 478589.0, 534719.0, 1728242.0, 406385.0, 752356.0, 459768.0, 452346.0, 479518.0, 482645.0, 1277950.0, 273764.0, 1071942.0, 330906.0, 730158.0, 618382.0, 601712.0, 863404.0, 545957.0, 996986.0, 2628818.0, 1584661.0, 1395024.0, 1468798.0, 1857429.0, 540182.0, 1138252.0, 376382.0, 420647.0, 510074.0, 1798014.0, 1575152.0, 638819.0, 519580.0, 964596.0, 1308166.0, 985203.0, 1142737.0, 715399.0, 348101.0, 1552530.0, 462101.0, 264074.0, 386605.0, 1046772.0, 187536.0, 505830.0, 1410577.0, 315923.0, 640793.0, 522723.0, 694023.0, 518139.0, 783082.0, 1193711.0], \"type\": \"choropleth\"}], \"name\": \"2558\"}, {\"data\": [{\"coloraxis\": \"coloraxis\", \"featureidkey\": \"properties.NAME_1\", \"geo\": \"geo\", \"geojson\": \"https://raw.githubusercontent.com/cvibhagool/thailand-map/master/thailand-provinces.geojson\", \"hovertemplate\": \"<b>%{hovertext}</b><br><br>Year=2559<br>Province=%{location}<br>Population=%{z}<extra></extra>\", \"hovertext\": [\"Bangkok Metropolis\", \"Samut Prakan\", \"Pathum Thani\", \"Phra Nakhon Si Ayutthaya\", \"Ang Thong\", \"Lop Buri\", \"Sing Buri\", \"Chai Nat\", \"Saraburi\", \"Chon Buri\", \"Rayong\", \"Chanthaburi\", \"Trat\", \"Chachoengsao\", \"Prachin Buri\", \"Nakhon Nayok\", \"Sa Kaeo\", \"Ratchaburi\", \"Kanchanaburi\", \"Suphan Buri\", \"Nakhon Pathom\", \"Samut Sakhon\", \"Samut Songkhram\", \"Phetchaburi\", \"Prachuap Khiri Khan\", \"Chiang Mai\", \"Lamphun\", \"Lampang\", \"Uttaradit\", \"Phrae\", \"Nan\", \"Phayao\", \"Chiang Rai\", \"Mae Hong Son\", \"Nakhon Sawan\", \"Uthai Thani\", \"Kamphaeng Phet\", \"Tak\", \"Sukhothai\", \"Phitsanulok\", \"Phichit\", \"Phetchabun\", \"Nakhon Ratchasima\", \"Buri Ram\", \"Surin\", \"Si Sa Ket\", \"Ubon Ratchathani\", \"Yasothon\", \"Chaiyaphum\", \"Amnat Charoen\", \"Bueng Kan\", \"Nong Bua Lam Phu\", \"Khon Kaen\", \"Udon Thani\", \"Loei\", \"Nong Khai\", \"Maha Sarakham\", \"Roi Et\", \"Kalasin\", \"Sakon Nakhon\", \"Nakhon Phanom\", \"Mukdahan\", \"Nakhon Si Thammarat\", \"Krabi\", \"Phangnga\", \"Phuket\", \"Surat Thani\", \"Ranong\", \"Chumphon\", \"Songkhla\", \"Satun\", \"Trang\", \"Phatthalung\", \"Pattani\", \"Yala\", \"Narathiwat\", \"Nonthaburi\"], \"locations\": [\"Bangkok Metropolis\", \"Samut Prakan\", \"Pathum Thani\", \"Phra Nakhon Si Ayutthaya\", \"Ang Thong\", \"Lop Buri\", \"Sing Buri\", \"Chai Nat\", \"Saraburi\", \"Chon Buri\", \"Rayong\", \"Chanthaburi\", \"Trat\", \"Chachoengsao\", \"Prachin Buri\", \"Nakhon Nayok\", \"Sa Kaeo\", \"Ratchaburi\", \"Kanchanaburi\", \"Suphan Buri\", \"Nakhon Pathom\", \"Samut Sakhon\", \"Samut Songkhram\", \"Phetchaburi\", \"Prachuap Khiri Khan\", \"Chiang Mai\", \"Lamphun\", \"Lampang\", \"Uttaradit\", \"Phrae\", \"Nan\", \"Phayao\", \"Chiang Rai\", \"Mae Hong Son\", \"Nakhon Sawan\", \"Uthai Thani\", \"Kamphaeng Phet\", \"Tak\", \"Sukhothai\", \"Phitsanulok\", \"Phichit\", \"Phetchabun\", \"Nakhon Ratchasima\", \"Buri Ram\", \"Surin\", \"Si Sa Ket\", \"Ubon Ratchathani\", \"Yasothon\", \"Chaiyaphum\", \"Amnat Charoen\", \"Bueng Kan\", \"Nong Bua Lam Phu\", \"Khon Kaen\", \"Udon Thani\", \"Loei\", \"Nong Khai\", \"Maha Sarakham\", \"Roi Et\", \"Kalasin\", \"Sakon Nakhon\", \"Nakhon Phanom\", \"Mukdahan\", \"Nakhon Si Thammarat\", \"Krabi\", \"Phangnga\", \"Phuket\", \"Surat Thani\", \"Ranong\", \"Chumphon\", \"Songkhla\", \"Satun\", \"Trang\", \"Phatthalung\", \"Pattani\", \"Yala\", \"Narathiwat\", \"Nonthaburi\"], \"name\": \"\", \"z\": [5686646.0, 1293553.0, 1111376.0, 810320.0, 282404.0, 757321.0, 210588.0, 330431.0, 640065.0, 1483049.0, 700223.0, 532466.0, 229437.0, 704399.0, 484829.0, 258358.0, 559017.0, 869823.0, 885112.0, 848567.0, 905008.0, 556719.0, 194069.0, 480652.0, 539534.0, 1735762.0, 405999.0, 748850.0, 458197.0, 449810.0, 479916.0, 479188.0, 1282544.0, 275884.0, 1066455.0, 330299.0, 729542.0, 631965.0, 600231.0, 865759.0, 543482.0, 995223.0, 2631435.0, 1587897.0, 1395567.0, 1470341.0, 1862965.0, 539815.0, 1138199.0, 377120.0, 421625.0, 510734.0, 1801753.0, 1578783.0, 639801.0, 520363.0, 963484.0, 1307982.0, 985232.0, 1145949.0, 716873.0, 349474.0, 1554432.0, 465931.0, 265579.0, 394169.0, 1050913.0, 189154.0, 507604.0, 1417440.0, 317612.0, 641684.0, 523723.0, 700961.0, 522279.0, 789681.0, 1211924.0], \"type\": \"choropleth\"}], \"name\": \"2559\"}, {\"data\": [{\"coloraxis\": \"coloraxis\", \"featureidkey\": \"properties.NAME_1\", \"geo\": \"geo\", \"geojson\": \"https://raw.githubusercontent.com/cvibhagool/thailand-map/master/thailand-provinces.geojson\", \"hovertemplate\": \"<b>%{hovertext}</b><br><br>Year=2560<br>Province=%{location}<br>Population=%{z}<extra></extra>\", \"hovertext\": [\"Bangkok Metropolis\", \"Samut Prakan\", \"Pathum Thani\", \"Phra Nakhon Si Ayutthaya\", \"Ang Thong\", \"Lop Buri\", \"Sing Buri\", \"Chai Nat\", \"Saraburi\", \"Chon Buri\", \"Rayong\", \"Chanthaburi\", \"Trat\", \"Chachoengsao\", \"Prachin Buri\", \"Nakhon Nayok\", \"Sa Kaeo\", \"Ratchaburi\", \"Kanchanaburi\", \"Suphan Buri\", \"Nakhon Pathom\", \"Samut Sakhon\", \"Samut Songkhram\", \"Phetchaburi\", \"Prachuap Khiri Khan\", \"Chiang Mai\", \"Lamphun\", \"Lampang\", \"Uttaradit\", \"Phrae\", \"Nan\", \"Phayao\", \"Chiang Rai\", \"Mae Hong Son\", \"Nakhon Sawan\", \"Uthai Thani\", \"Kamphaeng Phet\", \"Tak\", \"Sukhothai\", \"Phitsanulok\", \"Phichit\", \"Phetchabun\", \"Nakhon Ratchasima\", \"Buri Ram\", \"Surin\", \"Si Sa Ket\", \"Ubon Ratchathani\", \"Yasothon\", \"Chaiyaphum\", \"Amnat Charoen\", \"Bueng Kan\", \"Nong Bua Lam Phu\", \"Khon Kaen\", \"Udon Thani\", \"Loei\", \"Nong Khai\", \"Maha Sarakham\", \"Roi Et\", \"Kalasin\", \"Sakon Nakhon\", \"Nakhon Phanom\", \"Mukdahan\", \"Nakhon Si Thammarat\", \"Krabi\", \"Phangnga\", \"Phuket\", \"Surat Thani\", \"Ranong\", \"Chumphon\", \"Songkhla\", \"Satun\", \"Trang\", \"Phatthalung\", \"Pattani\", \"Yala\", \"Narathiwat\", \"Nonthaburi\"], \"locations\": [\"Bangkok Metropolis\", \"Samut Prakan\", \"Pathum Thani\", \"Phra Nakhon Si Ayutthaya\", \"Ang Thong\", \"Lop Buri\", \"Sing Buri\", \"Chai Nat\", \"Saraburi\", \"Chon Buri\", \"Rayong\", \"Chanthaburi\", \"Trat\", \"Chachoengsao\", \"Prachin Buri\", \"Nakhon Nayok\", \"Sa Kaeo\", \"Ratchaburi\", \"Kanchanaburi\", \"Suphan Buri\", \"Nakhon Pathom\", \"Samut Sakhon\", \"Samut Songkhram\", \"Phetchaburi\", \"Prachuap Khiri Khan\", \"Chiang Mai\", \"Lamphun\", \"Lampang\", \"Uttaradit\", \"Phrae\", \"Nan\", \"Phayao\", \"Chiang Rai\", \"Mae Hong Son\", \"Nakhon Sawan\", \"Uthai Thani\", \"Kamphaeng Phet\", \"Tak\", \"Sukhothai\", \"Phitsanulok\", \"Phichit\", \"Phetchabun\", \"Nakhon Ratchasima\", \"Buri Ram\", \"Surin\", \"Si Sa Ket\", \"Ubon Ratchathani\", \"Yasothon\", \"Chaiyaphum\", \"Amnat Charoen\", \"Bueng Kan\", \"Nong Bua Lam Phu\", \"Khon Kaen\", \"Udon Thani\", \"Loei\", \"Nong Khai\", \"Maha Sarakham\", \"Roi Et\", \"Kalasin\", \"Sakon Nakhon\", \"Nakhon Phanom\", \"Mukdahan\", \"Nakhon Si Thammarat\", \"Krabi\", \"Phangnga\", \"Phuket\", \"Surat Thani\", \"Ranong\", \"Chumphon\", \"Songkhla\", \"Satun\", \"Trang\", \"Phatthalung\", \"Pattani\", \"Yala\", \"Narathiwat\", \"Nonthaburi\"], \"name\": \"\", \"z\": [5682415.0, 1310766.0, 1129115.0, 813852.0, 281187.0, 757273.0, 210088.0, 329722.0, 642040.0, 1509125.0, 711236.0, 534459.0, 229649.0, 709889.0, 487544.0, 259342.0, 561938.0, 871714.0, 887979.0, 852003.0, 911492.0, 568465.0, 193902.0, 482375.0, 543979.0, 1746840.0, 405918.0, 746547.0, 457092.0, 447564.0, 479838.0, 477100.0, 1287615.0, 279088.0, 1065334.0, 329942.0, 729133.0, 644267.0, 599319.0, 865368.0, 541868.0, 995331.0, 2639226.0, 1591905.0, 1397180.0, 1472031.0, 1869633.0, 539542.0, 1139356.0, 378107.0, 423032.0, 511641.0, 1805910.0, 1583092.0, 641666.0, 521886.0, 963072.0, 1307911.0, 986005.0, 1149472.0, 718028.0, 350782.0, 1557482.0, 469769.0, 267491.0, 402017.0, 1057581.0, 190399.0, 509650.0, 1424230.0, 319700.0, 643072.0, 524857.0, 709796.0, 527295.0, 796239.0, 1229735.0], \"type\": \"choropleth\"}], \"name\": \"2560\"}, {\"data\": [{\"coloraxis\": \"coloraxis\", \"featureidkey\": \"properties.NAME_1\", \"geo\": \"geo\", \"geojson\": \"https://raw.githubusercontent.com/cvibhagool/thailand-map/master/thailand-provinces.geojson\", \"hovertemplate\": \"<b>%{hovertext}</b><br><br>Year=2561<br>Province=%{location}<br>Population=%{z}<extra></extra>\", \"hovertext\": [\"Bangkok Metropolis\", \"Samut Prakan\", \"Pathum Thani\", \"Phra Nakhon Si Ayutthaya\", \"Ang Thong\", \"Lop Buri\", \"Sing Buri\", \"Chai Nat\", \"Saraburi\", \"Chon Buri\", \"Rayong\", \"Chanthaburi\", \"Trat\", \"Chachoengsao\", \"Prachin Buri\", \"Nakhon Nayok\", \"Sa Kaeo\", \"Ratchaburi\", \"Kanchanaburi\", \"Suphan Buri\", \"Nakhon Pathom\", \"Samut Sakhon\", \"Samut Songkhram\", \"Phetchaburi\", \"Prachuap Khiri Khan\", \"Chiang Mai\", \"Lamphun\", \"Lampang\", \"Uttaradit\", \"Phrae\", \"Nan\", \"Phayao\", \"Chiang Rai\", \"Mae Hong Son\", \"Nakhon Sawan\", \"Uthai Thani\", \"Kamphaeng Phet\", \"Tak\", \"Sukhothai\", \"Phitsanulok\", \"Phichit\", \"Phetchabun\", \"Nakhon Ratchasima\", \"Buri Ram\", \"Surin\", \"Si Sa Ket\", \"Ubon Ratchathani\", \"Yasothon\", \"Chaiyaphum\", \"Amnat Charoen\", \"Bueng Kan\", \"Nong Bua Lam Phu\", \"Khon Kaen\", \"Udon Thani\", \"Loei\", \"Nong Khai\", \"Maha Sarakham\", \"Roi Et\", \"Kalasin\", \"Sakon Nakhon\", \"Nakhon Phanom\", \"Mukdahan\", \"Nakhon Si Thammarat\", \"Krabi\", \"Phangnga\", \"Phuket\", \"Surat Thani\", \"Ranong\", \"Chumphon\", \"Songkhla\", \"Satun\", \"Trang\", \"Phatthalung\", \"Pattani\", \"Yala\", \"Narathiwat\", \"Nonthaburi\"], \"locations\": [\"Bangkok Metropolis\", \"Samut Prakan\", \"Pathum Thani\", \"Phra Nakhon Si Ayutthaya\", \"Ang Thong\", \"Lop Buri\", \"Sing Buri\", \"Chai Nat\", \"Saraburi\", \"Chon Buri\", \"Rayong\", \"Chanthaburi\", \"Trat\", \"Chachoengsao\", \"Prachin Buri\", \"Nakhon Nayok\", \"Sa Kaeo\", \"Ratchaburi\", \"Kanchanaburi\", \"Suphan Buri\", \"Nakhon Pathom\", \"Samut Sakhon\", \"Samut Songkhram\", \"Phetchaburi\", \"Prachuap Khiri Khan\", \"Chiang Mai\", \"Lamphun\", \"Lampang\", \"Uttaradit\", \"Phrae\", \"Nan\", \"Phayao\", \"Chiang Rai\", \"Mae Hong Son\", \"Nakhon Sawan\", \"Uthai Thani\", \"Kamphaeng Phet\", \"Tak\", \"Sukhothai\", \"Phitsanulok\", \"Phichit\", \"Phetchabun\", \"Nakhon Ratchasima\", \"Buri Ram\", \"Surin\", \"Si Sa Ket\", \"Ubon Ratchathani\", \"Yasothon\", \"Chaiyaphum\", \"Amnat Charoen\", \"Bueng Kan\", \"Nong Bua Lam Phu\", \"Khon Kaen\", \"Udon Thani\", \"Loei\", \"Nong Khai\", \"Maha Sarakham\", \"Roi Et\", \"Kalasin\", \"Sakon Nakhon\", \"Nakhon Phanom\", \"Mukdahan\", \"Nakhon Si Thammarat\", \"Krabi\", \"Phangnga\", \"Phuket\", \"Surat Thani\", \"Ranong\", \"Chumphon\", \"Songkhla\", \"Satun\", \"Trang\", \"Phatthalung\", \"Pattani\", \"Yala\", \"Narathiwat\", \"Nonthaburi\"], \"name\": \"\", \"z\": [5676648.0, 1326608.0, 1146092.0, 817441.0, 280840.0, 758733.0, 209377.0, 328263.0, 645024.0, 1535445.0, 723316.0, 536496.0, 229914.0, 715009.0, 491640.0, 260093.0, 564092.0, 873518.0, 893151.0, 848720.0, 917053.0, 577964.0, 193791.0, 484294.0, 548815.0, 1763742.0, 405955.0, 742883.0, 455403.0, 445090.0, 478989.0, 475215.0, 1292130.0, 282566.0, 1063964.0, 329433.0, 727807.0, 654676.0, 597257.0, 866891.0, 539374.0, 994540.0, 2646401.0, 1594850.0, 1397857.0, 1473011.0, 1874548.0, 538729.0, 1138777.0, 378621.0, 423940.0, 512117.0, 1805895.0, 1586666.0, 642773.0, 522103.0, 963047.0, 1307208.0, 985346.0, 1152282.0, 718786.0, 352282.0, 1560433.0, 473738.0, 268240.0, 410211.0, 1063501.0, 191868.0, 510963.0, 1432628.0, 321574.0, 643116.0, 525044.0, 718077.0, 532326.0, 802474.0, 1246295.0], \"type\": \"choropleth\"}], \"name\": \"2561\"}, {\"data\": [{\"coloraxis\": \"coloraxis\", \"featureidkey\": \"properties.NAME_1\", \"geo\": \"geo\", \"geojson\": \"https://raw.githubusercontent.com/cvibhagool/thailand-map/master/thailand-provinces.geojson\", \"hovertemplate\": \"<b>%{hovertext}</b><br><br>Year=2562<br>Province=%{location}<br>Population=%{z}<extra></extra>\", \"hovertext\": [\"Bangkok Metropolis\", \"Samut Prakan\", \"Pathum Thani\", \"Phra Nakhon Si Ayutthaya\", \"Ang Thong\", \"Lop Buri\", \"Sing Buri\", \"Chai Nat\", \"Saraburi\", \"Chon Buri\", \"Rayong\", \"Chanthaburi\", \"Trat\", \"Chachoengsao\", \"Prachin Buri\", \"Nakhon Nayok\", \"Sa Kaeo\", \"Ratchaburi\", \"Kanchanaburi\", \"Suphan Buri\", \"Nakhon Pathom\", \"Samut Sakhon\", \"Samut Songkhram\", \"Phetchaburi\", \"Prachuap Khiri Khan\", \"Chiang Mai\", \"Lamphun\", \"Lampang\", \"Uttaradit\", \"Phrae\", \"Nan\", \"Phayao\", \"Chiang Rai\", \"Mae Hong Son\", \"Nakhon Sawan\", \"Uthai Thani\", \"Kamphaeng Phet\", \"Tak\", \"Sukhothai\", \"Phitsanulok\", \"Phichit\", \"Phetchabun\", \"Nakhon Ratchasima\", \"Buri Ram\", \"Surin\", \"Si Sa Ket\", \"Ubon Ratchathani\", \"Yasothon\", \"Chaiyaphum\", \"Amnat Charoen\", \"Bueng Kan\", \"Nong Bua Lam Phu\", \"Khon Kaen\", \"Udon Thani\", \"Loei\", \"Nong Khai\", \"Maha Sarakham\", \"Roi Et\", \"Kalasin\", \"Sakon Nakhon\", \"Nakhon Phanom\", \"Mukdahan\", \"Nakhon Si Thammarat\", \"Krabi\", \"Phangnga\", \"Phuket\", \"Surat Thani\", \"Ranong\", \"Chumphon\", \"Songkhla\", \"Satun\", \"Trang\", \"Phatthalung\", \"Pattani\", \"Yala\", \"Narathiwat\", \"Nonthaburi\"], \"locations\": [\"Bangkok Metropolis\", \"Samut Prakan\", \"Pathum Thani\", \"Phra Nakhon Si Ayutthaya\", \"Ang Thong\", \"Lop Buri\", \"Sing Buri\", \"Chai Nat\", \"Saraburi\", \"Chon Buri\", \"Rayong\", \"Chanthaburi\", \"Trat\", \"Chachoengsao\", \"Prachin Buri\", \"Nakhon Nayok\", \"Sa Kaeo\", \"Ratchaburi\", \"Kanchanaburi\", \"Suphan Buri\", \"Nakhon Pathom\", \"Samut Sakhon\", \"Samut Songkhram\", \"Phetchaburi\", \"Prachuap Khiri Khan\", \"Chiang Mai\", \"Lamphun\", \"Lampang\", \"Uttaradit\", \"Phrae\", \"Nan\", \"Phayao\", \"Chiang Rai\", \"Mae Hong Son\", \"Nakhon Sawan\", \"Uthai Thani\", \"Kamphaeng Phet\", \"Tak\", \"Sukhothai\", \"Phitsanulok\", \"Phichit\", \"Phetchabun\", \"Nakhon Ratchasima\", \"Buri Ram\", \"Surin\", \"Si Sa Ket\", \"Ubon Ratchathani\", \"Yasothon\", \"Chaiyaphum\", \"Amnat Charoen\", \"Bueng Kan\", \"Nong Bua Lam Phu\", \"Khon Kaen\", \"Udon Thani\", \"Loei\", \"Nong Khai\", \"Maha Sarakham\", \"Roi Et\", \"Kalasin\", \"Sakon Nakhon\", \"Nakhon Phanom\", \"Mukdahan\", \"Nakhon Si Thammarat\", \"Krabi\", \"Phangnga\", \"Phuket\", \"Surat Thani\", \"Ranong\", \"Chumphon\", \"Songkhla\", \"Satun\", \"Trang\", \"Phatthalung\", \"Pattani\", \"Yala\", \"Narathiwat\", \"Nonthaburi\"], \"name\": \"\", \"z\": [5666264.0, 1344875.0, 1163604.0, 820188.0, 279654.0, 755556.0, 208446.0, 326611.0, 645911.0, 1558301.0, 734753.0, 537698.0, 229958.0, 720113.0, 494680.0, 260751.0, 566303.0, 873101.0, 895525.0, 846334.0, 920030.0, 584703.0, 193305.0, 485191.0, 554116.0, 1779254.0, 405075.0, 738316.0, 453103.0, 441726.0, 478227.0, 472356.0, 1298304.0, 284138.0, 1059887.0, 328618.0, 725867.0, 665620.0, 595072.0, 865247.0, 536311.0, 992451.0, 2648927.0, 1595747.0, 1396831.0, 1472859.0, 1878146.0, 537299.0, 1137357.0, 378438.0, 424091.0, 512780.0, 1802872.0, 1586646.0, 642950.0, 522311.0, 962665.0, 1305211.0, 983418.0, 1153390.0, 719136.0, 353174.0, 1561927.0, 476739.0, 268788.0, 416582.0, 1068010.0, 193370.0, 511304.0, 1435968.0, 323586.0, 643164.0, 524865.0, 725104.0, 536330.0, 808020.0, 1265387.0], \"type\": \"choropleth\"}], \"name\": \"2562\"}]);\n",
       "                        }).then(function(){\n",
       "                            \n",
       "var gd = document.getElementById('84ba056f-d247-4acd-b9c0-4d7c722b2778');\n",
       "var x = new MutationObserver(function (mutations, observer) {{\n",
       "        var display = window.getComputedStyle(gd).display;\n",
       "        if (!display || display === 'none') {{\n",
       "            console.log([gd, 'removed!']);\n",
       "            Plotly.purge(gd);\n",
       "            observer.disconnect();\n",
       "        }}\n",
       "}});\n",
       "\n",
       "// Listen for the removal of the full notebook cells\n",
       "var notebookContainer = gd.closest('#notebook-container');\n",
       "if (notebookContainer) {{\n",
       "    x.observe(notebookContainer, {childList: true});\n",
       "}}\n",
       "\n",
       "// Listen for the clearing of the current output cell\n",
       "var outputEl = gd.closest('.output');\n",
       "if (outputEl) {{\n",
       "    x.observe(outputEl, {childList: true});\n",
       "}}\n",
       "\n",
       "                        })                };                });            </script>        </div>"
      ]
     },
     "metadata": {},
     "output_type": "display_data"
    }
   ],
   "source": [
    "fig = px.choropleth(thaiPop,\n",
    "                    geojson=\"https://raw.githubusercontent.com/cvibhagool/thailand-map/master/thailand-provinces.geojson\",\n",
    "                    featureidkey='properties.NAME_1',\n",
    "                    locations='Province',\n",
    "                    color='Population',\n",
    "                    hover_name=\"Province\", # column to add to hover information\n",
    "                    animation_frame=\"Year\", # column on which to animate\n",
    "                    color_continuous_scale=px.colors.cyclical.IceFire # or .sequential.Plasma\n",
    "                    \n",
    ")\n",
    "\n",
    "fig.update_geos(fitbounds=\"locations\", visible=False)\n",
    "\n",
    "fig.show()"
   ]
  },
  {
   "cell_type": "code",
   "execution_count": null,
   "metadata": {},
   "outputs": [],
   "source": []
  }
 ],
 "metadata": {
  "kernelspec": {
   "display_name": "Python 3",
   "language": "python",
   "name": "python3"
  },
  "language_info": {
   "codemirror_mode": {
    "name": "ipython",
    "version": 3
   },
   "file_extension": ".py",
   "mimetype": "text/x-python",
   "name": "python",
   "nbconvert_exporter": "python",
   "pygments_lexer": "ipython3",
   "version": "3.8.3"
  }
 },
 "nbformat": 4,
 "nbformat_minor": 4
}
