{
 "cells": [
  {
   "cell_type": "code",
   "execution_count": null,
   "metadata": {},
   "outputs": [],
   "source": [
    "import pandas as pd\n",
    "\n",
    "thaiPop = pd.read_excel('Thai_population_collected.xlsx')"
   ]
  },
  {
   "cell_type": "code",
   "execution_count": null,
   "metadata": {},
   "outputs": [],
   "source": [
    "thaiPop.info()"
   ]
  },
  {
   "cell_type": "code",
   "execution_count": null,
   "metadata": {},
   "outputs": [],
   "source": [
    "thaiPop.head(770)"
   ]
  },
  {
   "cell_type": "code",
   "execution_count": null,
   "metadata": {
    "scrolled": false
   },
   "outputs": [],
   "source": [
    "import plotly.express as px\n",
    "fig = px.choropleth(thaiPop,\n",
    "                    geojson=\"https://raw.githubusercontent.com/cvibhagool/thailand-map/master/thailand-provinces.geojson\",\n",
    "                    featureidkey='properties.NAME_1',\n",
    "                    locations='Province',\n",
    "                    color='Population',\n",
    "                    hover_name=\"Province\", # column to add to hover information\n",
    "                    animation_frame=\"Year\", # column on which to animate\n",
    "                    color_continuous_scale=px.colors.sequential.Plasma # .sequential.Plasma or .cyclical.IceFire\n",
    "                    \n",
    ")\n",
    "\n",
    "# fig.update_geos(fitbounds=\"locations\", visible=False)\n",
    "\n",
    "fig.show()"
   ]
  },
  {
   "cell_type": "code",
   "execution_count": null,
   "metadata": {},
   "outputs": [],
   "source": []
  }
 ],
 "metadata": {
  "kernelspec": {
   "display_name": "Python 3",
   "language": "python",
   "name": "python3"
  },
  "language_info": {
   "codemirror_mode": {
    "name": "ipython",
    "version": 3
   },
   "file_extension": ".py",
   "mimetype": "text/x-python",
   "name": "python",
   "nbconvert_exporter": "python",
   "pygments_lexer": "ipython3",
   "version": "3.8.3"
  }
 },
 "nbformat": 4,
 "nbformat_minor": 4
}
